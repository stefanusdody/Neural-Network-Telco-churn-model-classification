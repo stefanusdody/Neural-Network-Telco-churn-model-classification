{
 "cells": [
  {
   "cell_type": "markdown",
   "metadata": {
    "id": "D8IndcEQpOAl"
   },
   "source": [
    "# Introduction\n"
   ]
  },
  {
   "cell_type": "markdown",
   "metadata": {
    "id": "7tBcaMomryom"
   },
   "source": [
    "#### Dataset\n",
    "\n",
    "dataset berisi Perputaran Pelanggan Telekomunikasi dimana setiap baris mewakili pelanggan, setiap kolom berisi atribut pelanggan yang dijelaskan pada kolom Metadata.\n",
    "\n",
    "#### Sumber Data\n",
    "\n",
    "data asli berasal dari kaggle : https://www.kaggle.com/blastchar/telco-customer-churn\n",
    "\n",
    "#### Objective\n",
    "\n",
    "membuat model klasifikasi untuk melihat apakah Pelanggan yang pergi atau tidak\n",
    "\n",
    "#### Information\n",
    "\n",
    "*   Customers who left within the last month – the column is called Churn\n",
    "*  Services that each customer has signed up for – phone, multiple lines, internet, online security, online backup, device protection, tech support, and streaming TV and movies\n",
    "*  Customer account information – how long they’ve been a customer, contract, payment method, paperless billing, monthly charges, and total charges\n",
    "*  Demographic info about customers – gender, age range, and if they have partners and dependents"
   ]
  },
  {
   "cell_type": "markdown",
   "metadata": {
    "id": "A34PXFVIrtmh"
   },
   "source": [
    "# Import Pustaka"
   ]
  },
  {
   "cell_type": "code",
   "execution_count": 1,
   "metadata": {
    "colab": {
     "base_uri": "https://localhost:8080/"
    },
    "id": "uX5ZzMWNoTp_",
    "outputId": "a90bfe7a-f326-462f-dd90-8e4a07a0e85b"
   },
   "outputs": [
    {
     "name": "stdout",
     "output_type": "stream",
     "text": [
      "Drive already mounted at /content/drive; to attempt to forcibly remount, call drive.mount(\"/content/drive\", force_remount=True).\n"
     ]
    }
   ],
   "source": [
    "from google.colab import drive\n",
    "drive.mount('/content/drive')\n",
    "\n",
    "import pandas as pd\n",
    "import numpy as np\n",
    "import matplotlib.pyplot as plt\n",
    "import seaborn as sns\n",
    "\n",
    "%matplotlib inline\n",
    "\n",
    "import tensorflow as tf\n",
    "from tensorflow import keras\n",
    "from tensorflow.keras.callbacks import EarlyStopping\n",
    "from tensorflow.keras.layers import Dropout\n",
    "\n",
    "# for preprocessing\n",
    "from sklearn.model_selection import train_test_split \n",
    "from sklearn.preprocessing import StandardScaler\n",
    "\n",
    "# for feature selection\n",
    "from sklearn.ensemble import RandomForestClassifier\n",
    "\n",
    "# for evaluation\n",
    "from sklearn.metrics import confusion_matrix , classification_report\n",
    "from sklearn.metrics import roc_curve, auc\n",
    "from sklearn.metrics import roc_auc_score\n",
    "\n",
    "# for Hyperparameter tunning\n",
    "from scipy.stats import reciprocal\n",
    "from sklearn.model_selection import RandomizedSearchCV"
   ]
  },
  {
   "cell_type": "markdown",
   "metadata": {
    "id": "EhX1NcG4uC_F"
   },
   "source": [
    "# Data Loading"
   ]
  },
  {
   "cell_type": "code",
   "execution_count": 2,
   "metadata": {
    "id": "IkpmTeVpoWQm"
   },
   "outputs": [],
   "source": [
    "data = pd.read_csv('/content/drive/MyDrive/data_milestone/Telco-Customer-Churn.csv')"
   ]
  },
  {
   "cell_type": "markdown",
   "metadata": {
    "id": "cgRojzrjuQvs"
   },
   "source": [
    "#### melihat data teratas"
   ]
  },
  {
   "cell_type": "code",
   "execution_count": 3,
   "metadata": {
    "colab": {
     "base_uri": "https://localhost:8080/",
     "height": 292
    },
    "id": "hHE_Nv9QopMa",
    "outputId": "5acd983c-8f64-479f-9fb1-8d6ff6226971"
   },
   "outputs": [
    {
     "data": {
      "text/html": [
       "<div>\n",
       "<style scoped>\n",
       "    .dataframe tbody tr th:only-of-type {\n",
       "        vertical-align: middle;\n",
       "    }\n",
       "\n",
       "    .dataframe tbody tr th {\n",
       "        vertical-align: top;\n",
       "    }\n",
       "\n",
       "    .dataframe thead th {\n",
       "        text-align: right;\n",
       "    }\n",
       "</style>\n",
       "<table border=\"1\" class=\"dataframe\">\n",
       "  <thead>\n",
       "    <tr style=\"text-align: right;\">\n",
       "      <th></th>\n",
       "      <th>customerID</th>\n",
       "      <th>gender</th>\n",
       "      <th>SeniorCitizen</th>\n",
       "      <th>Partner</th>\n",
       "      <th>Dependents</th>\n",
       "      <th>tenure</th>\n",
       "      <th>PhoneService</th>\n",
       "      <th>MultipleLines</th>\n",
       "      <th>InternetService</th>\n",
       "      <th>OnlineSecurity</th>\n",
       "      <th>OnlineBackup</th>\n",
       "      <th>DeviceProtection</th>\n",
       "      <th>TechSupport</th>\n",
       "      <th>StreamingTV</th>\n",
       "      <th>StreamingMovies</th>\n",
       "      <th>Contract</th>\n",
       "      <th>PaperlessBilling</th>\n",
       "      <th>PaymentMethod</th>\n",
       "      <th>MonthlyCharges</th>\n",
       "      <th>TotalCharges</th>\n",
       "      <th>Churn</th>\n",
       "    </tr>\n",
       "  </thead>\n",
       "  <tbody>\n",
       "    <tr>\n",
       "      <th>0</th>\n",
       "      <td>7590-VHVEG</td>\n",
       "      <td>Female</td>\n",
       "      <td>0</td>\n",
       "      <td>Yes</td>\n",
       "      <td>No</td>\n",
       "      <td>1</td>\n",
       "      <td>No</td>\n",
       "      <td>No phone service</td>\n",
       "      <td>DSL</td>\n",
       "      <td>No</td>\n",
       "      <td>Yes</td>\n",
       "      <td>No</td>\n",
       "      <td>No</td>\n",
       "      <td>No</td>\n",
       "      <td>No</td>\n",
       "      <td>Month-to-month</td>\n",
       "      <td>Yes</td>\n",
       "      <td>Electronic check</td>\n",
       "      <td>29.85</td>\n",
       "      <td>29.85</td>\n",
       "      <td>No</td>\n",
       "    </tr>\n",
       "    <tr>\n",
       "      <th>1</th>\n",
       "      <td>5575-GNVDE</td>\n",
       "      <td>Male</td>\n",
       "      <td>0</td>\n",
       "      <td>No</td>\n",
       "      <td>No</td>\n",
       "      <td>34</td>\n",
       "      <td>Yes</td>\n",
       "      <td>No</td>\n",
       "      <td>DSL</td>\n",
       "      <td>Yes</td>\n",
       "      <td>No</td>\n",
       "      <td>Yes</td>\n",
       "      <td>No</td>\n",
       "      <td>No</td>\n",
       "      <td>No</td>\n",
       "      <td>One year</td>\n",
       "      <td>No</td>\n",
       "      <td>Mailed check</td>\n",
       "      <td>56.95</td>\n",
       "      <td>1889.5</td>\n",
       "      <td>No</td>\n",
       "    </tr>\n",
       "    <tr>\n",
       "      <th>2</th>\n",
       "      <td>3668-QPYBK</td>\n",
       "      <td>Male</td>\n",
       "      <td>0</td>\n",
       "      <td>No</td>\n",
       "      <td>No</td>\n",
       "      <td>2</td>\n",
       "      <td>Yes</td>\n",
       "      <td>No</td>\n",
       "      <td>DSL</td>\n",
       "      <td>Yes</td>\n",
       "      <td>Yes</td>\n",
       "      <td>No</td>\n",
       "      <td>No</td>\n",
       "      <td>No</td>\n",
       "      <td>No</td>\n",
       "      <td>Month-to-month</td>\n",
       "      <td>Yes</td>\n",
       "      <td>Mailed check</td>\n",
       "      <td>53.85</td>\n",
       "      <td>108.15</td>\n",
       "      <td>Yes</td>\n",
       "    </tr>\n",
       "    <tr>\n",
       "      <th>3</th>\n",
       "      <td>7795-CFOCW</td>\n",
       "      <td>Male</td>\n",
       "      <td>0</td>\n",
       "      <td>No</td>\n",
       "      <td>No</td>\n",
       "      <td>45</td>\n",
       "      <td>No</td>\n",
       "      <td>No phone service</td>\n",
       "      <td>DSL</td>\n",
       "      <td>Yes</td>\n",
       "      <td>No</td>\n",
       "      <td>Yes</td>\n",
       "      <td>Yes</td>\n",
       "      <td>No</td>\n",
       "      <td>No</td>\n",
       "      <td>One year</td>\n",
       "      <td>No</td>\n",
       "      <td>Bank transfer (automatic)</td>\n",
       "      <td>42.30</td>\n",
       "      <td>1840.75</td>\n",
       "      <td>No</td>\n",
       "    </tr>\n",
       "    <tr>\n",
       "      <th>4</th>\n",
       "      <td>9237-HQITU</td>\n",
       "      <td>Female</td>\n",
       "      <td>0</td>\n",
       "      <td>No</td>\n",
       "      <td>No</td>\n",
       "      <td>2</td>\n",
       "      <td>Yes</td>\n",
       "      <td>No</td>\n",
       "      <td>Fiber optic</td>\n",
       "      <td>No</td>\n",
       "      <td>No</td>\n",
       "      <td>No</td>\n",
       "      <td>No</td>\n",
       "      <td>No</td>\n",
       "      <td>No</td>\n",
       "      <td>Month-to-month</td>\n",
       "      <td>Yes</td>\n",
       "      <td>Electronic check</td>\n",
       "      <td>70.70</td>\n",
       "      <td>151.65</td>\n",
       "      <td>Yes</td>\n",
       "    </tr>\n",
       "  </tbody>\n",
       "</table>\n",
       "</div>"
      ],
      "text/plain": [
       "   customerID  gender  SeniorCitizen  ... MonthlyCharges TotalCharges  Churn\n",
       "0  7590-VHVEG  Female              0  ...          29.85        29.85     No\n",
       "1  5575-GNVDE    Male              0  ...          56.95       1889.5     No\n",
       "2  3668-QPYBK    Male              0  ...          53.85       108.15    Yes\n",
       "3  7795-CFOCW    Male              0  ...          42.30      1840.75     No\n",
       "4  9237-HQITU  Female              0  ...          70.70       151.65    Yes\n",
       "\n",
       "[5 rows x 21 columns]"
      ]
     },
     "execution_count": 3,
     "metadata": {},
     "output_type": "execute_result"
    }
   ],
   "source": [
    "data.head()"
   ]
  },
  {
   "cell_type": "markdown",
   "metadata": {
    "id": "hmuLykTBub6N"
   },
   "source": [
    "#### melihat data terbawah"
   ]
  },
  {
   "cell_type": "code",
   "execution_count": 4,
   "metadata": {
    "colab": {
     "base_uri": "https://localhost:8080/",
     "height": 292
    },
    "id": "LhE0ucrVue7v",
    "outputId": "a6bb32e3-a719-402c-a8ef-8a4b0a43a120"
   },
   "outputs": [
    {
     "data": {
      "text/html": [
       "<div>\n",
       "<style scoped>\n",
       "    .dataframe tbody tr th:only-of-type {\n",
       "        vertical-align: middle;\n",
       "    }\n",
       "\n",
       "    .dataframe tbody tr th {\n",
       "        vertical-align: top;\n",
       "    }\n",
       "\n",
       "    .dataframe thead th {\n",
       "        text-align: right;\n",
       "    }\n",
       "</style>\n",
       "<table border=\"1\" class=\"dataframe\">\n",
       "  <thead>\n",
       "    <tr style=\"text-align: right;\">\n",
       "      <th></th>\n",
       "      <th>customerID</th>\n",
       "      <th>gender</th>\n",
       "      <th>SeniorCitizen</th>\n",
       "      <th>Partner</th>\n",
       "      <th>Dependents</th>\n",
       "      <th>tenure</th>\n",
       "      <th>PhoneService</th>\n",
       "      <th>MultipleLines</th>\n",
       "      <th>InternetService</th>\n",
       "      <th>OnlineSecurity</th>\n",
       "      <th>OnlineBackup</th>\n",
       "      <th>DeviceProtection</th>\n",
       "      <th>TechSupport</th>\n",
       "      <th>StreamingTV</th>\n",
       "      <th>StreamingMovies</th>\n",
       "      <th>Contract</th>\n",
       "      <th>PaperlessBilling</th>\n",
       "      <th>PaymentMethod</th>\n",
       "      <th>MonthlyCharges</th>\n",
       "      <th>TotalCharges</th>\n",
       "      <th>Churn</th>\n",
       "    </tr>\n",
       "  </thead>\n",
       "  <tbody>\n",
       "    <tr>\n",
       "      <th>7038</th>\n",
       "      <td>6840-RESVB</td>\n",
       "      <td>Male</td>\n",
       "      <td>0</td>\n",
       "      <td>Yes</td>\n",
       "      <td>Yes</td>\n",
       "      <td>24</td>\n",
       "      <td>Yes</td>\n",
       "      <td>Yes</td>\n",
       "      <td>DSL</td>\n",
       "      <td>Yes</td>\n",
       "      <td>No</td>\n",
       "      <td>Yes</td>\n",
       "      <td>Yes</td>\n",
       "      <td>Yes</td>\n",
       "      <td>Yes</td>\n",
       "      <td>One year</td>\n",
       "      <td>Yes</td>\n",
       "      <td>Mailed check</td>\n",
       "      <td>84.80</td>\n",
       "      <td>1990.5</td>\n",
       "      <td>No</td>\n",
       "    </tr>\n",
       "    <tr>\n",
       "      <th>7039</th>\n",
       "      <td>2234-XADUH</td>\n",
       "      <td>Female</td>\n",
       "      <td>0</td>\n",
       "      <td>Yes</td>\n",
       "      <td>Yes</td>\n",
       "      <td>72</td>\n",
       "      <td>Yes</td>\n",
       "      <td>Yes</td>\n",
       "      <td>Fiber optic</td>\n",
       "      <td>No</td>\n",
       "      <td>Yes</td>\n",
       "      <td>Yes</td>\n",
       "      <td>No</td>\n",
       "      <td>Yes</td>\n",
       "      <td>Yes</td>\n",
       "      <td>One year</td>\n",
       "      <td>Yes</td>\n",
       "      <td>Credit card (automatic)</td>\n",
       "      <td>103.20</td>\n",
       "      <td>7362.9</td>\n",
       "      <td>No</td>\n",
       "    </tr>\n",
       "    <tr>\n",
       "      <th>7040</th>\n",
       "      <td>4801-JZAZL</td>\n",
       "      <td>Female</td>\n",
       "      <td>0</td>\n",
       "      <td>Yes</td>\n",
       "      <td>Yes</td>\n",
       "      <td>11</td>\n",
       "      <td>No</td>\n",
       "      <td>No phone service</td>\n",
       "      <td>DSL</td>\n",
       "      <td>Yes</td>\n",
       "      <td>No</td>\n",
       "      <td>No</td>\n",
       "      <td>No</td>\n",
       "      <td>No</td>\n",
       "      <td>No</td>\n",
       "      <td>Month-to-month</td>\n",
       "      <td>Yes</td>\n",
       "      <td>Electronic check</td>\n",
       "      <td>29.60</td>\n",
       "      <td>346.45</td>\n",
       "      <td>No</td>\n",
       "    </tr>\n",
       "    <tr>\n",
       "      <th>7041</th>\n",
       "      <td>8361-LTMKD</td>\n",
       "      <td>Male</td>\n",
       "      <td>1</td>\n",
       "      <td>Yes</td>\n",
       "      <td>No</td>\n",
       "      <td>4</td>\n",
       "      <td>Yes</td>\n",
       "      <td>Yes</td>\n",
       "      <td>Fiber optic</td>\n",
       "      <td>No</td>\n",
       "      <td>No</td>\n",
       "      <td>No</td>\n",
       "      <td>No</td>\n",
       "      <td>No</td>\n",
       "      <td>No</td>\n",
       "      <td>Month-to-month</td>\n",
       "      <td>Yes</td>\n",
       "      <td>Mailed check</td>\n",
       "      <td>74.40</td>\n",
       "      <td>306.6</td>\n",
       "      <td>Yes</td>\n",
       "    </tr>\n",
       "    <tr>\n",
       "      <th>7042</th>\n",
       "      <td>3186-AJIEK</td>\n",
       "      <td>Male</td>\n",
       "      <td>0</td>\n",
       "      <td>No</td>\n",
       "      <td>No</td>\n",
       "      <td>66</td>\n",
       "      <td>Yes</td>\n",
       "      <td>No</td>\n",
       "      <td>Fiber optic</td>\n",
       "      <td>Yes</td>\n",
       "      <td>No</td>\n",
       "      <td>Yes</td>\n",
       "      <td>Yes</td>\n",
       "      <td>Yes</td>\n",
       "      <td>Yes</td>\n",
       "      <td>Two year</td>\n",
       "      <td>Yes</td>\n",
       "      <td>Bank transfer (automatic)</td>\n",
       "      <td>105.65</td>\n",
       "      <td>6844.5</td>\n",
       "      <td>No</td>\n",
       "    </tr>\n",
       "  </tbody>\n",
       "</table>\n",
       "</div>"
      ],
      "text/plain": [
       "      customerID  gender  SeniorCitizen  ... MonthlyCharges TotalCharges  Churn\n",
       "7038  6840-RESVB    Male              0  ...          84.80       1990.5     No\n",
       "7039  2234-XADUH  Female              0  ...         103.20       7362.9     No\n",
       "7040  4801-JZAZL  Female              0  ...          29.60       346.45     No\n",
       "7041  8361-LTMKD    Male              1  ...          74.40        306.6    Yes\n",
       "7042  3186-AJIEK    Male              0  ...         105.65       6844.5     No\n",
       "\n",
       "[5 rows x 21 columns]"
      ]
     },
     "execution_count": 4,
     "metadata": {},
     "output_type": "execute_result"
    }
   ],
   "source": [
    "data.tail()"
   ]
  },
  {
   "cell_type": "markdown",
   "metadata": {
    "id": "PKXJ-Qp1uiev"
   },
   "source": [
    "#### melihat informasi data"
   ]
  },
  {
   "cell_type": "code",
   "execution_count": 5,
   "metadata": {
    "colab": {
     "base_uri": "https://localhost:8080/"
    },
    "id": "iYm7o7fpul3j",
    "outputId": "0d3910c4-c98d-429f-f256-5c9ea90fc2de"
   },
   "outputs": [
    {
     "name": "stdout",
     "output_type": "stream",
     "text": [
      "<class 'pandas.core.frame.DataFrame'>\n",
      "RangeIndex: 7043 entries, 0 to 7042\n",
      "Data columns (total 21 columns):\n",
      " #   Column            Non-Null Count  Dtype  \n",
      "---  ------            --------------  -----  \n",
      " 0   customerID        7043 non-null   object \n",
      " 1   gender            7043 non-null   object \n",
      " 2   SeniorCitizen     7043 non-null   int64  \n",
      " 3   Partner           7043 non-null   object \n",
      " 4   Dependents        7043 non-null   object \n",
      " 5   tenure            7043 non-null   int64  \n",
      " 6   PhoneService      7043 non-null   object \n",
      " 7   MultipleLines     7043 non-null   object \n",
      " 8   InternetService   7043 non-null   object \n",
      " 9   OnlineSecurity    7043 non-null   object \n",
      " 10  OnlineBackup      7043 non-null   object \n",
      " 11  DeviceProtection  7043 non-null   object \n",
      " 12  TechSupport       7043 non-null   object \n",
      " 13  StreamingTV       7043 non-null   object \n",
      " 14  StreamingMovies   7043 non-null   object \n",
      " 15  Contract          7043 non-null   object \n",
      " 16  PaperlessBilling  7043 non-null   object \n",
      " 17  PaymentMethod     7043 non-null   object \n",
      " 18  MonthlyCharges    7043 non-null   float64\n",
      " 19  TotalCharges      7043 non-null   object \n",
      " 20  Churn             7043 non-null   object \n",
      "dtypes: float64(1), int64(2), object(18)\n",
      "memory usage: 1.1+ MB\n"
     ]
    }
   ],
   "source": [
    "data.info()"
   ]
  },
  {
   "cell_type": "markdown",
   "metadata": {
    "id": "6I6p6cfquqt7"
   },
   "source": [
    "#### melihat statistika data"
   ]
  },
  {
   "cell_type": "code",
   "execution_count": 6,
   "metadata": {
    "colab": {
     "base_uri": "https://localhost:8080/",
     "height": 297
    },
    "id": "D2rU0OK8uz3C",
    "outputId": "418132cf-ef42-4152-ad82-883a1728b71f"
   },
   "outputs": [
    {
     "data": {
      "text/html": [
       "<div>\n",
       "<style scoped>\n",
       "    .dataframe tbody tr th:only-of-type {\n",
       "        vertical-align: middle;\n",
       "    }\n",
       "\n",
       "    .dataframe tbody tr th {\n",
       "        vertical-align: top;\n",
       "    }\n",
       "\n",
       "    .dataframe thead th {\n",
       "        text-align: right;\n",
       "    }\n",
       "</style>\n",
       "<table border=\"1\" class=\"dataframe\">\n",
       "  <thead>\n",
       "    <tr style=\"text-align: right;\">\n",
       "      <th></th>\n",
       "      <th>SeniorCitizen</th>\n",
       "      <th>tenure</th>\n",
       "      <th>MonthlyCharges</th>\n",
       "    </tr>\n",
       "  </thead>\n",
       "  <tbody>\n",
       "    <tr>\n",
       "      <th>count</th>\n",
       "      <td>7043.000000</td>\n",
       "      <td>7043.000000</td>\n",
       "      <td>7043.000000</td>\n",
       "    </tr>\n",
       "    <tr>\n",
       "      <th>mean</th>\n",
       "      <td>0.162147</td>\n",
       "      <td>32.371149</td>\n",
       "      <td>64.761692</td>\n",
       "    </tr>\n",
       "    <tr>\n",
       "      <th>std</th>\n",
       "      <td>0.368612</td>\n",
       "      <td>24.559481</td>\n",
       "      <td>30.090047</td>\n",
       "    </tr>\n",
       "    <tr>\n",
       "      <th>min</th>\n",
       "      <td>0.000000</td>\n",
       "      <td>0.000000</td>\n",
       "      <td>18.250000</td>\n",
       "    </tr>\n",
       "    <tr>\n",
       "      <th>25%</th>\n",
       "      <td>0.000000</td>\n",
       "      <td>9.000000</td>\n",
       "      <td>35.500000</td>\n",
       "    </tr>\n",
       "    <tr>\n",
       "      <th>50%</th>\n",
       "      <td>0.000000</td>\n",
       "      <td>29.000000</td>\n",
       "      <td>70.350000</td>\n",
       "    </tr>\n",
       "    <tr>\n",
       "      <th>75%</th>\n",
       "      <td>0.000000</td>\n",
       "      <td>55.000000</td>\n",
       "      <td>89.850000</td>\n",
       "    </tr>\n",
       "    <tr>\n",
       "      <th>max</th>\n",
       "      <td>1.000000</td>\n",
       "      <td>72.000000</td>\n",
       "      <td>118.750000</td>\n",
       "    </tr>\n",
       "  </tbody>\n",
       "</table>\n",
       "</div>"
      ],
      "text/plain": [
       "       SeniorCitizen       tenure  MonthlyCharges\n",
       "count    7043.000000  7043.000000     7043.000000\n",
       "mean        0.162147    32.371149       64.761692\n",
       "std         0.368612    24.559481       30.090047\n",
       "min         0.000000     0.000000       18.250000\n",
       "25%         0.000000     9.000000       35.500000\n",
       "50%         0.000000    29.000000       70.350000\n",
       "75%         0.000000    55.000000       89.850000\n",
       "max         1.000000    72.000000      118.750000"
      ]
     },
     "execution_count": 6,
     "metadata": {},
     "output_type": "execute_result"
    }
   ],
   "source": [
    "data.describe()"
   ]
  },
  {
   "cell_type": "markdown",
   "metadata": {
    "id": "NoA0byc9Q4JQ"
   },
   "source": [
    "#### melihat ukuran data"
   ]
  },
  {
   "cell_type": "code",
   "execution_count": 7,
   "metadata": {
    "colab": {
     "base_uri": "https://localhost:8080/"
    },
    "id": "KB0JErUGQ4JQ",
    "outputId": "4f4d6b2f-9afd-482f-ec82-cc8965dc2516"
   },
   "outputs": [
    {
     "data": {
      "text/plain": [
       "(7043, 21)"
      ]
     },
     "execution_count": 7,
     "metadata": {},
     "output_type": "execute_result"
    }
   ],
   "source": [
    "data.shape"
   ]
  },
  {
   "cell_type": "markdown",
   "metadata": {
    "id": "FNNHRPYAQ4JS"
   },
   "source": [
    "data terdiri atas 7043 rows dan 21 columns "
   ]
  },
  {
   "cell_type": "markdown",
   "metadata": {
    "id": "14uvGpGDwOqi"
   },
   "source": [
    "# Data Cleaning"
   ]
  },
  {
   "cell_type": "markdown",
   "metadata": {
    "id": "QaqySskCyIm3"
   },
   "source": [
    "#### melihat missing values"
   ]
  },
  {
   "cell_type": "code",
   "execution_count": 8,
   "metadata": {
    "colab": {
     "base_uri": "https://localhost:8080/",
     "height": 0
    },
    "id": "BuHvDx_HQ4JT",
    "outputId": "53e5d0e1-b83e-4f3b-c5a8-5f489f4d3e20"
   },
   "outputs": [
    {
     "data": {
      "image/png": "[encoded data removed]",
      "text/plain": [
       "<Figure size 432x288 with 1 Axes>"
      ]
     },
     "metadata": {
      "needs_background": "light"
     },
     "output_type": "display_data"
    }
   ],
   "source": [
    "sns.heatmap(data.isnull(), yticklabels = False, cbar = False, cmap=\"Blues\");"
   ]
  },
  {
   "cell_type": "code",
   "execution_count": 9,
   "metadata": {
    "colab": {
     "base_uri": "https://localhost:8080/"
    },
    "id": "z5fswF7gyL0h",
    "outputId": "2945197d-2ead-4a1c-bae0-45b1604d2a41"
   },
   "outputs": [
    {
     "data": {
      "text/plain": [
       "customerID          0\n",
       "gender              0\n",
       "SeniorCitizen       0\n",
       "Partner             0\n",
       "Dependents          0\n",
       "tenure              0\n",
       "PhoneService        0\n",
       "MultipleLines       0\n",
       "InternetService     0\n",
       "OnlineSecurity      0\n",
       "OnlineBackup        0\n",
       "DeviceProtection    0\n",
       "TechSupport         0\n",
       "StreamingTV         0\n",
       "StreamingMovies     0\n",
       "Contract            0\n",
       "PaperlessBilling    0\n",
       "PaymentMethod       0\n",
       "MonthlyCharges      0\n",
       "TotalCharges        0\n",
       "Churn               0\n",
       "dtype: int64"
      ]
     },
     "execution_count": 9,
     "metadata": {},
     "output_type": "execute_result"
    }
   ],
   "source": [
    "data.isna().sum()"
   ]
  },
  {
   "cell_type": "markdown",
   "metadata": {
    "id": "cB59tiNuyXhs"
   },
   "source": [
    "tidak ada missing values dalam data"
   ]
  },
  {
   "cell_type": "markdown",
   "metadata": {
    "id": "-ToVdMvdQ4JV"
   },
   "source": [
    "#### mengubah feature TotalCharges menjadi datatypes float"
   ]
  },
  {
   "cell_type": "code",
   "execution_count": 10,
   "metadata": {
    "id": "QGX_PGSPQ4JV"
   },
   "outputs": [],
   "source": [
    "data['TotalCharges'] = data['TotalCharges'].replace(\" \", 0).astype('float64')"
   ]
  },
  {
   "cell_type": "markdown",
   "metadata": {
    "id": "yxok8STwQ4JW"
   },
   "source": [
    "#### melihat informasi data"
   ]
  },
  {
   "cell_type": "code",
   "execution_count": 11,
   "metadata": {
    "colab": {
     "base_uri": "https://localhost:8080/"
    },
    "id": "EYI6dlkSQ4JW",
    "outputId": "49befe86-1e99-40f1-b325-fdfacdb36129"
   },
   "outputs": [
    {
     "name": "stdout",
     "output_type": "stream",
     "text": [
      "<class 'pandas.core.frame.DataFrame'>\n",
      "RangeIndex: 7043 entries, 0 to 7042\n",
      "Data columns (total 21 columns):\n",
      " #   Column            Non-Null Count  Dtype  \n",
      "---  ------            --------------  -----  \n",
      " 0   customerID        7043 non-null   object \n",
      " 1   gender            7043 non-null   object \n",
      " 2   SeniorCitizen     7043 non-null   int64  \n",
      " 3   Partner           7043 non-null   object \n",
      " 4   Dependents        7043 non-null   object \n",
      " 5   tenure            7043 non-null   int64  \n",
      " 6   PhoneService      7043 non-null   object \n",
      " 7   MultipleLines     7043 non-null   object \n",
      " 8   InternetService   7043 non-null   object \n",
      " 9   OnlineSecurity    7043 non-null   object \n",
      " 10  OnlineBackup      7043 non-null   object \n",
      " 11  DeviceProtection  7043 non-null   object \n",
      " 12  TechSupport       7043 non-null   object \n",
      " 13  StreamingTV       7043 non-null   object \n",
      " 14  StreamingMovies   7043 non-null   object \n",
      " 15  Contract          7043 non-null   object \n",
      " 16  PaperlessBilling  7043 non-null   object \n",
      " 17  PaymentMethod     7043 non-null   object \n",
      " 18  MonthlyCharges    7043 non-null   float64\n",
      " 19  TotalCharges      7043 non-null   float64\n",
      " 20  Churn             7043 non-null   object \n",
      "dtypes: float64(2), int64(2), object(17)\n",
      "memory usage: 1.1+ MB\n"
     ]
    }
   ],
   "source": [
    "data.info()"
   ]
  },
  {
   "cell_type": "markdown",
   "metadata": {
    "id": "frPaXl4xyeR_"
   },
   "source": [
    "# Explorasi Data Analysis"
   ]
  },
  {
   "cell_type": "code",
   "execution_count": 12,
   "metadata": {
    "colab": {
     "base_uri": "https://localhost:8080/",
     "height": 0
    },
    "id": "_AYwRvBRylvM",
    "outputId": "edb50b97-afd7-47b5-bc8b-4bcfeedc81e7"
   },
   "outputs": [
    {
     "data": {
      "image/png": "[encoded data removed]",
      "text/plain": [
       "<Figure size 1440x1080 with 2 Axes>"
      ]
     },
     "metadata": {
      "needs_background": "light"
     },
     "output_type": "display_data"
    }
   ],
   "source": [
    "corr = data.corr()\n",
    "f, ax = plt.subplots(figsize = (20, 15))\n",
    "sns.heatmap(corr, annot = True);"
   ]
  },
  {
   "cell_type": "markdown",
   "metadata": {
    "id": "OsY4nShSm2Su"
   },
   "source": [
    "dari visualisasi telihat bahwa feature 'tenure' dan feature 'TotalCharges' memiliki korelasi yang tinggi"
   ]
  },
  {
   "cell_type": "code",
   "execution_count": 13,
   "metadata": {
    "colab": {
     "base_uri": "https://localhost:8080/",
     "height": 0
    },
    "id": "wa1LOi2um2Sv",
    "outputId": "ef92aa44-20d2-40bc-92df-895dca56fdb9"
   },
   "outputs": [
    {
     "data": {
      "text/plain": [
       "<matplotlib.axes._subplots.AxesSubplot at 0x7fe22c000c50>"
      ]
     },
     "execution_count": 13,
     "metadata": {},
     "output_type": "execute_result"
    },
    {
     "data": {
      "image/png": "[encoded data removed]",
      "text/plain": [
       "<Figure size 432x288 with 1 Axes>"
      ]
     },
     "metadata": {
      "needs_background": "light"
     },
     "output_type": "display_data"
    }
   ],
   "source": [
    "sns.scatterplot(x='tenure',y='TotalCharges',data=data)"
   ]
  },
  {
   "cell_type": "markdown",
   "metadata": {
    "id": "dZJmILQJQ4JX"
   },
   "source": [
    "### Visualisasi Churn Features"
   ]
  },
  {
   "cell_type": "code",
   "execution_count": 14,
   "metadata": {
    "colab": {
     "base_uri": "https://localhost:8080/"
    },
    "id": "mW4VtoYbQ4JY",
    "outputId": "ab85674b-c344-4f85-e0a9-487a98fcddad"
   },
   "outputs": [
    {
     "name": "stdout",
     "output_type": "stream",
     "text": [
      "Total Pelanggan  = 7043\n",
      "Total Pelanggan yang beralih =  1869\n",
      "Total Pelanggan tidak beralih = 5174\n"
     ]
    }
   ],
   "source": [
    "not_churn = data[data['Churn'] == 'No']\n",
    "churn = data[data['Churn'] == 'Yes']\n",
    "\n",
    "print(\"Total Pelanggan  =\", len(data))\n",
    "print(\"Total Pelanggan yang beralih = \", len(churn))\n",
    "print(\"Total Pelanggan tidak beralih =\", len(not_churn))"
   ]
  },
  {
   "cell_type": "code",
   "execution_count": 15,
   "metadata": {
    "colab": {
     "base_uri": "https://localhost:8080/",
     "height": 0
    },
    "id": "FXHv1-gyQ4JY",
    "outputId": "a68a0c1d-7bcb-49ec-d72f-014a95b23f2c"
   },
   "outputs": [
    {
     "data": {
      "image/png": "[encoded data removed]",
      "text/plain": [
       "<Figure size 576x576 with 1 Axes>"
      ]
     },
     "metadata": {},
     "output_type": "display_data"
    }
   ],
   "source": [
    "plt.figure(figsize=(8,8))\n",
    "data['Churn'].value_counts().plot.pie(explode=[0,0.05], autopct='%1.1f%%', shadow=True);"
   ]
  },
  {
   "cell_type": "markdown",
   "metadata": {
    "id": "Ht_Pwg0yQ4JZ"
   },
   "source": [
    "Dari Visualisasi terlihat bahwa pelanggan telekomunikasi yang beralih sebesar 26.5% dan yang tidak beralih 73.5%"
   ]
  },
  {
   "cell_type": "markdown",
   "metadata": {
    "id": "_VCMcOPpQ4JZ"
   },
   "source": [
    "### Numerical Features"
   ]
  },
  {
   "cell_type": "code",
   "execution_count": 16,
   "metadata": {
    "colab": {
     "base_uri": "https://localhost:8080/"
    },
    "id": "7MGXpuX5Q4Ja",
    "outputId": "e212f28e-aa00-4ab4-e44b-163aeda18387"
   },
   "outputs": [
    {
     "name": "stdout",
     "output_type": "stream",
     "text": [
      "Jumlah Numerical Features 4\n"
     ]
    }
   ],
   "source": [
    "Numerical_features = [feature for feature in data.columns if data[feature].dtypes!='O']\n",
    "\n",
    "print(\"Jumlah Numerical Features {}\".format(len(Numerical_features)))"
   ]
  },
  {
   "cell_type": "markdown",
   "metadata": {
    "id": "LK9S5OuEQ4Ja"
   },
   "source": [
    "#### Discrete Features"
   ]
  },
  {
   "cell_type": "code",
   "execution_count": 17,
   "metadata": {
    "colab": {
     "base_uri": "https://localhost:8080/"
    },
    "id": "wyZqvXoCQ4Ja",
    "outputId": "34efb400-b42a-4d67-9005-7c58b9257a49"
   },
   "outputs": [
    {
     "name": "stdout",
     "output_type": "stream",
     "text": [
      "Discrete Features Count: 1\n",
      "Discrete Features :  ['SeniorCitizen']\n"
     ]
    }
   ],
   "source": [
    "discrete_features =[feature for feature in Numerical_features if data[feature].nunique()<10 ]\n",
    "\n",
    "print(\"Discrete Features Count: {}\".format(len(discrete_features)))\n",
    "print(\"Discrete Features : \", discrete_features )"
   ]
  },
  {
   "cell_type": "markdown",
   "metadata": {
    "id": "4IjMD3wSQ4Jb"
   },
   "source": [
    "#### Continous Features"
   ]
  },
  {
   "cell_type": "code",
   "execution_count": 18,
   "metadata": {
    "colab": {
     "base_uri": "https://localhost:8080/"
    },
    "id": "H2i0kPVuQ4Jb",
    "outputId": "0b0e93bd-76cd-4cf8-e4ce-a53fb563dca9"
   },
   "outputs": [
    {
     "name": "stdout",
     "output_type": "stream",
     "text": [
      "Continous Features Count: 3\n",
      "Continous Features :  ['tenure', 'MonthlyCharges', 'TotalCharges']\n"
     ]
    }
   ],
   "source": [
    "continous_features =[feature for feature in Numerical_features if feature not in discrete_features ]\n",
    "\n",
    "print(\"Continous Features Count: {}\".format(len(continous_features)))\n",
    "print(\"Continous Features : \", continous_features )"
   ]
  },
  {
   "cell_type": "markdown",
   "metadata": {
    "id": "atlWv5knQ4Jb"
   },
   "source": [
    "### Visualisasi Hubungan Feature SeniorCitizen dan feature Churn"
   ]
  },
  {
   "cell_type": "code",
   "execution_count": 19,
   "metadata": {
    "colab": {
     "base_uri": "https://localhost:8080/",
     "height": 0
    },
    "id": "VYmwB2LXQ4Jc",
    "outputId": "6a9531eb-a008-49d9-a4ba-cd9fb314c9c6"
   },
   "outputs": [
    {
     "name": "stderr",
     "output_type": "stream",
     "text": [
      "/usr/local/lib/python3.7/dist-packages/seaborn/distributions.py:2619: FutureWarning: `distplot` is a deprecated function and will be removed in a future version. Please adapt your code to use either `displot` (a figure-level function with similar flexibility) or `histplot` (an axes-level function for histograms).\n",
      "  warnings.warn(msg, FutureWarning)\n",
      "/usr/local/lib/python3.7/dist-packages/seaborn/distributions.py:2619: FutureWarning: `distplot` is a deprecated function and will be removed in a future version. Please adapt your code to use either `displot` (a figure-level function with similar flexibility) or `histplot` (an axes-level function for histograms).\n",
      "  warnings.warn(msg, FutureWarning)\n"
     ]
    },
    {
     "data": {
      "image/png": "[encoded data removed]",
      "text/plain": [
       "<Figure size 1440x576 with 1 Axes>"
      ]
     },
     "metadata": {
      "needs_background": "light"
     },
     "output_type": "display_data"
    }
   ],
   "source": [
    "plt.figure(figsize=(20,8))\n",
    "sns.distplot(data['SeniorCitizen'][data['Churn'] == \"No\"], bins=[0,1], color='b', label='Not Churn')\n",
    "sns.distplot(data['SeniorCitizen'][data['Churn'] == \"Yes\"], bins=[0,1], color='r', label='Churn')\n",
    "plt.legend();"
   ]
  },
  {
   "cell_type": "markdown",
   "metadata": {
    "id": "LzUTtT8LQ4Jc"
   },
   "source": [
    "Dari visualisasi terlihat bahwa pelanggan dengan Senior Citizen cenderung tidak beralih"
   ]
  },
  {
   "cell_type": "markdown",
   "metadata": {
    "id": "u59fer6uQ4Jc"
   },
   "source": [
    "# Visualisasi Hubungan Feature Tenure dan feature Churn"
   ]
  },
  {
   "cell_type": "code",
   "execution_count": 20,
   "metadata": {
    "colab": {
     "base_uri": "https://localhost:8080/",
     "height": 0
    },
    "id": "IOYQr_nYQ4Jd",
    "outputId": "3960d08b-de7f-4266-db7d-1939360bc8af"
   },
   "outputs": [
    {
     "name": "stderr",
     "output_type": "stream",
     "text": [
      "/usr/local/lib/python3.7/dist-packages/seaborn/distributions.py:2619: FutureWarning: `distplot` is a deprecated function and will be removed in a future version. Please adapt your code to use either `displot` (a figure-level function with similar flexibility) or `histplot` (an axes-level function for histograms).\n",
      "  warnings.warn(msg, FutureWarning)\n",
      "/usr/local/lib/python3.7/dist-packages/seaborn/distributions.py:2619: FutureWarning: `distplot` is a deprecated function and will be removed in a future version. Please adapt your code to use either `displot` (a figure-level function with similar flexibility) or `histplot` (an axes-level function for histograms).\n",
      "  warnings.warn(msg, FutureWarning)\n"
     ]
    },
    {
     "data": {
      "image/png": "[encoded data removed]",
      "text/plain": [
       "<Figure size 1440x576 with 1 Axes>"
      ]
     },
     "metadata": {
      "needs_background": "light"
     },
     "output_type": "display_data"
    }
   ],
   "source": [
    "plt.figure(figsize=(20,8))\n",
    "sns.distplot(data['tenure'][data['Churn'] == \"No\"], bins=[0,10,20,30,40,50,60,70,80], color='b', label='Not Churn')\n",
    "sns.distplot(data['tenure'][data['Churn'] == \"Yes\"], bins=[0,10,20,30,40,50,60,70,80], color='r', label='Churn')\n",
    "plt.legend();"
   ]
  },
  {
   "cell_type": "markdown",
   "metadata": {
    "id": "rpKsV4jeQ4Jd"
   },
   "source": [
    "Dari Visualisasi telihat bahwa pelanggan yang beralih adalah pelanggan yang telah berlangganan dalam rentang waktu 0 sampai 20 bulan"
   ]
  },
  {
   "cell_type": "markdown",
   "metadata": {
    "id": "VlmensQrQ4Jd"
   },
   "source": [
    "# Visualisasi Hubungan feature MonthlyCharges  dan feature Churn"
   ]
  },
  {
   "cell_type": "code",
   "execution_count": 21,
   "metadata": {
    "colab": {
     "base_uri": "https://localhost:8080/",
     "height": 0
    },
    "id": "SkUVHAFVQ4Jd",
    "outputId": "be43decd-58cd-4eae-c136-4268e76ee0ec"
   },
   "outputs": [
    {
     "name": "stderr",
     "output_type": "stream",
     "text": [
      "/usr/local/lib/python3.7/dist-packages/seaborn/distributions.py:2619: FutureWarning: `distplot` is a deprecated function and will be removed in a future version. Please adapt your code to use either `displot` (a figure-level function with similar flexibility) or `histplot` (an axes-level function for histograms).\n",
      "  warnings.warn(msg, FutureWarning)\n",
      "/usr/local/lib/python3.7/dist-packages/seaborn/distributions.py:2619: FutureWarning: `distplot` is a deprecated function and will be removed in a future version. Please adapt your code to use either `displot` (a figure-level function with similar flexibility) or `histplot` (an axes-level function for histograms).\n",
      "  warnings.warn(msg, FutureWarning)\n"
     ]
    },
    {
     "data": {
      "image/png": "[encoded data removed]",
      "text/plain": [
       "<Figure size 1440x576 with 1 Axes>"
      ]
     },
     "metadata": {
      "needs_background": "light"
     },
     "output_type": "display_data"
    }
   ],
   "source": [
    "plt.figure(figsize=(20,8))\n",
    "sns.distplot(data['MonthlyCharges'][data['Churn'] == \"No\"], bins=[50,60,70,80,90,100,110,120], color='b', label='Not Churn')\n",
    "sns.distplot(data['MonthlyCharges'][data['Churn'] == \"Yes\"], bins=[50,60,70,80,90,100,110,120], color='r', label='Churn')\n",
    "plt.legend();"
   ]
  },
  {
   "cell_type": "markdown",
   "metadata": {
    "id": "6UaNIQtjQ4Je"
   },
   "source": [
    "Dari Visualisasi telihat bahwa pelanggan yang beralih adalah pelanggan memiliki rentang tagihan pembayaran perbulan antara 70 sampai dengan 110"
   ]
  },
  {
   "cell_type": "markdown",
   "metadata": {
    "id": "OieloSU6Q4Je"
   },
   "source": [
    "# Visualisasi Hubungan feature TotalCharges  dan feature Churn"
   ]
  },
  {
   "cell_type": "code",
   "execution_count": 22,
   "metadata": {
    "colab": {
     "base_uri": "https://localhost:8080/",
     "height": 0
    },
    "id": "-_kemmiyQ4Je",
    "outputId": "73ff0f14-495d-49df-8f89-0cf412025ceb"
   },
   "outputs": [
    {
     "name": "stderr",
     "output_type": "stream",
     "text": [
      "/usr/local/lib/python3.7/dist-packages/seaborn/distributions.py:2619: FutureWarning: `distplot` is a deprecated function and will be removed in a future version. Please adapt your code to use either `displot` (a figure-level function with similar flexibility) or `histplot` (an axes-level function for histograms).\n",
      "  warnings.warn(msg, FutureWarning)\n",
      "/usr/local/lib/python3.7/dist-packages/seaborn/distributions.py:2619: FutureWarning: `distplot` is a deprecated function and will be removed in a future version. Please adapt your code to use either `displot` (a figure-level function with similar flexibility) or `histplot` (an axes-level function for histograms).\n",
      "  warnings.warn(msg, FutureWarning)\n"
     ]
    },
    {
     "data": {
      "image/png": "[encoded data removed]",
      "text/plain": [
       "<Figure size 1440x576 with 1 Axes>"
      ]
     },
     "metadata": {
      "needs_background": "light"
     },
     "output_type": "display_data"
    }
   ],
   "source": [
    "plt.figure(figsize=(20,8))\n",
    "sns.distplot(data['TotalCharges'][data['Churn'] == \"No\"], bins=[0,2000,4000,6000,8000,10000], color='b', label='Not Churn')\n",
    "sns.distplot(data['TotalCharges'][data['Churn'] == \"Yes\"], bins=[0,2000,4000,6000,8000,10000], color='r', label='Churn')\n",
    "plt.legend();"
   ]
  },
  {
   "cell_type": "markdown",
   "metadata": {
    "id": "n3WVxSa6Q4Jf"
   },
   "source": [
    "Dari visualisasi terlihat bahwa pelanggan yang beralih adalah yang memiliki beban total tagihan dalam rentang 0 sampai 2000 "
   ]
  },
  {
   "cell_type": "markdown",
   "metadata": {
    "id": "nSDexUM2Q4Jf"
   },
   "source": [
    "### Categorical Features"
   ]
  },
  {
   "cell_type": "code",
   "execution_count": 23,
   "metadata": {
    "colab": {
     "base_uri": "https://localhost:8080/"
    },
    "id": "OnNpHdPQQ4Jf",
    "outputId": "4dccc3de-488b-4823-b697-65f5378e4d0e"
   },
   "outputs": [
    {
     "name": "stdout",
     "output_type": "stream",
     "text": [
      "Categorical feature count 17\n",
      "Categorical feature =  ['customerID', 'gender', 'Partner', 'Dependents', 'PhoneService', 'MultipleLines', 'InternetService', 'OnlineSecurity', 'OnlineBackup', 'DeviceProtection', 'TechSupport', 'StreamingTV', 'StreamingMovies', 'Contract', 'PaperlessBilling', 'PaymentMethod', 'Churn']\n"
     ]
    }
   ],
   "source": [
    "categorical_features = [feature for feature in data.columns if data[feature].dtypes=='O']\n",
    "\n",
    "print(\"Categorical feature count {}\".format(len(categorical_features)))\n",
    "print(\"Categorical feature = \",categorical_features)"
   ]
  },
  {
   "cell_type": "markdown",
   "metadata": {
    "id": "FL-38lHCQ4Jg"
   },
   "source": [
    "### Visualisasi Hubungan feature gender dan feature Churn"
   ]
  },
  {
   "cell_type": "code",
   "execution_count": 24,
   "metadata": {
    "colab": {
     "base_uri": "https://localhost:8080/",
     "height": 0
    },
    "id": "Q7dP5MMEQ4Jg",
    "outputId": "e4341704-ac7d-443b-ee5b-7dd85a0ad06f"
   },
   "outputs": [
    {
     "data": {
      "image/png": "[encoded data removed]",
      "text/plain": [
       "<Figure size 720x576 with 1 Axes>"
      ]
     },
     "metadata": {
      "needs_background": "light"
     },
     "output_type": "display_data"
    }
   ],
   "source": [
    "plt.figure(figsize=[10, 8])\n",
    "sns.countplot(x = 'gender', hue = 'Churn', data = data);\n",
    "plt.xticks(rotation = 60);"
   ]
  },
  {
   "cell_type": "markdown",
   "metadata": {
    "id": "kf8PJNXhQ4Jg"
   },
   "source": [
    "Dari visualisasi terlihat bahwa gender pria dan wanita memiliki jumlah yang sama menjadi pelanggan yang beralih"
   ]
  },
  {
   "cell_type": "markdown",
   "metadata": {
    "id": "FsGijoWvQ4Jh"
   },
   "source": [
    "# Visualisasi Hubungan feature Partner dan feature Churn"
   ]
  },
  {
   "cell_type": "code",
   "execution_count": 25,
   "metadata": {
    "colab": {
     "base_uri": "https://localhost:8080/",
     "height": 0
    },
    "id": "fEiQij5JQ4Jh",
    "outputId": "095a50c8-1f7b-4418-953b-bf0ced809938"
   },
   "outputs": [
    {
     "data": {
      "image/png": "[encoded data removed]",
      "text/plain": [
       "<Figure size 720x576 with 1 Axes>"
      ]
     },
     "metadata": {
      "needs_background": "light"
     },
     "output_type": "display_data"
    }
   ],
   "source": [
    "plt.figure(figsize=[10, 8])\n",
    "sns.countplot(x = 'Partner', hue = 'Churn', data = data);\n",
    "plt.xticks(rotation = 60);"
   ]
  },
  {
   "cell_type": "markdown",
   "metadata": {
    "id": "z9Sn78GDQ4Ji"
   },
   "source": [
    "Dari visualisasi terlihat bahwa pelanggan yang beralih adalah didominasi oleh pelanggan yang belum memiliki partners"
   ]
  },
  {
   "cell_type": "markdown",
   "metadata": {
    "id": "-fPFPJz0Q4Ji"
   },
   "source": [
    "# Visualisasi Hubungan feature Dependents dan feature Churn"
   ]
  },
  {
   "cell_type": "code",
   "execution_count": 26,
   "metadata": {
    "colab": {
     "base_uri": "https://localhost:8080/",
     "height": 0
    },
    "id": "6lsoK0bJQ4Ji",
    "outputId": "6450c742-bc2d-42ca-8577-3c43daf6a8a1"
   },
   "outputs": [
    {
     "data": {
      "image/png": "[encoded data removed]",
      "text/plain": [
       "<Figure size 720x576 with 1 Axes>"
      ]
     },
     "metadata": {
      "needs_background": "light"
     },
     "output_type": "display_data"
    }
   ],
   "source": [
    "plt.figure(figsize=[10, 8])\n",
    "sns.countplot(x = 'Dependents', hue = 'Churn', data = data);\n",
    "plt.xticks(rotation = 60);"
   ]
  },
  {
   "cell_type": "markdown",
   "metadata": {
    "id": "2J6MMEh_m2S5"
   },
   "source": [
    "Dari visualisasi terlihat bahwa pelanggan yang beralih didominasi oleh pelanggan yang belum memiliki tanggungan (dependents)"
   ]
  },
  {
   "cell_type": "markdown",
   "metadata": {
    "id": "duSBCFkKm2S5"
   },
   "source": [
    "### Visualisasi Hubungan feature PhoneService dan feature Churn"
   ]
  },
  {
   "cell_type": "code",
   "execution_count": 27,
   "metadata": {
    "colab": {
     "base_uri": "https://localhost:8080/",
     "height": 0
    },
    "id": "BRSPfwdhQ4Jj",
    "outputId": "ba8a7234-2097-4998-ecf5-1f127df6d83a"
   },
   "outputs": [
    {
     "data": {
      "image/png": "[encoded data removed]",
      "text/plain": [
       "<Figure size 720x576 with 1 Axes>"
      ]
     },
     "metadata": {
      "needs_background": "light"
     },
     "output_type": "display_data"
    }
   ],
   "source": [
    "plt.figure(figsize=[10, 8])\n",
    "sns.countplot(x = 'PhoneService' , hue = 'Churn', data = data);\n",
    "plt.xticks(rotation = 60);"
   ]
  },
  {
   "cell_type": "markdown",
   "metadata": {
    "id": "bngZXiXXm2S6"
   },
   "source": [
    "Dari visualisasi terlihat bahwa pelanggan yang beralih didominasi oleh pelanggan yang telah memiliki layanan telephone"
   ]
  },
  {
   "cell_type": "markdown",
   "metadata": {
    "id": "K6dkn84vm2S7"
   },
   "source": [
    "### Visualisasi Hubungan feature MultipleLines dan feature Churn"
   ]
  },
  {
   "cell_type": "code",
   "execution_count": 28,
   "metadata": {
    "colab": {
     "base_uri": "https://localhost:8080/",
     "height": 0
    },
    "id": "OWCG1Iw5Q4Jj",
    "outputId": "c17df535-1041-4da9-b142-1da33b5fa76b"
   },
   "outputs": [
    {
     "data": {
      "image/png": "[encoded data removed]",
      "text/plain": [
       "<Figure size 720x576 with 1 Axes>"
      ]
     },
     "metadata": {
      "needs_background": "light"
     },
     "output_type": "display_data"
    }
   ],
   "source": [
    "plt.figure(figsize=[10, 8])\n",
    "sns.countplot(x = 'MultipleLines' , hue = 'Churn', data = data);\n",
    "plt.xticks(rotation = 60);"
   ]
  },
  {
   "cell_type": "markdown",
   "metadata": {
    "id": "q4kyIYwKm2S7"
   },
   "source": [
    "Dari visualisasi terlihat bahwa pelanggan yang beralih memiliki persentase yang sama banyak antara pelanggan yang miliki lines telepone banyak dan tidak memiliki line telephone banyak "
   ]
  },
  {
   "cell_type": "markdown",
   "metadata": {
    "id": "8LBfMLG1m2S8"
   },
   "source": [
    "### Visualisasi Hubungan feature InternetService dan feature Churn"
   ]
  },
  {
   "cell_type": "code",
   "execution_count": 29,
   "metadata": {
    "colab": {
     "base_uri": "https://localhost:8080/",
     "height": 0
    },
    "id": "jqzA4O4SQ4Jk",
    "outputId": "047cda14-6692-4187-a4d0-e076b72ad286"
   },
   "outputs": [
    {
     "data": {
      "image/png": "[encoded data removed]",
      "text/plain": [
       "<Figure size 720x576 with 1 Axes>"
      ]
     },
     "metadata": {
      "needs_background": "light"
     },
     "output_type": "display_data"
    }
   ],
   "source": [
    "plt.figure(figsize=[10, 8])\n",
    "sns.countplot(x = 'InternetService' , hue = 'Churn', data = data);\n",
    "plt.xticks(rotation = 60);"
   ]
  },
  {
   "cell_type": "markdown",
   "metadata": {
    "id": "J1FLHpbPm2S8"
   },
   "source": [
    "Dari visualisasi terlihat bahwa pelanggan yang beralih didominasi oleh pelanggan yang memliki layanan internet service fiber optic"
   ]
  },
  {
   "cell_type": "markdown",
   "metadata": {
    "id": "DegQRIDgm2S8"
   },
   "source": [
    "### Visualisasi Hubungan feature OnlineSecurity dan feature Churn"
   ]
  },
  {
   "cell_type": "code",
   "execution_count": 30,
   "metadata": {
    "colab": {
     "base_uri": "https://localhost:8080/",
     "height": 0
    },
    "id": "yf3zvYbGQ4Jk",
    "outputId": "2dc5fa07-8f69-498e-8bfc-24ccffae39e9"
   },
   "outputs": [
    {
     "data": {
      "image/png": "[encoded data removed]",
      "text/plain": [
       "<Figure size 720x576 with 1 Axes>"
      ]
     },
     "metadata": {
      "needs_background": "light"
     },
     "output_type": "display_data"
    }
   ],
   "source": [
    "plt.figure(figsize=[10, 8])\n",
    "sns.countplot(x = 'OnlineSecurity' , hue = 'Churn', data = data);\n",
    "plt.xticks(rotation = 60);"
   ]
  },
  {
   "cell_type": "markdown",
   "metadata": {
    "id": "dA7iYorSm2S9"
   },
   "source": [
    "Dari visualisasi terlihat bahwa pelanggan yang beralih didominasi oleh pelanggan yang tidak memiliki online security"
   ]
  },
  {
   "cell_type": "markdown",
   "metadata": {
    "id": "l_dtVWHam2S9"
   },
   "source": [
    "### Visualisasi Hubungan feature OnlineBackup dan feature Churn"
   ]
  },
  {
   "cell_type": "code",
   "execution_count": 31,
   "metadata": {
    "colab": {
     "base_uri": "https://localhost:8080/",
     "height": 0
    },
    "id": "3Eb1Bpy4Q4Jk",
    "outputId": "cad5a9c3-9d06-48b7-a558-bfadc432f90b"
   },
   "outputs": [
    {
     "data": {
      "image/png": "[encoded data removed]",
      "text/plain": [
       "<Figure size 720x576 with 1 Axes>"
      ]
     },
     "metadata": {
      "needs_background": "light"
     },
     "output_type": "display_data"
    }
   ],
   "source": [
    "plt.figure(figsize=[10, 8])\n",
    "sns.countplot(x = 'OnlineBackup' , hue = 'Churn', data = data);\n",
    "plt.xticks(rotation = 60);"
   ]
  },
  {
   "cell_type": "markdown",
   "metadata": {
    "id": "zdMtn47Ym2S-"
   },
   "source": [
    "Dari visualisasi terlihat bahwa pelanggan yang beralih didominasi oleh pelanggan yang tidak memiliki online backup"
   ]
  },
  {
   "cell_type": "markdown",
   "metadata": {
    "id": "JvGPIXSdm2S-"
   },
   "source": [
    "### Visualisasi Hubungan feature DeviceProtection dan feature Churn"
   ]
  },
  {
   "cell_type": "code",
   "execution_count": 32,
   "metadata": {
    "colab": {
     "base_uri": "https://localhost:8080/",
     "height": 0
    },
    "id": "FC3PmDhVQ4Jl",
    "outputId": "8eace5d2-1db1-48b3-ec89-69ddbab0c997"
   },
   "outputs": [
    {
     "data": {
      "image/png": "[encoded data removed]",
      "text/plain": [
       "<Figure size 720x576 with 1 Axes>"
      ]
     },
     "metadata": {
      "needs_background": "light"
     },
     "output_type": "display_data"
    }
   ],
   "source": [
    "plt.figure(figsize=[10, 8])\n",
    "sns.countplot(x = 'DeviceProtection' , hue = 'Churn', data = data);\n",
    "plt.xticks(rotation = 60);"
   ]
  },
  {
   "cell_type": "markdown",
   "metadata": {
    "id": "W3XCGasVm2S_"
   },
   "source": [
    "Dari visualisasi terlihat bahwa pelanggan yang beralih didominasi oleh pelanggan yang tidak memiliki device protection"
   ]
  },
  {
   "cell_type": "markdown",
   "metadata": {
    "id": "_MUjf8D-m2S_"
   },
   "source": [
    "### Visualisasi Hubungan feature TechSupport dan feature Churn"
   ]
  },
  {
   "cell_type": "code",
   "execution_count": 33,
   "metadata": {
    "colab": {
     "base_uri": "https://localhost:8080/",
     "height": 0
    },
    "id": "HQCIBTH9Q4Jl",
    "outputId": "4b2eb227-6a08-4efd-eefc-0ed50423a73a"
   },
   "outputs": [
    {
     "data": {
      "image/png": "[encoded data removed]",
      "text/plain": [
       "<Figure size 720x576 with 1 Axes>"
      ]
     },
     "metadata": {
      "needs_background": "light"
     },
     "output_type": "display_data"
    }
   ],
   "source": [
    "plt.figure(figsize=[10, 8])\n",
    "sns.countplot(x = 'TechSupport' , hue = 'Churn', data = data);\n",
    "plt.xticks(rotation = 60);"
   ]
  },
  {
   "cell_type": "markdown",
   "metadata": {
    "id": "VyJ9OK0Um2TA"
   },
   "source": [
    "Dari visualisasi terlihat bahwa pelanggan yang beralih didominasi oleh pelanggan yang tidak mendapatkan TechSupport"
   ]
  },
  {
   "cell_type": "markdown",
   "metadata": {
    "id": "TGyoln2Xm2TA"
   },
   "source": [
    "### Visualisasi Hubungan feature StreamingTV dan feature Churn"
   ]
  },
  {
   "cell_type": "code",
   "execution_count": 34,
   "metadata": {
    "colab": {
     "base_uri": "https://localhost:8080/",
     "height": 0
    },
    "id": "dvUwiwplQ4Jl",
    "outputId": "2511f88c-085c-419e-d729-8ecc089325f1"
   },
   "outputs": [
    {
     "data": {
      "image/png": "[encoded data removed]",
      "text/plain": [
       "<Figure size 720x576 with 1 Axes>"
      ]
     },
     "metadata": {
      "needs_background": "light"
     },
     "output_type": "display_data"
    }
   ],
   "source": [
    "plt.figure(figsize=[10, 8])\n",
    "sns.countplot(x = 'StreamingTV' , hue = 'Churn', data = data);\n",
    "plt.xticks(rotation = 60);"
   ]
  },
  {
   "cell_type": "markdown",
   "metadata": {
    "id": "pOaRpEqkm2TB"
   },
   "source": [
    "Dari visualisasi terlihat bahwa pelanggan yang beralih didominasi oleh pelanggan yang tidak memiliki layanan StreamingTV"
   ]
  },
  {
   "cell_type": "markdown",
   "metadata": {
    "id": "9i5cxvZ7m2TB"
   },
   "source": [
    "### Visualisasi Hubungan feature StreamingMovies dan feature Churn"
   ]
  },
  {
   "cell_type": "code",
   "execution_count": 35,
   "metadata": {
    "colab": {
     "base_uri": "https://localhost:8080/",
     "height": 0
    },
    "id": "q8cFgnd9Q4Jm",
    "outputId": "5aabbc3f-0588-42f6-dd91-82e54d186d78"
   },
   "outputs": [
    {
     "data": {
      "image/png": "[encoded data removed]",
      "text/plain": [
       "<Figure size 720x576 with 1 Axes>"
      ]
     },
     "metadata": {
      "needs_background": "light"
     },
     "output_type": "display_data"
    }
   ],
   "source": [
    "plt.figure(figsize=[10, 8])\n",
    "sns.countplot(x = 'StreamingMovies' , hue = 'Churn', data = data);\n",
    "plt.xticks(rotation = 60);"
   ]
  },
  {
   "cell_type": "markdown",
   "metadata": {
    "id": "Kk4rJe1im2TC"
   },
   "source": [
    "Dari visualisasi terlihat bahwa pelanggan yang beralih didominasi oleh pelanggan yang tidak memiliki layanan StreamingMovies"
   ]
  },
  {
   "cell_type": "markdown",
   "metadata": {
    "id": "XXzr4qRzm2TC"
   },
   "source": [
    "### Visualisasi Hubungan feature Contract dan feature Churn"
   ]
  },
  {
   "cell_type": "code",
   "execution_count": 36,
   "metadata": {
    "colab": {
     "base_uri": "https://localhost:8080/",
     "height": 0
    },
    "id": "t6MJnpIjQ4Jm",
    "outputId": "39b24639-a33f-4afe-f364-69d2e22406b9"
   },
   "outputs": [
    {
     "data": {
      "image/png": "[encoded data removed]",
      "text/plain": [
       "<Figure size 720x576 with 1 Axes>"
      ]
     },
     "metadata": {
      "needs_background": "light"
     },
     "output_type": "display_data"
    }
   ],
   "source": [
    "plt.figure(figsize=[10, 8])\n",
    "sns.countplot(x = 'Contract' , hue = 'Churn', data = data);\n",
    "plt.xticks(rotation = 60);"
   ]
  },
  {
   "cell_type": "markdown",
   "metadata": {
    "id": "RoEuPzyRm2TC"
   },
   "source": [
    "Dari visualisasi terlihat bahwa pelanggan yang beralih didominasi oleh pelanggan yang memiliki contract month to month"
   ]
  },
  {
   "cell_type": "markdown",
   "metadata": {
    "id": "hhpMdvmUm2TD"
   },
   "source": [
    "# Visualisasi Hubungan feature PaperlessBilling dan feature Churn"
   ]
  },
  {
   "cell_type": "code",
   "execution_count": 37,
   "metadata": {
    "colab": {
     "base_uri": "https://localhost:8080/",
     "height": 0
    },
    "id": "yEVp6AkfQ4Jm",
    "outputId": "b46d0562-b13e-4831-b72c-ba986aa395a4"
   },
   "outputs": [
    {
     "data": {
      "image/png": "[encoded data removed]",
      "text/plain": [
       "<Figure size 720x576 with 1 Axes>"
      ]
     },
     "metadata": {
      "needs_background": "light"
     },
     "output_type": "display_data"
    }
   ],
   "source": [
    "plt.figure(figsize=[10, 8])\n",
    "sns.countplot(x = 'PaperlessBilling' , hue = 'Churn', data = data);\n",
    "plt.xticks(rotation = 60);"
   ]
  },
  {
   "cell_type": "markdown",
   "metadata": {
    "id": "-ssTu4bam2TD"
   },
   "source": [
    "Dari visualisasi terlihat bahwa pelanggan yang beralih didominasi oleh pelanggan yang mendapatkan tagihan berupa tanpa kertas (Paperless Billing)"
   ]
  },
  {
   "cell_type": "markdown",
   "metadata": {
    "id": "YS0vbKILm2TD"
   },
   "source": [
    "### Visualisasi Hubungan feature PaymentMethod dan feature Churn"
   ]
  },
  {
   "cell_type": "code",
   "execution_count": 38,
   "metadata": {
    "colab": {
     "base_uri": "https://localhost:8080/",
     "height": 0
    },
    "id": "1xHfJ0-1Q4Jn",
    "outputId": "10b489eb-fecb-4c6e-8654-df47caeb10e8"
   },
   "outputs": [
    {
     "data": {
      "image/png": "[encoded data removed]",
      "text/plain": [
       "<Figure size 720x576 with 1 Axes>"
      ]
     },
     "metadata": {
      "needs_background": "light"
     },
     "output_type": "display_data"
    }
   ],
   "source": [
    "plt.figure(figsize=[10, 8])\n",
    "sns.countplot(x = 'PaymentMethod' , hue = 'Churn', data = data);\n",
    "plt.xticks(rotation = 60);"
   ]
  },
  {
   "cell_type": "markdown",
   "metadata": {
    "id": "OwonJbrkm2TE"
   },
   "source": [
    "Dari visualisasi terlihat bahwa pelanggan yang beralih didominasi oleh pelanggan yang melakukan pembayaran melalui Elctronic check"
   ]
  },
  {
   "cell_type": "markdown",
   "metadata": {
    "id": "Rhm68dDHQ4Jn"
   },
   "source": [
    "### Melihat Cardinality Data"
   ]
  },
  {
   "cell_type": "code",
   "execution_count": 39,
   "metadata": {
    "colab": {
     "base_uri": "https://localhost:8080/"
    },
    "id": "CXOVzyaEQ4Jn",
    "outputId": "748e9a09-f709-4947-a792-2e4fd8bb8c87"
   },
   "outputs": [
    {
     "name": "stdout",
     "output_type": "stream",
     "text": [
      "The feature is customerID and number of categories are 7043\n",
      "The feature is gender and number of categories are 2\n",
      "The feature is Partner and number of categories are 2\n",
      "The feature is Dependents and number of categories are 2\n",
      "The feature is PhoneService and number of categories are 2\n",
      "The feature is MultipleLines and number of categories are 3\n",
      "The feature is InternetService and number of categories are 3\n",
      "The feature is OnlineSecurity and number of categories are 3\n",
      "The feature is OnlineBackup and number of categories are 3\n",
      "The feature is DeviceProtection and number of categories are 3\n",
      "The feature is TechSupport and number of categories are 3\n",
      "The feature is StreamingTV and number of categories are 3\n",
      "The feature is StreamingMovies and number of categories are 3\n",
      "The feature is Contract and number of categories are 3\n",
      "The feature is PaperlessBilling and number of categories are 2\n",
      "The feature is PaymentMethod and number of categories are 4\n",
      "The feature is Churn and number of categories are 2\n"
     ]
    }
   ],
   "source": [
    "for feature in categorical_features:\n",
    "    print('The feature is {} and number of categories are {}'.format(feature, len(data[feature].unique())))"
   ]
  },
  {
   "cell_type": "markdown",
   "metadata": {
    "id": "VyVQdzpuQ4Jn"
   },
   "source": [
    "### Melihat Outliers"
   ]
  },
  {
   "cell_type": "code",
   "execution_count": 40,
   "metadata": {
    "colab": {
     "base_uri": "https://localhost:8080/",
     "height": 0
    },
    "id": "0kYTscdCQ4Jn",
    "outputId": "2ee80c84-658d-42f5-aa71-29e68eacaebf"
   },
   "outputs": [
    {
     "data": {
      "image/png": "[encoded data removed]",
      "text/plain": [
       "<Figure size 720x288 with 1 Axes>"
      ]
     },
     "metadata": {
      "needs_background": "light"
     },
     "output_type": "display_data"
    }
   ],
   "source": [
    "data[discrete_features].boxplot(figsize=(10,4));"
   ]
  },
  {
   "cell_type": "code",
   "execution_count": 41,
   "metadata": {
    "colab": {
     "base_uri": "https://localhost:8080/",
     "height": 0
    },
    "id": "8E2eJmAnQ4Jo",
    "outputId": "0b2509db-90cb-4af5-de8e-80b0441d817a"
   },
   "outputs": [
    {
     "data": {
      "image/png": "[encoded data removed]",
      "text/plain": [
       "<Figure size 720x288 with 1 Axes>"
      ]
     },
     "metadata": {
      "needs_background": "light"
     },
     "output_type": "display_data"
    }
   ],
   "source": [
    "data[continous_features].boxplot(figsize=(10,4));"
   ]
  },
  {
   "cell_type": "markdown",
   "metadata": {
    "id": "VIjfPC2GQ4Jo"
   },
   "source": [
    "tidak terdapat outliers dalam data discrete yaitu pada features SeniorCitizen"
   ]
  },
  {
   "cell_type": "markdown",
   "metadata": {
    "id": "Fn7-F2pjQ4Jo"
   },
   "source": [
    "## Exploratory Data Analysis\n",
    "\n",
    "dari hasil visualisasi diperoleh informasi sebagai berikut:\n",
    "* Dari Visualisasi terlihat bahwa pelanggan telekomunikasi yang beralih sebesar 26.5% dan yang tidak beralih 73.5%\n",
    "* Dari visualisasi terlihat bahwa pelanggan dengan status Senior Citizen cenderung tidak beralih\n",
    "* Dari Visualisasi telihat bahwa pelanggan yang beralih adalah pelanggan yang telah berlangganan dalam rentang waktu 0 sampai 20 bulan\n",
    "* Dari Visualisasi telihat bahwa pelanggan yang beralih adalah pelanggan memiliki rentang tagihan pembayaran perbulan antara 70 sampai dengan 110\n",
    "* Dari visualisasi terlihat bahwa gender pria dan wanita memiliki jumlah yang sama menjadi pelanggan yang beralih\n",
    "* Dari visualisasi terlihat bahwa pelanggan yang beralih adalah didominasi oleh pelanggan yang belum memiliki partners\n",
    "* Dari visualisasi terlihat bahwa pelanggan yang beralih didominasi oleh pelanggan yang belum memiliki tanggungan (dependents)\n",
    "* Dari visualisasi terlihat bahwa pelanggan yang beralih didominasi oleh pelanggan yang telah memiliki layanan telephone\n",
    "* Dari visualisasi terlihat bahwa pelanggan yang beralih memiliki persentase yang sama banyak antara pelanggan yang miliki lines telepone banyak dan tidak memiliki line telephone banyak \n",
    "* Dari visualisasi terlihat bahwa pelanggan yang beralih didominasi oleh pelanggan yang memliki layanan internet service fiber optic\n",
    "* Dari visualisasi terlihat bahwa pelanggan yang beralih didominasi oleh pelanggan yang tidak memiliki online security\n",
    "* Dari visualisasi terlihat bahwa pelanggan yang beralih didominasi oleh pelanggan yang tidak memiliki device protection\n",
    "* Dari visualisasi terlihat bahwa pelanggan yang beralih didominasi oleh pelanggan yang tidak memiliki layanan StreamingTV\n",
    "* Dari visualisasi terlihat bahwa pelanggan yang beralih didominasi oleh pelanggan yang memiliki contract month to month\n",
    "* Dari visualisasi terlihat bahwa pelanggan yang beralih didominasi oleh pelanggan yang mendapatkan tagihan berupa kertas\n",
    "* Dari visualisasi terlihat bahwa pelanggan yang beralih didominasi oleh pelanggan yang melakukan pembayaran melalui Elctronic check"
   ]
  },
  {
   "cell_type": "markdown",
   "metadata": {
    "id": "9VDgzpTsQ4Jp"
   },
   "source": [
    "# Features Engineering"
   ]
  },
  {
   "cell_type": "markdown",
   "metadata": {
    "id": "Qdny0-SJQ4Jp"
   },
   "source": [
    "#### Membagi data terlebih dahulu sebelum menerapkan Rekayasa Fitur (Feature Engineering)"
   ]
  },
  {
   "cell_type": "code",
   "execution_count": 42,
   "metadata": {
    "id": "nXYrQYKgQ4Jq"
   },
   "outputs": [],
   "source": [
    "X_train, X_test, y_train, y_test = train_test_split(data, data['Churn'],test_size=0.1,random_state=0)"
   ]
  },
  {
   "cell_type": "code",
   "execution_count": 43,
   "metadata": {
    "colab": {
     "base_uri": "https://localhost:8080/"
    },
    "id": "J_R3_9UVQ4Jq",
    "outputId": "43b2f813-1b59-48be-c94c-bc35638bf8fe"
   },
   "outputs": [
    {
     "data": {
      "text/plain": [
       "(6338, 21)"
      ]
     },
     "execution_count": 43,
     "metadata": {},
     "output_type": "execute_result"
    }
   ],
   "source": [
    "X_train.shape"
   ]
  },
  {
   "cell_type": "markdown",
   "metadata": {
    "id": "t8nwFqQbQ4Jq"
   },
   "source": [
    "untuk menghindari adanya kemungkinan kebocoran data sehingga kita perlu membagi data terlebih dahulu dan kemudian menerapkan fitur engineering"
   ]
  },
  {
   "cell_type": "markdown",
   "metadata": {
    "id": "p4JqivJtQ4Jr"
   },
   "source": [
    "#### Mempersiapkan data untuk dilakukan feature engineering"
   ]
  },
  {
   "cell_type": "code",
   "execution_count": 44,
   "metadata": {
    "id": "dEmVl-tcQ4Jr"
   },
   "outputs": [],
   "source": [
    "df = X_train"
   ]
  },
  {
   "cell_type": "markdown",
   "metadata": {
    "id": "MwHKQCxIQ4Jr"
   },
   "source": [
    "menggunakan data training untuk dilakukan fitur engineering"
   ]
  },
  {
   "cell_type": "markdown",
   "metadata": {
    "id": "hFiy1d6mQ4Jr"
   },
   "source": [
    "#### Melihat data"
   ]
  },
  {
   "cell_type": "code",
   "execution_count": 45,
   "metadata": {
    "colab": {
     "base_uri": "https://localhost:8080/",
     "height": 0
    },
    "id": "ND-rGIdiQ4Jr",
    "outputId": "23814d66-b51e-40d2-d3e4-08f929a65c35"
   },
   "outputs": [
    {
     "data": {
      "text/html": [
       "<div>\n",
       "<style scoped>\n",
       "    .dataframe tbody tr th:only-of-type {\n",
       "        vertical-align: middle;\n",
       "    }\n",
       "\n",
       "    .dataframe tbody tr th {\n",
       "        vertical-align: top;\n",
       "    }\n",
       "\n",
       "    .dataframe thead th {\n",
       "        text-align: right;\n",
       "    }\n",
       "</style>\n",
       "<table border=\"1\" class=\"dataframe\">\n",
       "  <thead>\n",
       "    <tr style=\"text-align: right;\">\n",
       "      <th></th>\n",
       "      <th>customerID</th>\n",
       "      <th>gender</th>\n",
       "      <th>SeniorCitizen</th>\n",
       "      <th>Partner</th>\n",
       "      <th>Dependents</th>\n",
       "      <th>tenure</th>\n",
       "      <th>PhoneService</th>\n",
       "      <th>MultipleLines</th>\n",
       "      <th>InternetService</th>\n",
       "      <th>OnlineSecurity</th>\n",
       "      <th>OnlineBackup</th>\n",
       "      <th>DeviceProtection</th>\n",
       "      <th>TechSupport</th>\n",
       "      <th>StreamingTV</th>\n",
       "      <th>StreamingMovies</th>\n",
       "      <th>Contract</th>\n",
       "      <th>PaperlessBilling</th>\n",
       "      <th>PaymentMethod</th>\n",
       "      <th>MonthlyCharges</th>\n",
       "      <th>TotalCharges</th>\n",
       "      <th>Churn</th>\n",
       "    </tr>\n",
       "  </thead>\n",
       "  <tbody>\n",
       "    <tr>\n",
       "      <th>3637</th>\n",
       "      <td>4083-EUGRJ</td>\n",
       "      <td>Male</td>\n",
       "      <td>0</td>\n",
       "      <td>No</td>\n",
       "      <td>No</td>\n",
       "      <td>9</td>\n",
       "      <td>Yes</td>\n",
       "      <td>No</td>\n",
       "      <td>No</td>\n",
       "      <td>No internet service</td>\n",
       "      <td>No internet service</td>\n",
       "      <td>No internet service</td>\n",
       "      <td>No internet service</td>\n",
       "      <td>No internet service</td>\n",
       "      <td>No internet service</td>\n",
       "      <td>Month-to-month</td>\n",
       "      <td>No</td>\n",
       "      <td>Mailed check</td>\n",
       "      <td>20.25</td>\n",
       "      <td>178.50</td>\n",
       "      <td>Yes</td>\n",
       "    </tr>\n",
       "    <tr>\n",
       "      <th>6042</th>\n",
       "      <td>4750-UKWJK</td>\n",
       "      <td>Female</td>\n",
       "      <td>1</td>\n",
       "      <td>Yes</td>\n",
       "      <td>No</td>\n",
       "      <td>37</td>\n",
       "      <td>Yes</td>\n",
       "      <td>No</td>\n",
       "      <td>No</td>\n",
       "      <td>No internet service</td>\n",
       "      <td>No internet service</td>\n",
       "      <td>No internet service</td>\n",
       "      <td>No internet service</td>\n",
       "      <td>No internet service</td>\n",
       "      <td>No internet service</td>\n",
       "      <td>One year</td>\n",
       "      <td>No</td>\n",
       "      <td>Mailed check</td>\n",
       "      <td>19.60</td>\n",
       "      <td>727.80</td>\n",
       "      <td>No</td>\n",
       "    </tr>\n",
       "    <tr>\n",
       "      <th>1824</th>\n",
       "      <td>0794-YVSGE</td>\n",
       "      <td>Male</td>\n",
       "      <td>0</td>\n",
       "      <td>Yes</td>\n",
       "      <td>Yes</td>\n",
       "      <td>72</td>\n",
       "      <td>Yes</td>\n",
       "      <td>No</td>\n",
       "      <td>No</td>\n",
       "      <td>No internet service</td>\n",
       "      <td>No internet service</td>\n",
       "      <td>No internet service</td>\n",
       "      <td>No internet service</td>\n",
       "      <td>No internet service</td>\n",
       "      <td>No internet service</td>\n",
       "      <td>Two year</td>\n",
       "      <td>No</td>\n",
       "      <td>Bank transfer (automatic)</td>\n",
       "      <td>20.30</td>\n",
       "      <td>1401.15</td>\n",
       "      <td>No</td>\n",
       "    </tr>\n",
       "    <tr>\n",
       "      <th>4121</th>\n",
       "      <td>0576-WNXXC</td>\n",
       "      <td>Male</td>\n",
       "      <td>1</td>\n",
       "      <td>Yes</td>\n",
       "      <td>No</td>\n",
       "      <td>27</td>\n",
       "      <td>Yes</td>\n",
       "      <td>Yes</td>\n",
       "      <td>Fiber optic</td>\n",
       "      <td>No</td>\n",
       "      <td>Yes</td>\n",
       "      <td>Yes</td>\n",
       "      <td>No</td>\n",
       "      <td>No</td>\n",
       "      <td>Yes</td>\n",
       "      <td>Month-to-month</td>\n",
       "      <td>Yes</td>\n",
       "      <td>Electronic check</td>\n",
       "      <td>95.55</td>\n",
       "      <td>2510.20</td>\n",
       "      <td>Yes</td>\n",
       "    </tr>\n",
       "    <tr>\n",
       "      <th>1425</th>\n",
       "      <td>7077-XJMET</td>\n",
       "      <td>Male</td>\n",
       "      <td>0</td>\n",
       "      <td>Yes</td>\n",
       "      <td>No</td>\n",
       "      <td>12</td>\n",
       "      <td>Yes</td>\n",
       "      <td>No</td>\n",
       "      <td>DSL</td>\n",
       "      <td>No</td>\n",
       "      <td>No</td>\n",
       "      <td>Yes</td>\n",
       "      <td>Yes</td>\n",
       "      <td>Yes</td>\n",
       "      <td>Yes</td>\n",
       "      <td>Month-to-month</td>\n",
       "      <td>Yes</td>\n",
       "      <td>Electronic check</td>\n",
       "      <td>74.15</td>\n",
       "      <td>741.40</td>\n",
       "      <td>No</td>\n",
       "    </tr>\n",
       "  </tbody>\n",
       "</table>\n",
       "</div>"
      ],
      "text/plain": [
       "      customerID  gender  SeniorCitizen  ... MonthlyCharges TotalCharges  Churn\n",
       "3637  4083-EUGRJ    Male              0  ...          20.25       178.50    Yes\n",
       "6042  4750-UKWJK  Female              1  ...          19.60       727.80     No\n",
       "1824  0794-YVSGE    Male              0  ...          20.30      1401.15     No\n",
       "4121  0576-WNXXC    Male              1  ...          95.55      2510.20    Yes\n",
       "1425  7077-XJMET    Male              0  ...          74.15       741.40     No\n",
       "\n",
       "[5 rows x 21 columns]"
      ]
     },
     "execution_count": 45,
     "metadata": {},
     "output_type": "execute_result"
    }
   ],
   "source": [
    "df.head()"
   ]
  },
  {
   "cell_type": "markdown",
   "metadata": {
    "id": "3G3Y4YS0Q4Js"
   },
   "source": [
    "## Menghapus Feature"
   ]
  },
  {
   "cell_type": "code",
   "execution_count": 46,
   "metadata": {
    "id": "SV2Ku3DMQ4Js"
   },
   "outputs": [],
   "source": [
    "df = df.drop('customerID',axis=1)"
   ]
  },
  {
   "cell_type": "markdown",
   "metadata": {
    "id": "WXcI3s6QQ4Js"
   },
   "source": [
    "melalukan drop untuk fitur 'customerID' karena tidak berpengaruh dalam proses training model "
   ]
  },
  {
   "cell_type": "markdown",
   "metadata": {
    "id": "e0oMGlWlQ4Js"
   },
   "source": [
    "#### Melihat Columns Data"
   ]
  },
  {
   "cell_type": "code",
   "execution_count": 47,
   "metadata": {
    "colab": {
     "base_uri": "https://localhost:8080/"
    },
    "id": "peElKUeGQ4Js",
    "outputId": "a5b60498-be66-40b3-966f-848a250fe05f"
   },
   "outputs": [
    {
     "name": "stdout",
     "output_type": "stream",
     "text": [
      "gender ['Male' 'Female'] \n",
      "\n",
      "SeniorCitizen [0 1] \n",
      "\n",
      "Partner ['No' 'Yes'] \n",
      "\n",
      "Dependents ['No' 'Yes'] \n",
      "\n",
      "tenure [ 9 37 72 27 12  4 51 29 17  1 50  2  8 68 66 54 18 47 69 64 35 23 45 25\n",
      " 30  6 16 61 63 52] \n",
      "\n",
      "PhoneService ['Yes' 'No'] \n",
      "\n",
      "MultipleLines ['No' 'Yes' 'No phone service'] \n",
      "\n",
      "InternetService ['No' 'Fiber optic' 'DSL'] \n",
      "\n",
      "OnlineSecurity ['No internet service' 'No' 'Yes'] \n",
      "\n",
      "OnlineBackup ['No internet service' 'Yes' 'No'] \n",
      "\n",
      "DeviceProtection ['No internet service' 'Yes' 'No'] \n",
      "\n",
      "TechSupport ['No internet service' 'No' 'Yes'] \n",
      "\n",
      "StreamingTV ['No internet service' 'No' 'Yes'] \n",
      "\n",
      "StreamingMovies ['No internet service' 'Yes' 'No'] \n",
      "\n",
      "Contract ['Month-to-month' 'One year' 'Two year'] \n",
      "\n",
      "PaperlessBilling ['No' 'Yes'] \n",
      "\n",
      "PaymentMethod ['Mailed check' 'Bank transfer (automatic)' 'Electronic check'\n",
      " 'Credit card (automatic)'] \n",
      "\n",
      "MonthlyCharges [ 20.25  19.6   20.3   95.55  74.15  70.65  86.35  75.35  64.7   19.9\n",
      " 103.7   54.85  90.25  19.4   25.8  105.2   89.8   25.65  56.8   88.7\n",
      "  64.75  19.65  98.35  75.75 108.5   89.2   54.25 112.2   55.55  84.3 ] \n",
      "\n",
      "TotalCharges [ 178.5   727.8  1401.15 2510.2   741.4   293.85 4267.15 2243.9  1093.1\n",
      "   19.9  5071.05  104.2   743.75  460.25 1911.5  6936.85 4667.    440.2\n",
      " 1074.65 6501.35 2345.2   973.1  6929.4  5388.15 6880.85   19.4  3251.3\n",
      " 1221.55 5031.85 1405.3 ] \n",
      "\n",
      "Churn ['Yes' 'No'] \n",
      "\n"
     ]
    }
   ],
   "source": [
    "for col in df.columns:\n",
    "    print(col, df[col].unique()[0:30], \"\\n\")"
   ]
  },
  {
   "cell_type": "markdown",
   "metadata": {
    "id": "SfCHuDMkQ4Jt"
   },
   "source": [
    "## Missing Values"
   ]
  },
  {
   "cell_type": "markdown",
   "metadata": {
    "id": "Wqt1uTsHQ4Jt"
   },
   "source": [
    "#### Numerical Features"
   ]
  },
  {
   "cell_type": "code",
   "execution_count": 48,
   "metadata": {
    "id": "F3uqvZtaQ4Jt"
   },
   "outputs": [],
   "source": [
    "numerical_nan = [feature for feature in df.columns if df[feature].isnull().sum()>1 and df[feature].dtypes!='O' ]\n",
    "\n",
    "for feature in numerical_nan:\n",
    "    print('{}: {} % missing values'.format(feature, np.round(df[feature].isnull().mean(),4)))"
   ]
  },
  {
   "cell_type": "markdown",
   "metadata": {
    "id": "hf1ihjgkQ4Jt"
   },
   "source": [
    "tidak terdapat missing values dalam numerical features"
   ]
  },
  {
   "cell_type": "markdown",
   "metadata": {
    "id": "12abEIn0Q4Ju"
   },
   "source": [
    "#### Categorical Features"
   ]
  },
  {
   "cell_type": "code",
   "execution_count": 49,
   "metadata": {
    "id": "WyJyo8sRQ4Ju"
   },
   "outputs": [],
   "source": [
    "categories_nan = [feature for feature in df.columns if df[feature].isnull().sum()>1 and df[feature].dtypes=='O']\n",
    "\n",
    "for feature in categories_nan:\n",
    "    print('{} : {} % missing values'.format(feature, np.round(df[feature].isnull().mean(),4)))"
   ]
  },
  {
   "cell_type": "markdown",
   "metadata": {
    "id": "0_sbZaQRQ4Ju"
   },
   "source": [
    "tidak terdapat missing values dalam categorical features"
   ]
  },
  {
   "cell_type": "markdown",
   "metadata": {
    "id": "bo1z3nDgQ4Jv"
   },
   "source": [
    "## Mengubah Categorical values menjadi Numerical values"
   ]
  },
  {
   "cell_type": "code",
   "execution_count": 50,
   "metadata": {
    "id": "RfdIwZ9lQ4Jv"
   },
   "outputs": [],
   "source": [
    "categorical_features = [feature for feature in df.columns if df[feature].dtypes=='O']"
   ]
  },
  {
   "cell_type": "markdown",
   "metadata": {
    "id": "xFrDwx90Q4Jw"
   },
   "source": [
    "#### Mengubah kategorikal features Churn menjadi numerical features"
   ]
  },
  {
   "cell_type": "code",
   "execution_count": 51,
   "metadata": {
    "id": "WL8Ki3o7Q4Jw"
   },
   "outputs": [],
   "source": [
    "churn_mapping = { k: i for i, k in enumerate(df['Churn'].unique(), 0)}\n",
    "df['Churn'] = df['Churn'].map(churn_mapping)"
   ]
  },
  {
   "cell_type": "code",
   "execution_count": 52,
   "metadata": {
    "id": "gAIp2LhbQ4Jw"
   },
   "outputs": [],
   "source": [
    "for feature in categorical_features:\n",
    "    labels_ordered = df.groupby([feature])['Churn'].mean().sort_values().index\n",
    "    labels_ordered = {k:i for i,k in enumerate(labels_ordered,0)}\n",
    "    df[feature] = df[feature].map(labels_ordered)"
   ]
  },
  {
   "cell_type": "code",
   "execution_count": 53,
   "metadata": {
    "colab": {
     "base_uri": "https://localhost:8080/",
     "height": 0
    },
    "id": "oqMC1Ba2Q4Jx",
    "outputId": "08d1a71f-24ba-4584-ee7e-f9d6c478a808"
   },
   "outputs": [
    {
     "data": {
      "text/html": [
       "<div>\n",
       "<style scoped>\n",
       "    .dataframe tbody tr th:only-of-type {\n",
       "        vertical-align: middle;\n",
       "    }\n",
       "\n",
       "    .dataframe tbody tr th {\n",
       "        vertical-align: top;\n",
       "    }\n",
       "\n",
       "    .dataframe thead th {\n",
       "        text-align: right;\n",
       "    }\n",
       "</style>\n",
       "<table border=\"1\" class=\"dataframe\">\n",
       "  <thead>\n",
       "    <tr style=\"text-align: right;\">\n",
       "      <th></th>\n",
       "      <th>gender</th>\n",
       "      <th>SeniorCitizen</th>\n",
       "      <th>Partner</th>\n",
       "      <th>Dependents</th>\n",
       "      <th>tenure</th>\n",
       "      <th>PhoneService</th>\n",
       "      <th>MultipleLines</th>\n",
       "      <th>InternetService</th>\n",
       "      <th>OnlineSecurity</th>\n",
       "      <th>OnlineBackup</th>\n",
       "      <th>DeviceProtection</th>\n",
       "      <th>TechSupport</th>\n",
       "      <th>StreamingTV</th>\n",
       "      <th>StreamingMovies</th>\n",
       "      <th>Contract</th>\n",
       "      <th>PaperlessBilling</th>\n",
       "      <th>PaymentMethod</th>\n",
       "      <th>MonthlyCharges</th>\n",
       "      <th>TotalCharges</th>\n",
       "      <th>Churn</th>\n",
       "    </tr>\n",
       "  </thead>\n",
       "  <tbody>\n",
       "    <tr>\n",
       "      <th>3637</th>\n",
       "      <td>1</td>\n",
       "      <td>0</td>\n",
       "      <td>0</td>\n",
       "      <td>0</td>\n",
       "      <td>9</td>\n",
       "      <td>0</td>\n",
       "      <td>1</td>\n",
       "      <td>2</td>\n",
       "      <td>2</td>\n",
       "      <td>2</td>\n",
       "      <td>2</td>\n",
       "      <td>2</td>\n",
       "      <td>2</td>\n",
       "      <td>2</td>\n",
       "      <td>0</td>\n",
       "      <td>1</td>\n",
       "      <td>1</td>\n",
       "      <td>20.25</td>\n",
       "      <td>178.50</td>\n",
       "      <td>0</td>\n",
       "    </tr>\n",
       "    <tr>\n",
       "      <th>6042</th>\n",
       "      <td>0</td>\n",
       "      <td>1</td>\n",
       "      <td>1</td>\n",
       "      <td>0</td>\n",
       "      <td>37</td>\n",
       "      <td>0</td>\n",
       "      <td>1</td>\n",
       "      <td>2</td>\n",
       "      <td>2</td>\n",
       "      <td>2</td>\n",
       "      <td>2</td>\n",
       "      <td>2</td>\n",
       "      <td>2</td>\n",
       "      <td>2</td>\n",
       "      <td>1</td>\n",
       "      <td>1</td>\n",
       "      <td>1</td>\n",
       "      <td>19.60</td>\n",
       "      <td>727.80</td>\n",
       "      <td>1</td>\n",
       "    </tr>\n",
       "    <tr>\n",
       "      <th>1824</th>\n",
       "      <td>1</td>\n",
       "      <td>0</td>\n",
       "      <td>1</td>\n",
       "      <td>1</td>\n",
       "      <td>72</td>\n",
       "      <td>0</td>\n",
       "      <td>1</td>\n",
       "      <td>2</td>\n",
       "      <td>2</td>\n",
       "      <td>2</td>\n",
       "      <td>2</td>\n",
       "      <td>2</td>\n",
       "      <td>2</td>\n",
       "      <td>2</td>\n",
       "      <td>2</td>\n",
       "      <td>1</td>\n",
       "      <td>2</td>\n",
       "      <td>20.30</td>\n",
       "      <td>1401.15</td>\n",
       "      <td>1</td>\n",
       "    </tr>\n",
       "    <tr>\n",
       "      <th>4121</th>\n",
       "      <td>1</td>\n",
       "      <td>1</td>\n",
       "      <td>1</td>\n",
       "      <td>0</td>\n",
       "      <td>27</td>\n",
       "      <td>0</td>\n",
       "      <td>0</td>\n",
       "      <td>0</td>\n",
       "      <td>0</td>\n",
       "      <td>1</td>\n",
       "      <td>1</td>\n",
       "      <td>0</td>\n",
       "      <td>0</td>\n",
       "      <td>1</td>\n",
       "      <td>0</td>\n",
       "      <td>0</td>\n",
       "      <td>0</td>\n",
       "      <td>95.55</td>\n",
       "      <td>2510.20</td>\n",
       "      <td>0</td>\n",
       "    </tr>\n",
       "    <tr>\n",
       "      <th>1425</th>\n",
       "      <td>1</td>\n",
       "      <td>0</td>\n",
       "      <td>1</td>\n",
       "      <td>0</td>\n",
       "      <td>12</td>\n",
       "      <td>0</td>\n",
       "      <td>1</td>\n",
       "      <td>1</td>\n",
       "      <td>0</td>\n",
       "      <td>0</td>\n",
       "      <td>1</td>\n",
       "      <td>1</td>\n",
       "      <td>1</td>\n",
       "      <td>1</td>\n",
       "      <td>0</td>\n",
       "      <td>0</td>\n",
       "      <td>0</td>\n",
       "      <td>74.15</td>\n",
       "      <td>741.40</td>\n",
       "      <td>1</td>\n",
       "    </tr>\n",
       "  </tbody>\n",
       "</table>\n",
       "</div>"
      ],
      "text/plain": [
       "      gender  SeniorCitizen  Partner  ...  MonthlyCharges  TotalCharges  Churn\n",
       "3637       1              0        0  ...           20.25        178.50      0\n",
       "6042       0              1        1  ...           19.60        727.80      1\n",
       "1824       1              0        1  ...           20.30       1401.15      1\n",
       "4121       1              1        1  ...           95.55       2510.20      0\n",
       "1425       1              0        1  ...           74.15        741.40      1\n",
       "\n",
       "[5 rows x 20 columns]"
      ]
     },
     "execution_count": 53,
     "metadata": {},
     "output_type": "execute_result"
    }
   ],
   "source": [
    "df.head()"
   ]
  },
  {
   "cell_type": "markdown",
   "metadata": {
    "id": "cIQMu-j3Q4Jx"
   },
   "source": [
    "#### Melihat Columns Data setelah dilakukan proses Features Engineering"
   ]
  },
  {
   "cell_type": "code",
   "execution_count": 54,
   "metadata": {
    "colab": {
     "base_uri": "https://localhost:8080/"
    },
    "id": "mHLylQ59Q4Jx",
    "outputId": "ca440f00-e72c-4e8c-e2a7-cb1d8964ebac"
   },
   "outputs": [
    {
     "name": "stdout",
     "output_type": "stream",
     "text": [
      "gender [1 0] \n",
      "\n",
      "SeniorCitizen [0 1] \n",
      "\n",
      "Partner [0 1] \n",
      "\n",
      "Dependents [0 1] \n",
      "\n",
      "tenure [ 9 37 72 27 12  4 51 29 17  1 50  2  8 68 66 54 18 47 69 64 35 23 45 25\n",
      " 30  6 16 61 63 52 41 13  3 10 71  5 44 24 22 32 55 14 56 58 65 62 46 48\n",
      " 33 11 19 38 53 67 21 59 70 40 42 49 39 26 43 15 28 60 34 36 31 57  7 20\n",
      "  0] \n",
      "\n",
      "PhoneService [0 1] \n",
      "\n",
      "MultipleLines [1 0 2] \n",
      "\n",
      "InternetService [2 0 1] \n",
      "\n",
      "OnlineSecurity [2 0 1] \n",
      "\n",
      "OnlineBackup [2 1 0] \n",
      "\n",
      "DeviceProtection [2 1 0] \n",
      "\n",
      "TechSupport [2 0 1] \n",
      "\n",
      "StreamingTV [2 0 1] \n",
      "\n",
      "StreamingMovies [2 1 0] \n",
      "\n",
      "Contract [0 1 2] \n",
      "\n",
      "PaperlessBilling [1 0] \n",
      "\n",
      "PaymentMethod [1 2 0 3] \n",
      "\n",
      "MonthlyCharges [20.25 19.6  20.3  ... 23.8  58.45 23.65] \n",
      "\n",
      "TotalCharges [ 178.5   727.8  1401.15 ...  964.35 1185.95   94.5 ] \n",
      "\n",
      "Churn [0 1] \n",
      "\n"
     ]
    }
   ],
   "source": [
    "for col in df.columns:\n",
    "    print(col, df[col].unique(), '\\n')"
   ]
  },
  {
   "cell_type": "markdown",
   "metadata": {
    "id": "zfcxM-S9Q4Jy"
   },
   "source": [
    "## Feature Selection"
   ]
  },
  {
   "cell_type": "code",
   "execution_count": 55,
   "metadata": {
    "id": "zsarQUeYQ4Jy"
   },
   "outputs": [],
   "source": [
    "X_train = df.drop(['Churn'],axis=1)\n",
    "y_train = df[['Churn']]"
   ]
  },
  {
   "cell_type": "code",
   "execution_count": 56,
   "metadata": {
    "colab": {
     "base_uri": "https://localhost:8080/"
    },
    "id": "v7nMdwJCQ4Jy",
    "outputId": "2440e78b-146f-45b1-89cd-7b07bef25db4"
   },
   "outputs": [
    {
     "name": "stderr",
     "output_type": "stream",
     "text": [
      "/usr/local/lib/python3.7/dist-packages/ipykernel_launcher.py:2: DataConversionWarning: A column-vector y was passed when a 1d array was expected. Please change the shape of y to (n_samples,), for example using ravel().\n",
      "  \n"
     ]
    },
    {
     "data": {
      "text/plain": [
       "RandomForestClassifier(bootstrap=True, ccp_alpha=0.0, class_weight=None,\n",
       "                       criterion='gini', max_depth=None, max_features='auto',\n",
       "                       max_leaf_nodes=None, max_samples=None,\n",
       "                       min_impurity_decrease=0.0, min_impurity_split=None,\n",
       "                       min_samples_leaf=1, min_samples_split=2,\n",
       "                       min_weight_fraction_leaf=0.0, n_estimators=100,\n",
       "                       n_jobs=None, oob_score=False, random_state=42, verbose=0,\n",
       "                       warm_start=False)"
      ]
     },
     "execution_count": 56,
     "metadata": {},
     "output_type": "execute_result"
    }
   ],
   "source": [
    "feature_sel_model = RandomForestClassifier(random_state=42) \n",
    "feature_sel_model.fit(X_train, y_train)"
   ]
  },
  {
   "cell_type": "code",
   "execution_count": 57,
   "metadata": {
    "colab": {
     "base_uri": "https://localhost:8080/",
     "height": 0
    },
    "id": "RCC4-4q9Q4Jy",
    "outputId": "5214058c-dad7-46fb-c914-c95680540d85"
   },
   "outputs": [
    {
     "data": {
      "image/png": "[encoded data removed]",
      "text/plain": [
       "<Figure size 864x432 with 1 Axes>"
      ]
     },
     "metadata": {
      "needs_background": "light"
     },
     "output_type": "display_data"
    }
   ],
   "source": [
    "importance = pd.Series(feature_sel_model.feature_importances_)\n",
    "importance.index = df.drop('Churn', axis=1).columns\n",
    "importance.sort_values(inplace=True, ascending=False)\n",
    "importance.plot.bar(figsize=(12,6));"
   ]
  },
  {
   "cell_type": "code",
   "execution_count": 58,
   "metadata": {
    "colab": {
     "base_uri": "https://localhost:8080/"
    },
    "id": "dVWdU_A8Q4Jz",
    "outputId": "35611c54-19b8-47c8-9a23-72bcb796a110"
   },
   "outputs": [
    {
     "name": "stdout",
     "output_type": "stream",
     "text": [
      "Features Importance:\n",
      "TotalCharges        0.188835\n",
      "MonthlyCharges      0.172138\n",
      "tenure              0.162013\n",
      "Contract            0.077080\n",
      "PaymentMethod       0.057641\n",
      "OnlineSecurity      0.042548\n",
      "TechSupport         0.039199\n",
      "InternetService     0.037759\n",
      "gender              0.027237\n",
      "OnlineBackup        0.024365\n",
      "PaperlessBilling    0.024276\n",
      "Partner             0.022924\n",
      "MultipleLines       0.022366\n",
      "DeviceProtection    0.021791\n",
      "Dependents          0.019926\n",
      "SeniorCitizen       0.019917\n",
      "StreamingTV         0.017864\n",
      "StreamingMovies     0.017837\n",
      "PhoneService        0.004286\n",
      "dtype: float64\n",
      "\n",
      "\n",
      "Persentase Features Importance:\n",
      "1.0\n",
      "\n",
      "\n",
      "Features Importance Index:\n",
      "Index(['TotalCharges', 'MonthlyCharges', 'tenure', 'Contract', 'PaymentMethod',\n",
      "       'OnlineSecurity', 'TechSupport', 'InternetService', 'gender',\n",
      "       'OnlineBackup', 'PaperlessBilling', 'Partner', 'MultipleLines',\n",
      "       'DeviceProtection', 'Dependents', 'SeniorCitizen', 'StreamingTV',\n",
      "       'StreamingMovies', 'PhoneService'],\n",
      "      dtype='object')\n"
     ]
    }
   ],
   "source": [
    "features_importance = importance[0:19]\n",
    "\n",
    "print(\"Features Importance:\")\n",
    "print(features_importance)\n",
    "print(\"\\n\")\n",
    "print(\"Persentase Features Importance:\")\n",
    "print(np.round(features_importance.sum(),2))\n",
    "print(\"\\n\")\n",
    "print(\"Features Importance Index:\")\n",
    "print(features_importance.index )"
   ]
  },
  {
   "cell_type": "markdown",
   "metadata": {
    "id": "OJQv4Qh2Q4Jz"
   },
   "source": [
    "### Menentukan Features pilihan"
   ]
  },
  {
   "cell_type": "code",
   "execution_count": 59,
   "metadata": {
    "id": "vXtJGp6KQ4Jz"
   },
   "outputs": [],
   "source": [
    "col_to_use = ['tenure', 'PaymentMethod', 'Contract', 'TotalCharges', 'OnlineSecurity',\n",
    "       'TechSupport', 'MonthlyCharges', 'gender', 'InternetService', 'Partner',\n",
    "       'OnlineBackup', 'PaperlessBilling', 'MultipleLines', 'DeviceProtection',\n",
    "       'SeniorCitizen', 'Dependents', 'StreamingTV', 'StreamingMovies', 'PhoneService', 'Churn']"
   ]
  },
  {
   "cell_type": "code",
   "execution_count": 60,
   "metadata": {
    "colab": {
     "base_uri": "https://localhost:8080/",
     "height": 0
    },
    "id": "b5ko860rQ4J0",
    "outputId": "cb868018-9c8a-46e6-d95c-eaeb0b9002c5"
   },
   "outputs": [
    {
     "data": {
      "text/html": [
       "<div>\n",
       "<style scoped>\n",
       "    .dataframe tbody tr th:only-of-type {\n",
       "        vertical-align: middle;\n",
       "    }\n",
       "\n",
       "    .dataframe tbody tr th {\n",
       "        vertical-align: top;\n",
       "    }\n",
       "\n",
       "    .dataframe thead th {\n",
       "        text-align: right;\n",
       "    }\n",
       "</style>\n",
       "<table border=\"1\" class=\"dataframe\">\n",
       "  <thead>\n",
       "    <tr style=\"text-align: right;\">\n",
       "      <th></th>\n",
       "      <th>tenure</th>\n",
       "      <th>PaymentMethod</th>\n",
       "      <th>Contract</th>\n",
       "      <th>TotalCharges</th>\n",
       "      <th>OnlineSecurity</th>\n",
       "      <th>TechSupport</th>\n",
       "      <th>MonthlyCharges</th>\n",
       "      <th>gender</th>\n",
       "      <th>InternetService</th>\n",
       "      <th>Partner</th>\n",
       "      <th>OnlineBackup</th>\n",
       "      <th>PaperlessBilling</th>\n",
       "      <th>MultipleLines</th>\n",
       "      <th>DeviceProtection</th>\n",
       "      <th>SeniorCitizen</th>\n",
       "      <th>Dependents</th>\n",
       "      <th>StreamingTV</th>\n",
       "      <th>StreamingMovies</th>\n",
       "      <th>PhoneService</th>\n",
       "      <th>Churn</th>\n",
       "    </tr>\n",
       "  </thead>\n",
       "  <tbody>\n",
       "    <tr>\n",
       "      <th>3637</th>\n",
       "      <td>9</td>\n",
       "      <td>1</td>\n",
       "      <td>0</td>\n",
       "      <td>178.50</td>\n",
       "      <td>2</td>\n",
       "      <td>2</td>\n",
       "      <td>20.25</td>\n",
       "      <td>1</td>\n",
       "      <td>2</td>\n",
       "      <td>0</td>\n",
       "      <td>2</td>\n",
       "      <td>1</td>\n",
       "      <td>1</td>\n",
       "      <td>2</td>\n",
       "      <td>0</td>\n",
       "      <td>0</td>\n",
       "      <td>2</td>\n",
       "      <td>2</td>\n",
       "      <td>0</td>\n",
       "      <td>0</td>\n",
       "    </tr>\n",
       "    <tr>\n",
       "      <th>6042</th>\n",
       "      <td>37</td>\n",
       "      <td>1</td>\n",
       "      <td>1</td>\n",
       "      <td>727.80</td>\n",
       "      <td>2</td>\n",
       "      <td>2</td>\n",
       "      <td>19.60</td>\n",
       "      <td>0</td>\n",
       "      <td>2</td>\n",
       "      <td>1</td>\n",
       "      <td>2</td>\n",
       "      <td>1</td>\n",
       "      <td>1</td>\n",
       "      <td>2</td>\n",
       "      <td>1</td>\n",
       "      <td>0</td>\n",
       "      <td>2</td>\n",
       "      <td>2</td>\n",
       "      <td>0</td>\n",
       "      <td>1</td>\n",
       "    </tr>\n",
       "    <tr>\n",
       "      <th>1824</th>\n",
       "      <td>72</td>\n",
       "      <td>2</td>\n",
       "      <td>2</td>\n",
       "      <td>1401.15</td>\n",
       "      <td>2</td>\n",
       "      <td>2</td>\n",
       "      <td>20.30</td>\n",
       "      <td>1</td>\n",
       "      <td>2</td>\n",
       "      <td>1</td>\n",
       "      <td>2</td>\n",
       "      <td>1</td>\n",
       "      <td>1</td>\n",
       "      <td>2</td>\n",
       "      <td>0</td>\n",
       "      <td>1</td>\n",
       "      <td>2</td>\n",
       "      <td>2</td>\n",
       "      <td>0</td>\n",
       "      <td>1</td>\n",
       "    </tr>\n",
       "    <tr>\n",
       "      <th>4121</th>\n",
       "      <td>27</td>\n",
       "      <td>0</td>\n",
       "      <td>0</td>\n",
       "      <td>2510.20</td>\n",
       "      <td>0</td>\n",
       "      <td>0</td>\n",
       "      <td>95.55</td>\n",
       "      <td>1</td>\n",
       "      <td>0</td>\n",
       "      <td>1</td>\n",
       "      <td>1</td>\n",
       "      <td>0</td>\n",
       "      <td>0</td>\n",
       "      <td>1</td>\n",
       "      <td>1</td>\n",
       "      <td>0</td>\n",
       "      <td>0</td>\n",
       "      <td>1</td>\n",
       "      <td>0</td>\n",
       "      <td>0</td>\n",
       "    </tr>\n",
       "    <tr>\n",
       "      <th>1425</th>\n",
       "      <td>12</td>\n",
       "      <td>0</td>\n",
       "      <td>0</td>\n",
       "      <td>741.40</td>\n",
       "      <td>0</td>\n",
       "      <td>1</td>\n",
       "      <td>74.15</td>\n",
       "      <td>1</td>\n",
       "      <td>1</td>\n",
       "      <td>1</td>\n",
       "      <td>0</td>\n",
       "      <td>0</td>\n",
       "      <td>1</td>\n",
       "      <td>1</td>\n",
       "      <td>0</td>\n",
       "      <td>0</td>\n",
       "      <td>1</td>\n",
       "      <td>1</td>\n",
       "      <td>0</td>\n",
       "      <td>1</td>\n",
       "    </tr>\n",
       "  </tbody>\n",
       "</table>\n",
       "</div>"
      ],
      "text/plain": [
       "      tenure  PaymentMethod  Contract  ...  StreamingMovies  PhoneService  Churn\n",
       "3637       9              1         0  ...                2             0      0\n",
       "6042      37              1         1  ...                2             0      1\n",
       "1824      72              2         2  ...                2             0      1\n",
       "4121      27              0         0  ...                1             0      0\n",
       "1425      12              0         0  ...                1             0      1\n",
       "\n",
       "[5 rows x 20 columns]"
      ]
     },
     "execution_count": 60,
     "metadata": {},
     "output_type": "execute_result"
    }
   ],
   "source": [
    "dataset = df.copy()\n",
    "dataset = df[col_to_use]\n",
    "dataset.head()"
   ]
  },
  {
   "cell_type": "code",
   "execution_count": 61,
   "metadata": {
    "colab": {
     "base_uri": "https://localhost:8080/"
    },
    "id": "W_M6wwxTooOA",
    "outputId": "efb59e0f-da9d-4644-9351-d4df62876a15"
   },
   "outputs": [
    {
     "data": {
      "text/plain": [
       "Index(['tenure', 'PaymentMethod', 'Contract', 'TotalCharges', 'OnlineSecurity',\n",
       "       'TechSupport', 'MonthlyCharges', 'gender', 'InternetService', 'Partner',\n",
       "       'OnlineBackup', 'PaperlessBilling', 'MultipleLines', 'DeviceProtection',\n",
       "       'SeniorCitizen', 'Dependents', 'StreamingTV', 'StreamingMovies',\n",
       "       'PhoneService', 'Churn'],\n",
       "      dtype='object')"
      ]
     },
     "execution_count": 61,
     "metadata": {},
     "output_type": "execute_result"
    }
   ],
   "source": [
    "dataset.columns"
   ]
  },
  {
   "cell_type": "markdown",
   "metadata": {
    "id": "zIa-zocHm2TP"
   },
   "source": [
    "# Data Preprocessing"
   ]
  },
  {
   "cell_type": "markdown",
   "metadata": {
    "id": "7keZrkl8Q4J1"
   },
   "source": [
    "### Menentukan variable Bebas (X) dan Variabel Terikat (y) "
   ]
  },
  {
   "cell_type": "code",
   "execution_count": 62,
   "metadata": {
    "id": "SUlYj_LBQ4J2"
   },
   "outputs": [],
   "source": [
    "X = dataset.drop(['Churn'], axis=1)\n",
    "y = dataset['Churn']"
   ]
  },
  {
   "cell_type": "markdown",
   "metadata": {
    "id": "4m0fKa6gyGo2"
   },
   "source": [
    "### Split data"
   ]
  },
  {
   "cell_type": "code",
   "execution_count": 63,
   "metadata": {
    "id": "78hD3cVtQ4J2"
   },
   "outputs": [],
   "source": [
    "X_train, X_val, y_train, y_val = train_test_split(X, y, test_size=0.3, random_state=42)"
   ]
  },
  {
   "cell_type": "code",
   "execution_count": 64,
   "metadata": {
    "colab": {
     "base_uri": "https://localhost:8080/"
    },
    "id": "hSkZdO1l7F5I",
    "outputId": "355c1590-ae14-4ae3-a465-051ad389f1aa"
   },
   "outputs": [
    {
     "data": {
      "text/plain": [
       "(4436, 19)"
      ]
     },
     "execution_count": 64,
     "metadata": {},
     "output_type": "execute_result"
    }
   ],
   "source": [
    "X_train.shape"
   ]
  },
  {
   "cell_type": "code",
   "execution_count": 65,
   "metadata": {
    "colab": {
     "base_uri": "https://localhost:8080/"
    },
    "id": "n9N-1xe3ceGH",
    "outputId": "ca070def-313a-4532-dec0-448f69507704"
   },
   "outputs": [
    {
     "data": {
      "text/plain": [
       "(1902, 19)"
      ]
     },
     "execution_count": 65,
     "metadata": {},
     "output_type": "execute_result"
    }
   ],
   "source": [
    "X_val.shape"
   ]
  },
  {
   "cell_type": "markdown",
   "metadata": {
    "id": "03QgcsWjASyG"
   },
   "source": [
    "### Scalling"
   ]
  },
  {
   "cell_type": "code",
   "execution_count": 66,
   "metadata": {
    "id": "r-evFppYAwWr"
   },
   "outputs": [],
   "source": [
    "scaler = StandardScaler()\n",
    "scaler.fit(X_train)\n",
    "X_train_trf = scaler.transform(X_train) \n",
    "X_val_trf = scaler.transform(X_val)"
   ]
  },
  {
   "cell_type": "markdown",
   "metadata": {
    "id": "pVBdr7jbm2TR"
   },
   "source": [
    "# Pipeline"
   ]
  },
  {
   "cell_type": "markdown",
   "metadata": {
    "id": "yGunocCsm2TR"
   },
   "source": [
    "### membangun pipeline"
   ]
  },
  {
   "cell_type": "code",
   "execution_count": 67,
   "metadata": {
    "id": "_FPTdF25pDPh"
   },
   "outputs": [],
   "source": [
    "import os"
   ]
  },
  {
   "cell_type": "code",
   "execution_count": 68,
   "metadata": {
    "id": "KmH2FaLBpE9P"
   },
   "outputs": [],
   "source": [
    "# Where to save the figures\n",
    "PROJECT_ROOT_DIR = \".\"\n",
    "CHAPTER_ID = \"data\"\n",
    "IMAGES_PATH = os.path.join(PROJECT_ROOT_DIR, \"images\", CHAPTER_ID)\n",
    "os.makedirs(IMAGES_PATH, exist_ok=True)\n",
    "\n",
    "def save_fig(fig_id, tight_layout=True, fig_extension=\"png\", resolution=300):\n",
    "    path = os.path.join(IMAGES_PATH, fig_id + \".\" + fig_extension)\n",
    "    print(\"Saving figure\", fig_id)\n",
    "    if tight_layout:\n",
    "        plt.tight_layout()\n",
    "    plt.savefig(path, format=fig_extension, dpi=resolution)"
   ]
  },
  {
   "cell_type": "code",
   "execution_count": 69,
   "metadata": {
    "id": "8KlJtc2im2TR"
   },
   "outputs": [],
   "source": [
    "def save_to_multiple_csv_files(data, name_prefix, header=None, n_parts=10):\n",
    "    churn_dir = os.path.join(\"datasets\", \"telco\")\n",
    "    os.makedirs(churn_dir, exist_ok=True)\n",
    "    path_format = os.path.join(churn_dir, \"my_{}_{:02d}.csv\")\n",
    "\n",
    "    filepaths = []\n",
    "    m = len(data)\n",
    "    for file_idx, row_indices in enumerate(np.array_split(np.arange(m), n_parts)):\n",
    "        part_csv = path_format.format(name_prefix, file_idx)\n",
    "        filepaths.append(part_csv)\n",
    "        with open(part_csv, \"wt\", encoding=\"utf-8\") as f:\n",
    "            if header is not None:\n",
    "                f.write(header)\n",
    "                f.write(\"\\n\")\n",
    "            for row_idx in row_indices:\n",
    "                f.write(\",\".join([repr(col) for col in data[row_idx]]))\n",
    "                f.write(\"\\n\")\n",
    "    return filepaths"
   ]
  },
  {
   "cell_type": "markdown",
   "metadata": {
    "id": "skdOlaHUm2TS"
   },
   "source": [
    "membagi dataset menjadi 20 CSV files dan melakukan penyimpanan"
   ]
  },
  {
   "cell_type": "code",
   "execution_count": 70,
   "metadata": {
    "id": "5oTVUT-hm2TS"
   },
   "outputs": [],
   "source": [
    "train_data = np.c_[X_train_trf, y_train]\n",
    "valid_data = np.c_[X_val_trf, y_val]\n",
    "header_cols = dataset.columns \n",
    "header = \",\".join(header_cols)"
   ]
  },
  {
   "cell_type": "code",
   "execution_count": 71,
   "metadata": {
    "id": "R5-tdRyXm2TS"
   },
   "outputs": [],
   "source": [
    "train_filepaths = save_to_multiple_csv_files(train_data, \"train\", header, n_parts=20)\n",
    "valid_filepaths = save_to_multiple_csv_files(valid_data, \"valid\", header, n_parts=10)"
   ]
  },
  {
   "cell_type": "markdown",
   "metadata": {
    "id": "hcM71Jmwbvf3"
   },
   "source": [
    "### train dataset"
   ]
  },
  {
   "cell_type": "code",
   "execution_count": 72,
   "metadata": {
    "colab": {
     "base_uri": "https://localhost:8080/",
     "height": 0
    },
    "id": "nGCT9WiAm2TS",
    "outputId": "cce2ec72-68c0-4ed8-e2fa-2a9c68036929"
   },
   "outputs": [
    {
     "data": {
      "text/html": [
       "<div>\n",
       "<style scoped>\n",
       "    .dataframe tbody tr th:only-of-type {\n",
       "        vertical-align: middle;\n",
       "    }\n",
       "\n",
       "    .dataframe tbody tr th {\n",
       "        vertical-align: top;\n",
       "    }\n",
       "\n",
       "    .dataframe thead th {\n",
       "        text-align: right;\n",
       "    }\n",
       "</style>\n",
       "<table border=\"1\" class=\"dataframe\">\n",
       "  <thead>\n",
       "    <tr style=\"text-align: right;\">\n",
       "      <th></th>\n",
       "      <th>tenure</th>\n",
       "      <th>PaymentMethod</th>\n",
       "      <th>Contract</th>\n",
       "      <th>TotalCharges</th>\n",
       "      <th>OnlineSecurity</th>\n",
       "      <th>TechSupport</th>\n",
       "      <th>MonthlyCharges</th>\n",
       "      <th>gender</th>\n",
       "      <th>InternetService</th>\n",
       "      <th>Partner</th>\n",
       "      <th>OnlineBackup</th>\n",
       "      <th>PaperlessBilling</th>\n",
       "      <th>MultipleLines</th>\n",
       "      <th>DeviceProtection</th>\n",
       "      <th>SeniorCitizen</th>\n",
       "      <th>Dependents</th>\n",
       "      <th>StreamingTV</th>\n",
       "      <th>StreamingMovies</th>\n",
       "      <th>PhoneService</th>\n",
       "      <th>Churn</th>\n",
       "    </tr>\n",
       "  </thead>\n",
       "  <tbody>\n",
       "    <tr>\n",
       "      <th>0</th>\n",
       "      <td>0.099621</td>\n",
       "      <td>1.464178</td>\n",
       "      <td>1.565390</td>\n",
       "      <td>-0.589708</td>\n",
       "      <td>1.591976</td>\n",
       "      <td>1.592129</td>\n",
       "      <td>-1.304150</td>\n",
       "      <td>-1.014533</td>\n",
       "      <td>1.560927</td>\n",
       "      <td>1.034873</td>\n",
       "      <td>1.558650</td>\n",
       "      <td>-0.842283</td>\n",
       "      <td>-1.044626</td>\n",
       "      <td>1.560164</td>\n",
       "      <td>-0.444186</td>\n",
       "      <td>1.535598</td>\n",
       "      <td>1.537274</td>\n",
       "      <td>1.536767</td>\n",
       "      <td>-0.32254</td>\n",
       "      <td>1.0</td>\n",
       "    </tr>\n",
       "    <tr>\n",
       "      <th>1</th>\n",
       "      <td>-0.308466</td>\n",
       "      <td>1.464178</td>\n",
       "      <td>1.565390</td>\n",
       "      <td>-0.703359</td>\n",
       "      <td>1.591976</td>\n",
       "      <td>1.592129</td>\n",
       "      <td>-1.325681</td>\n",
       "      <td>-1.014533</td>\n",
       "      <td>1.560927</td>\n",
       "      <td>-0.966302</td>\n",
       "      <td>1.558650</td>\n",
       "      <td>1.187249</td>\n",
       "      <td>-1.044626</td>\n",
       "      <td>1.560164</td>\n",
       "      <td>-0.444186</td>\n",
       "      <td>-0.651212</td>\n",
       "      <td>1.537274</td>\n",
       "      <td>1.536767</td>\n",
       "      <td>-0.32254</td>\n",
       "      <td>0.0</td>\n",
       "    </tr>\n",
       "    <tr>\n",
       "      <th>2</th>\n",
       "      <td>-1.165449</td>\n",
       "      <td>-0.279237</td>\n",
       "      <td>-0.832838</td>\n",
       "      <td>-0.929492</td>\n",
       "      <td>-0.914059</td>\n",
       "      <td>0.339214</td>\n",
       "      <td>-0.487655</td>\n",
       "      <td>0.985675</td>\n",
       "      <td>0.282206</td>\n",
       "      <td>1.034873</td>\n",
       "      <td>-1.003578</td>\n",
       "      <td>1.187249</td>\n",
       "      <td>0.517208</td>\n",
       "      <td>-0.998862</td>\n",
       "      <td>-0.444186</td>\n",
       "      <td>-0.651212</td>\n",
       "      <td>-1.081020</td>\n",
       "      <td>-1.083179</td>\n",
       "      <td>-0.32254</td>\n",
       "      <td>0.0</td>\n",
       "    </tr>\n",
       "    <tr>\n",
       "      <th>3</th>\n",
       "      <td>-0.104423</td>\n",
       "      <td>1.464178</td>\n",
       "      <td>1.565390</td>\n",
       "      <td>-0.085136</td>\n",
       "      <td>-0.914059</td>\n",
       "      <td>0.339214</td>\n",
       "      <td>0.143349</td>\n",
       "      <td>0.985675</td>\n",
       "      <td>0.282206</td>\n",
       "      <td>-0.966302</td>\n",
       "      <td>-1.003578</td>\n",
       "      <td>-0.842283</td>\n",
       "      <td>-1.044626</td>\n",
       "      <td>0.280651</td>\n",
       "      <td>2.251311</td>\n",
       "      <td>-0.651212</td>\n",
       "      <td>0.228127</td>\n",
       "      <td>-1.083179</td>\n",
       "      <td>-0.32254</td>\n",
       "      <td>1.0</td>\n",
       "    </tr>\n",
       "    <tr>\n",
       "      <th>4</th>\n",
       "      <td>1.242264</td>\n",
       "      <td>1.464178</td>\n",
       "      <td>0.366276</td>\n",
       "      <td>1.560577</td>\n",
       "      <td>-0.914059</td>\n",
       "      <td>-0.913702</td>\n",
       "      <td>0.850538</td>\n",
       "      <td>0.985675</td>\n",
       "      <td>-0.996514</td>\n",
       "      <td>-0.966302</td>\n",
       "      <td>0.277536</td>\n",
       "      <td>1.187249</td>\n",
       "      <td>-1.044626</td>\n",
       "      <td>-0.998862</td>\n",
       "      <td>-0.444186</td>\n",
       "      <td>-0.651212</td>\n",
       "      <td>-1.081020</td>\n",
       "      <td>0.226794</td>\n",
       "      <td>-0.32254</td>\n",
       "      <td>1.0</td>\n",
       "    </tr>\n",
       "  </tbody>\n",
       "</table>\n",
       "</div>"
      ],
      "text/plain": [
       "     tenure  PaymentMethod  Contract  ...  StreamingMovies  PhoneService  Churn\n",
       "0  0.099621       1.464178  1.565390  ...         1.536767      -0.32254    1.0\n",
       "1 -0.308466       1.464178  1.565390  ...         1.536767      -0.32254    0.0\n",
       "2 -1.165449      -0.279237 -0.832838  ...        -1.083179      -0.32254    0.0\n",
       "3 -0.104423       1.464178  1.565390  ...        -1.083179      -0.32254    1.0\n",
       "4  1.242264       1.464178  0.366276  ...         0.226794      -0.32254    1.0\n",
       "\n",
       "[5 rows x 20 columns]"
      ]
     },
     "execution_count": 72,
     "metadata": {},
     "output_type": "execute_result"
    }
   ],
   "source": [
    "pd.read_csv(train_filepaths[0]).head()"
   ]
  },
  {
   "cell_type": "code",
   "execution_count": 73,
   "metadata": {
    "colab": {
     "base_uri": "https://localhost:8080/"
    },
    "id": "3UwUASGum2TS",
    "outputId": "81ef22be-59c9-41b0-8617-ae07dd8b4dea"
   },
   "outputs": [
    {
     "data": {
      "text/plain": [
       "83294"
      ]
     },
     "execution_count": 73,
     "metadata": {},
     "output_type": "execute_result"
    }
   ],
   "source": [
    "os.path.getsize(train_filepaths[0])"
   ]
  },
  {
   "cell_type": "code",
   "execution_count": 74,
   "metadata": {
    "id": "8Pjkg5BXT9BE"
   },
   "outputs": [],
   "source": [
    "import re\n",
    "train_folder=('/').join(re.search('(.*)/(.*)/(.*)',train_filepaths[0], re.IGNORECASE).group(1,2))"
   ]
  },
  {
   "cell_type": "code",
   "execution_count": 75,
   "metadata": {
    "colab": {
     "base_uri": "https://localhost:8080/",
     "height": 0
    },
    "id": "sfi1Azy5SqIG",
    "outputId": "aa903b3b-71c1-4275-9cf1-3498a0d08767"
   },
   "outputs": [
    {
     "name": "stdout",
     "output_type": "stream",
     "text": [
      "datasets/telco/my_train_00.csv\n"
     ]
    },
    {
     "data": {
      "application/vnd.google.colaboratory.intrinsic+json": {
       "type": "string"
      },
      "text/plain": [
       "'datasets/telco'"
      ]
     },
     "execution_count": 75,
     "metadata": {},
     "output_type": "execute_result"
    }
   ],
   "source": [
    "print(train_filepaths[0])\n",
    "train_folder"
   ]
  },
  {
   "cell_type": "code",
   "execution_count": 76,
   "metadata": {
    "id": "ZiEDR6T8Sq1u"
   },
   "outputs": [],
   "source": [
    "full_csv = train_folder+'/full_train.csv'\n",
    "with open(full_csv, \"wt\", encoding=\"utf-8\") as f:\n",
    "    if header is not None:\n",
    "        f.write(header)\n",
    "        f.write(\"\\n\")\n",
    "    for row_idx in range(train_data.shape[0]):\n",
    "        f.write(\",\".join([repr(col) for col in train_data[row_idx]]))\n",
    "        f.write(\"\\n\")"
   ]
  },
  {
   "cell_type": "code",
   "execution_count": 77,
   "metadata": {
    "colab": {
     "base_uri": "https://localhost:8080/"
    },
    "id": "s6XfarHUSu2C",
    "outputId": "563b6f46-9d6b-486f-b57a-f873c1e03aa0"
   },
   "outputs": [
    {
     "data": {
      "text/plain": [
       "1659799"
      ]
     },
     "execution_count": 77,
     "metadata": {},
     "output_type": "execute_result"
    }
   ],
   "source": [
    "os.path.getsize(full_csv)"
   ]
  },
  {
   "cell_type": "code",
   "execution_count": 78,
   "metadata": {
    "colab": {
     "base_uri": "https://localhost:8080/"
    },
    "id": "qBTRwAAhTfDr",
    "outputId": "d6c313df-828a-4575-f787-59b89b76f144"
   },
   "outputs": [
    {
     "data": {
      "text/plain": [
       "(4436, 20)"
      ]
     },
     "execution_count": 78,
     "metadata": {},
     "output_type": "execute_result"
    }
   ],
   "source": [
    "pd.read_csv(full_csv).shape"
   ]
  },
  {
   "cell_type": "code",
   "execution_count": 79,
   "metadata": {
    "id": "X0XzN788a6Y2"
   },
   "outputs": [],
   "source": [
    "train_data = pd.read_csv(full_csv)"
   ]
  },
  {
   "cell_type": "code",
   "execution_count": 80,
   "metadata": {
    "colab": {
     "base_uri": "https://localhost:8080/",
     "height": 0
    },
    "id": "NTbmXya8a_0d",
    "outputId": "73aa1138-3c9e-4a8d-c834-0d78f7fd0998"
   },
   "outputs": [
    {
     "data": {
      "text/html": [
       "<div>\n",
       "<style scoped>\n",
       "    .dataframe tbody tr th:only-of-type {\n",
       "        vertical-align: middle;\n",
       "    }\n",
       "\n",
       "    .dataframe tbody tr th {\n",
       "        vertical-align: top;\n",
       "    }\n",
       "\n",
       "    .dataframe thead th {\n",
       "        text-align: right;\n",
       "    }\n",
       "</style>\n",
       "<table border=\"1\" class=\"dataframe\">\n",
       "  <thead>\n",
       "    <tr style=\"text-align: right;\">\n",
       "      <th></th>\n",
       "      <th>tenure</th>\n",
       "      <th>PaymentMethod</th>\n",
       "      <th>Contract</th>\n",
       "      <th>TotalCharges</th>\n",
       "      <th>OnlineSecurity</th>\n",
       "      <th>TechSupport</th>\n",
       "      <th>MonthlyCharges</th>\n",
       "      <th>gender</th>\n",
       "      <th>InternetService</th>\n",
       "      <th>Partner</th>\n",
       "      <th>OnlineBackup</th>\n",
       "      <th>PaperlessBilling</th>\n",
       "      <th>MultipleLines</th>\n",
       "      <th>DeviceProtection</th>\n",
       "      <th>SeniorCitizen</th>\n",
       "      <th>Dependents</th>\n",
       "      <th>StreamingTV</th>\n",
       "      <th>StreamingMovies</th>\n",
       "      <th>PhoneService</th>\n",
       "      <th>Churn</th>\n",
       "    </tr>\n",
       "  </thead>\n",
       "  <tbody>\n",
       "    <tr>\n",
       "      <th>0</th>\n",
       "      <td>0.099621</td>\n",
       "      <td>1.464178</td>\n",
       "      <td>1.565390</td>\n",
       "      <td>-0.589708</td>\n",
       "      <td>1.591976</td>\n",
       "      <td>1.592129</td>\n",
       "      <td>-1.304150</td>\n",
       "      <td>-1.014533</td>\n",
       "      <td>1.560927</td>\n",
       "      <td>1.034873</td>\n",
       "      <td>1.558650</td>\n",
       "      <td>-0.842283</td>\n",
       "      <td>-1.044626</td>\n",
       "      <td>1.560164</td>\n",
       "      <td>-0.444186</td>\n",
       "      <td>1.535598</td>\n",
       "      <td>1.537274</td>\n",
       "      <td>1.536767</td>\n",
       "      <td>-0.32254</td>\n",
       "      <td>1.0</td>\n",
       "    </tr>\n",
       "    <tr>\n",
       "      <th>1</th>\n",
       "      <td>-0.308466</td>\n",
       "      <td>1.464178</td>\n",
       "      <td>1.565390</td>\n",
       "      <td>-0.703359</td>\n",
       "      <td>1.591976</td>\n",
       "      <td>1.592129</td>\n",
       "      <td>-1.325681</td>\n",
       "      <td>-1.014533</td>\n",
       "      <td>1.560927</td>\n",
       "      <td>-0.966302</td>\n",
       "      <td>1.558650</td>\n",
       "      <td>1.187249</td>\n",
       "      <td>-1.044626</td>\n",
       "      <td>1.560164</td>\n",
       "      <td>-0.444186</td>\n",
       "      <td>-0.651212</td>\n",
       "      <td>1.537274</td>\n",
       "      <td>1.536767</td>\n",
       "      <td>-0.32254</td>\n",
       "      <td>0.0</td>\n",
       "    </tr>\n",
       "    <tr>\n",
       "      <th>2</th>\n",
       "      <td>-1.165449</td>\n",
       "      <td>-0.279237</td>\n",
       "      <td>-0.832838</td>\n",
       "      <td>-0.929492</td>\n",
       "      <td>-0.914059</td>\n",
       "      <td>0.339214</td>\n",
       "      <td>-0.487655</td>\n",
       "      <td>0.985675</td>\n",
       "      <td>0.282206</td>\n",
       "      <td>1.034873</td>\n",
       "      <td>-1.003578</td>\n",
       "      <td>1.187249</td>\n",
       "      <td>0.517208</td>\n",
       "      <td>-0.998862</td>\n",
       "      <td>-0.444186</td>\n",
       "      <td>-0.651212</td>\n",
       "      <td>-1.081020</td>\n",
       "      <td>-1.083179</td>\n",
       "      <td>-0.32254</td>\n",
       "      <td>0.0</td>\n",
       "    </tr>\n",
       "    <tr>\n",
       "      <th>3</th>\n",
       "      <td>-0.104423</td>\n",
       "      <td>1.464178</td>\n",
       "      <td>1.565390</td>\n",
       "      <td>-0.085136</td>\n",
       "      <td>-0.914059</td>\n",
       "      <td>0.339214</td>\n",
       "      <td>0.143349</td>\n",
       "      <td>0.985675</td>\n",
       "      <td>0.282206</td>\n",
       "      <td>-0.966302</td>\n",
       "      <td>-1.003578</td>\n",
       "      <td>-0.842283</td>\n",
       "      <td>-1.044626</td>\n",
       "      <td>0.280651</td>\n",
       "      <td>2.251311</td>\n",
       "      <td>-0.651212</td>\n",
       "      <td>0.228127</td>\n",
       "      <td>-1.083179</td>\n",
       "      <td>-0.32254</td>\n",
       "      <td>1.0</td>\n",
       "    </tr>\n",
       "    <tr>\n",
       "      <th>4</th>\n",
       "      <td>1.242264</td>\n",
       "      <td>1.464178</td>\n",
       "      <td>0.366276</td>\n",
       "      <td>1.560577</td>\n",
       "      <td>-0.914059</td>\n",
       "      <td>-0.913702</td>\n",
       "      <td>0.850538</td>\n",
       "      <td>0.985675</td>\n",
       "      <td>-0.996514</td>\n",
       "      <td>-0.966302</td>\n",
       "      <td>0.277536</td>\n",
       "      <td>1.187249</td>\n",
       "      <td>-1.044626</td>\n",
       "      <td>-0.998862</td>\n",
       "      <td>-0.444186</td>\n",
       "      <td>-0.651212</td>\n",
       "      <td>-1.081020</td>\n",
       "      <td>0.226794</td>\n",
       "      <td>-0.32254</td>\n",
       "      <td>1.0</td>\n",
       "    </tr>\n",
       "    <tr>\n",
       "      <th>...</th>\n",
       "      <td>...</td>\n",
       "      <td>...</td>\n",
       "      <td>...</td>\n",
       "      <td>...</td>\n",
       "      <td>...</td>\n",
       "      <td>...</td>\n",
       "      <td>...</td>\n",
       "      <td>...</td>\n",
       "      <td>...</td>\n",
       "      <td>...</td>\n",
       "      <td>...</td>\n",
       "      <td>...</td>\n",
       "      <td>...</td>\n",
       "      <td>...</td>\n",
       "      <td>...</td>\n",
       "      <td>...</td>\n",
       "      <td>...</td>\n",
       "      <td>...</td>\n",
       "      <td>...</td>\n",
       "      <td>...</td>\n",
       "    </tr>\n",
       "    <tr>\n",
       "      <th>4431</th>\n",
       "      <td>-1.287875</td>\n",
       "      <td>0.592470</td>\n",
       "      <td>-0.832838</td>\n",
       "      <td>-0.977938</td>\n",
       "      <td>-0.914059</td>\n",
       "      <td>-0.913702</td>\n",
       "      <td>0.156599</td>\n",
       "      <td>0.985675</td>\n",
       "      <td>-0.996514</td>\n",
       "      <td>-0.966302</td>\n",
       "      <td>-1.003578</td>\n",
       "      <td>-0.842283</td>\n",
       "      <td>0.517208</td>\n",
       "      <td>-0.998862</td>\n",
       "      <td>2.251311</td>\n",
       "      <td>-0.651212</td>\n",
       "      <td>-1.081020</td>\n",
       "      <td>-1.083179</td>\n",
       "      <td>-0.32254</td>\n",
       "      <td>0.0</td>\n",
       "    </tr>\n",
       "    <tr>\n",
       "      <th>4432</th>\n",
       "      <td>0.385282</td>\n",
       "      <td>-1.150945</td>\n",
       "      <td>-0.832838</td>\n",
       "      <td>0.761933</td>\n",
       "      <td>0.338959</td>\n",
       "      <td>-0.913702</td>\n",
       "      <td>0.981376</td>\n",
       "      <td>0.985675</td>\n",
       "      <td>-0.996514</td>\n",
       "      <td>1.034873</td>\n",
       "      <td>-1.003578</td>\n",
       "      <td>-0.842283</td>\n",
       "      <td>-1.044626</td>\n",
       "      <td>0.280651</td>\n",
       "      <td>-0.444186</td>\n",
       "      <td>-0.651212</td>\n",
       "      <td>-1.081020</td>\n",
       "      <td>0.226794</td>\n",
       "      <td>-0.32254</td>\n",
       "      <td>1.0</td>\n",
       "    </tr>\n",
       "    <tr>\n",
       "      <th>4433</th>\n",
       "      <td>0.548516</td>\n",
       "      <td>-0.279237</td>\n",
       "      <td>1.565390</td>\n",
       "      <td>1.033425</td>\n",
       "      <td>0.338959</td>\n",
       "      <td>0.339214</td>\n",
       "      <td>1.155274</td>\n",
       "      <td>-1.014533</td>\n",
       "      <td>-0.996514</td>\n",
       "      <td>1.034873</td>\n",
       "      <td>-1.003578</td>\n",
       "      <td>1.187249</td>\n",
       "      <td>-1.044626</td>\n",
       "      <td>0.280651</td>\n",
       "      <td>-0.444186</td>\n",
       "      <td>1.535598</td>\n",
       "      <td>-1.081020</td>\n",
       "      <td>0.226794</td>\n",
       "      <td>-0.32254</td>\n",
       "      <td>1.0</td>\n",
       "    </tr>\n",
       "    <tr>\n",
       "      <th>4434</th>\n",
       "      <td>0.385282</td>\n",
       "      <td>-1.150945</td>\n",
       "      <td>-0.832838</td>\n",
       "      <td>0.816377</td>\n",
       "      <td>-0.914059</td>\n",
       "      <td>0.339214</td>\n",
       "      <td>1.148650</td>\n",
       "      <td>0.985675</td>\n",
       "      <td>-0.996514</td>\n",
       "      <td>1.034873</td>\n",
       "      <td>0.277536</td>\n",
       "      <td>-0.842283</td>\n",
       "      <td>-1.044626</td>\n",
       "      <td>0.280651</td>\n",
       "      <td>-0.444186</td>\n",
       "      <td>-0.651212</td>\n",
       "      <td>-1.081020</td>\n",
       "      <td>0.226794</td>\n",
       "      <td>-0.32254</td>\n",
       "      <td>0.0</td>\n",
       "    </tr>\n",
       "    <tr>\n",
       "      <th>4435</th>\n",
       "      <td>1.283073</td>\n",
       "      <td>1.464178</td>\n",
       "      <td>0.366276</td>\n",
       "      <td>1.204320</td>\n",
       "      <td>0.338959</td>\n",
       "      <td>-0.913702</td>\n",
       "      <td>0.514333</td>\n",
       "      <td>0.985675</td>\n",
       "      <td>-0.996514</td>\n",
       "      <td>1.034873</td>\n",
       "      <td>-1.003578</td>\n",
       "      <td>1.187249</td>\n",
       "      <td>0.517208</td>\n",
       "      <td>0.280651</td>\n",
       "      <td>2.251311</td>\n",
       "      <td>-0.651212</td>\n",
       "      <td>-1.081020</td>\n",
       "      <td>-1.083179</td>\n",
       "      <td>-0.32254</td>\n",
       "      <td>1.0</td>\n",
       "    </tr>\n",
       "  </tbody>\n",
       "</table>\n",
       "<p>4436 rows × 20 columns</p>\n",
       "</div>"
      ],
      "text/plain": [
       "        tenure  PaymentMethod  Contract  ...  StreamingMovies  PhoneService  Churn\n",
       "0     0.099621       1.464178  1.565390  ...         1.536767      -0.32254    1.0\n",
       "1    -0.308466       1.464178  1.565390  ...         1.536767      -0.32254    0.0\n",
       "2    -1.165449      -0.279237 -0.832838  ...        -1.083179      -0.32254    0.0\n",
       "3    -0.104423       1.464178  1.565390  ...        -1.083179      -0.32254    1.0\n",
       "4     1.242264       1.464178  0.366276  ...         0.226794      -0.32254    1.0\n",
       "...        ...            ...       ...  ...              ...           ...    ...\n",
       "4431 -1.287875       0.592470 -0.832838  ...        -1.083179      -0.32254    0.0\n",
       "4432  0.385282      -1.150945 -0.832838  ...         0.226794      -0.32254    1.0\n",
       "4433  0.548516      -0.279237  1.565390  ...         0.226794      -0.32254    1.0\n",
       "4434  0.385282      -1.150945 -0.832838  ...         0.226794      -0.32254    0.0\n",
       "4435  1.283073       1.464178  0.366276  ...        -1.083179      -0.32254    1.0\n",
       "\n",
       "[4436 rows x 20 columns]"
      ]
     },
     "execution_count": 80,
     "metadata": {},
     "output_type": "execute_result"
    }
   ],
   "source": [
    "train_data"
   ]
  },
  {
   "cell_type": "markdown",
   "metadata": {
    "id": "HllN2WgBcKVz"
   },
   "source": [
    "### valid dataset"
   ]
  },
  {
   "cell_type": "code",
   "execution_count": 81,
   "metadata": {
    "colab": {
     "base_uri": "https://localhost:8080/",
     "height": 0
    },
    "id": "vmdPKy7ucOn3",
    "outputId": "236c1340-7701-4271-ec6c-c09d7d27704c"
   },
   "outputs": [
    {
     "data": {
      "text/html": [
       "<div>\n",
       "<style scoped>\n",
       "    .dataframe tbody tr th:only-of-type {\n",
       "        vertical-align: middle;\n",
       "    }\n",
       "\n",
       "    .dataframe tbody tr th {\n",
       "        vertical-align: top;\n",
       "    }\n",
       "\n",
       "    .dataframe thead th {\n",
       "        text-align: right;\n",
       "    }\n",
       "</style>\n",
       "<table border=\"1\" class=\"dataframe\">\n",
       "  <thead>\n",
       "    <tr style=\"text-align: right;\">\n",
       "      <th></th>\n",
       "      <th>tenure</th>\n",
       "      <th>PaymentMethod</th>\n",
       "      <th>Contract</th>\n",
       "      <th>TotalCharges</th>\n",
       "      <th>OnlineSecurity</th>\n",
       "      <th>TechSupport</th>\n",
       "      <th>MonthlyCharges</th>\n",
       "      <th>gender</th>\n",
       "      <th>InternetService</th>\n",
       "      <th>Partner</th>\n",
       "      <th>OnlineBackup</th>\n",
       "      <th>PaperlessBilling</th>\n",
       "      <th>MultipleLines</th>\n",
       "      <th>DeviceProtection</th>\n",
       "      <th>SeniorCitizen</th>\n",
       "      <th>Dependents</th>\n",
       "      <th>StreamingTV</th>\n",
       "      <th>StreamingMovies</th>\n",
       "      <th>PhoneService</th>\n",
       "      <th>Churn</th>\n",
       "    </tr>\n",
       "  </thead>\n",
       "  <tbody>\n",
       "    <tr>\n",
       "      <th>0</th>\n",
       "      <td>-1.247066</td>\n",
       "      <td>-1.150945</td>\n",
       "      <td>-0.832838</td>\n",
       "      <td>-0.969206</td>\n",
       "      <td>-0.914059</td>\n",
       "      <td>-0.913702</td>\n",
       "      <td>-0.678115</td>\n",
       "      <td>-1.014533</td>\n",
       "      <td>0.282206</td>\n",
       "      <td>-0.966302</td>\n",
       "      <td>-1.003578</td>\n",
       "      <td>-0.842283</td>\n",
       "      <td>0.517208</td>\n",
       "      <td>-0.998862</td>\n",
       "      <td>2.251311</td>\n",
       "      <td>-0.651212</td>\n",
       "      <td>-1.081020</td>\n",
       "      <td>-1.083179</td>\n",
       "      <td>-0.32254</td>\n",
       "      <td>1.0</td>\n",
       "    </tr>\n",
       "    <tr>\n",
       "      <th>1</th>\n",
       "      <td>-0.594127</td>\n",
       "      <td>1.464178</td>\n",
       "      <td>-0.832838</td>\n",
       "      <td>-0.541945</td>\n",
       "      <td>-0.914059</td>\n",
       "      <td>0.339214</td>\n",
       "      <td>-0.317068</td>\n",
       "      <td>0.985675</td>\n",
       "      <td>0.282206</td>\n",
       "      <td>-0.966302</td>\n",
       "      <td>-1.003578</td>\n",
       "      <td>1.187249</td>\n",
       "      <td>0.517208</td>\n",
       "      <td>0.280651</td>\n",
       "      <td>-0.444186</td>\n",
       "      <td>-0.651212</td>\n",
       "      <td>-1.081020</td>\n",
       "      <td>-1.083179</td>\n",
       "      <td>-0.32254</td>\n",
       "      <td>1.0</td>\n",
       "    </tr>\n",
       "    <tr>\n",
       "      <th>2</th>\n",
       "      <td>1.038221</td>\n",
       "      <td>-1.150945</td>\n",
       "      <td>-0.832838</td>\n",
       "      <td>1.540819</td>\n",
       "      <td>-0.914059</td>\n",
       "      <td>-0.913702</td>\n",
       "      <td>1.130432</td>\n",
       "      <td>0.985675</td>\n",
       "      <td>-0.996514</td>\n",
       "      <td>1.034873</td>\n",
       "      <td>0.277536</td>\n",
       "      <td>-0.842283</td>\n",
       "      <td>-1.044626</td>\n",
       "      <td>-0.998862</td>\n",
       "      <td>2.251311</td>\n",
       "      <td>-0.651212</td>\n",
       "      <td>0.228127</td>\n",
       "      <td>0.226794</td>\n",
       "      <td>-0.32254</td>\n",
       "      <td>1.0</td>\n",
       "    </tr>\n",
       "    <tr>\n",
       "      <th>3</th>\n",
       "      <td>-0.022805</td>\n",
       "      <td>1.464178</td>\n",
       "      <td>0.366276</td>\n",
       "      <td>0.498312</td>\n",
       "      <td>-0.914059</td>\n",
       "      <td>-0.913702</td>\n",
       "      <td>1.301018</td>\n",
       "      <td>-1.014533</td>\n",
       "      <td>-0.996514</td>\n",
       "      <td>-0.966302</td>\n",
       "      <td>0.277536</td>\n",
       "      <td>-0.842283</td>\n",
       "      <td>-1.044626</td>\n",
       "      <td>0.280651</td>\n",
       "      <td>-0.444186</td>\n",
       "      <td>-0.651212</td>\n",
       "      <td>0.228127</td>\n",
       "      <td>0.226794</td>\n",
       "      <td>-0.32254</td>\n",
       "      <td>1.0</td>\n",
       "    </tr>\n",
       "    <tr>\n",
       "      <th>4</th>\n",
       "      <td>1.038221</td>\n",
       "      <td>-0.279237</td>\n",
       "      <td>1.565390</td>\n",
       "      <td>-0.485561</td>\n",
       "      <td>1.591976</td>\n",
       "      <td>1.592129</td>\n",
       "      <td>-1.458175</td>\n",
       "      <td>0.985675</td>\n",
       "      <td>1.560927</td>\n",
       "      <td>1.034873</td>\n",
       "      <td>1.558650</td>\n",
       "      <td>1.187249</td>\n",
       "      <td>0.517208</td>\n",
       "      <td>1.560164</td>\n",
       "      <td>-0.444186</td>\n",
       "      <td>-0.651212</td>\n",
       "      <td>1.537274</td>\n",
       "      <td>1.536767</td>\n",
       "      <td>-0.32254</td>\n",
       "      <td>1.0</td>\n",
       "    </tr>\n",
       "  </tbody>\n",
       "</table>\n",
       "</div>"
      ],
      "text/plain": [
       "     tenure  PaymentMethod  Contract  ...  StreamingMovies  PhoneService  Churn\n",
       "0 -1.247066      -1.150945 -0.832838  ...        -1.083179      -0.32254    1.0\n",
       "1 -0.594127       1.464178 -0.832838  ...        -1.083179      -0.32254    1.0\n",
       "2  1.038221      -1.150945 -0.832838  ...         0.226794      -0.32254    1.0\n",
       "3 -0.022805       1.464178  0.366276  ...         0.226794      -0.32254    1.0\n",
       "4  1.038221      -0.279237  1.565390  ...         1.536767      -0.32254    1.0\n",
       "\n",
       "[5 rows x 20 columns]"
      ]
     },
     "execution_count": 81,
     "metadata": {},
     "output_type": "execute_result"
    }
   ],
   "source": [
    "pd.read_csv(valid_filepaths[0]).head()"
   ]
  },
  {
   "cell_type": "code",
   "execution_count": 82,
   "metadata": {
    "colab": {
     "base_uri": "https://localhost:8080/"
    },
    "id": "P-lsXr5YcOrs",
    "outputId": "5af7a8f6-d97b-4aec-e72b-06cdde163de1"
   },
   "outputs": [
    {
     "data": {
      "text/plain": [
       "71748"
      ]
     },
     "execution_count": 82,
     "metadata": {},
     "output_type": "execute_result"
    }
   ],
   "source": [
    "os.path.getsize(valid_filepaths[0])"
   ]
  },
  {
   "cell_type": "code",
   "execution_count": 83,
   "metadata": {
    "id": "7HXI_u8IcOwS"
   },
   "outputs": [],
   "source": [
    "import re\n",
    "valid_folder=('/').join(re.search('(.*)/(.*)/(.*)',valid_filepaths[0], re.IGNORECASE).group(1,2))"
   ]
  },
  {
   "cell_type": "code",
   "execution_count": 84,
   "metadata": {
    "colab": {
     "base_uri": "https://localhost:8080/",
     "height": 0
    },
    "id": "DG2CPfBhcO0U",
    "outputId": "587c0269-f0ef-46be-a4a5-31416fc2c2ab"
   },
   "outputs": [
    {
     "name": "stdout",
     "output_type": "stream",
     "text": [
      "datasets/telco/my_valid_00.csv\n"
     ]
    },
    {
     "data": {
      "application/vnd.google.colaboratory.intrinsic+json": {
       "type": "string"
      },
      "text/plain": [
       "'datasets/telco'"
      ]
     },
     "execution_count": 84,
     "metadata": {},
     "output_type": "execute_result"
    }
   ],
   "source": [
    "print(valid_filepaths[0])\n",
    "valid_folder"
   ]
  },
  {
   "cell_type": "code",
   "execution_count": 85,
   "metadata": {
    "id": "Uc1dA4fgcPQM"
   },
   "outputs": [],
   "source": [
    "full_csv = valid_folder+'/full_train.csv'\n",
    "with open(full_csv, \"wt\", encoding=\"utf-8\") as f:\n",
    "    if header is not None:\n",
    "        f.write(header)\n",
    "        f.write(\"\\n\")\n",
    "    for row_idx in range(valid_data.shape[0]):\n",
    "        f.write(\",\".join([repr(col) for col in valid_data[row_idx]]))\n",
    "        f.write(\"\\n\")"
   ]
  },
  {
   "cell_type": "code",
   "execution_count": 86,
   "metadata": {
    "colab": {
     "base_uri": "https://localhost:8080/"
    },
    "id": "UqBfI_ahcPV_",
    "outputId": "ae98ad64-c51e-411c-be1d-cf9b9c69bd75"
   },
   "outputs": [
    {
     "data": {
      "text/plain": [
       "712121"
      ]
     },
     "execution_count": 86,
     "metadata": {},
     "output_type": "execute_result"
    }
   ],
   "source": [
    "os.path.getsize(full_csv)"
   ]
  },
  {
   "cell_type": "code",
   "execution_count": 87,
   "metadata": {
    "colab": {
     "base_uri": "https://localhost:8080/"
    },
    "id": "QewHk5uAdWE-",
    "outputId": "a0774502-768e-41b5-e447-c598cf579b0a"
   },
   "outputs": [
    {
     "data": {
      "text/plain": [
       "(1902, 20)"
      ]
     },
     "execution_count": 87,
     "metadata": {},
     "output_type": "execute_result"
    }
   ],
   "source": [
    "pd.read_csv(full_csv).shape"
   ]
  },
  {
   "cell_type": "code",
   "execution_count": 88,
   "metadata": {
    "id": "4BxEb1a0dWQD"
   },
   "outputs": [],
   "source": [
    "valid_data = pd.read_csv(full_csv)"
   ]
  },
  {
   "cell_type": "code",
   "execution_count": 89,
   "metadata": {
    "colab": {
     "base_uri": "https://localhost:8080/",
     "height": 0
    },
    "id": "kox3_YPscPcL",
    "outputId": "39965fc3-ea9c-455f-e3f7-9a29b7d387c6"
   },
   "outputs": [
    {
     "data": {
      "text/html": [
       "<div>\n",
       "<style scoped>\n",
       "    .dataframe tbody tr th:only-of-type {\n",
       "        vertical-align: middle;\n",
       "    }\n",
       "\n",
       "    .dataframe tbody tr th {\n",
       "        vertical-align: top;\n",
       "    }\n",
       "\n",
       "    .dataframe thead th {\n",
       "        text-align: right;\n",
       "    }\n",
       "</style>\n",
       "<table border=\"1\" class=\"dataframe\">\n",
       "  <thead>\n",
       "    <tr style=\"text-align: right;\">\n",
       "      <th></th>\n",
       "      <th>tenure</th>\n",
       "      <th>PaymentMethod</th>\n",
       "      <th>Contract</th>\n",
       "      <th>TotalCharges</th>\n",
       "      <th>OnlineSecurity</th>\n",
       "      <th>TechSupport</th>\n",
       "      <th>MonthlyCharges</th>\n",
       "      <th>gender</th>\n",
       "      <th>InternetService</th>\n",
       "      <th>Partner</th>\n",
       "      <th>OnlineBackup</th>\n",
       "      <th>PaperlessBilling</th>\n",
       "      <th>MultipleLines</th>\n",
       "      <th>DeviceProtection</th>\n",
       "      <th>SeniorCitizen</th>\n",
       "      <th>Dependents</th>\n",
       "      <th>StreamingTV</th>\n",
       "      <th>StreamingMovies</th>\n",
       "      <th>PhoneService</th>\n",
       "      <th>Churn</th>\n",
       "    </tr>\n",
       "  </thead>\n",
       "  <tbody>\n",
       "    <tr>\n",
       "      <th>0</th>\n",
       "      <td>-1.247066</td>\n",
       "      <td>-1.150945</td>\n",
       "      <td>-0.832838</td>\n",
       "      <td>-0.969206</td>\n",
       "      <td>-0.914059</td>\n",
       "      <td>-0.913702</td>\n",
       "      <td>-0.678115</td>\n",
       "      <td>-1.014533</td>\n",
       "      <td>0.282206</td>\n",
       "      <td>-0.966302</td>\n",
       "      <td>-1.003578</td>\n",
       "      <td>-0.842283</td>\n",
       "      <td>0.517208</td>\n",
       "      <td>-0.998862</td>\n",
       "      <td>2.251311</td>\n",
       "      <td>-0.651212</td>\n",
       "      <td>-1.081020</td>\n",
       "      <td>-1.083179</td>\n",
       "      <td>-0.32254</td>\n",
       "      <td>1.0</td>\n",
       "    </tr>\n",
       "    <tr>\n",
       "      <th>1</th>\n",
       "      <td>-0.594127</td>\n",
       "      <td>1.464178</td>\n",
       "      <td>-0.832838</td>\n",
       "      <td>-0.541945</td>\n",
       "      <td>-0.914059</td>\n",
       "      <td>0.339214</td>\n",
       "      <td>-0.317068</td>\n",
       "      <td>0.985675</td>\n",
       "      <td>0.282206</td>\n",
       "      <td>-0.966302</td>\n",
       "      <td>-1.003578</td>\n",
       "      <td>1.187249</td>\n",
       "      <td>0.517208</td>\n",
       "      <td>0.280651</td>\n",
       "      <td>-0.444186</td>\n",
       "      <td>-0.651212</td>\n",
       "      <td>-1.081020</td>\n",
       "      <td>-1.083179</td>\n",
       "      <td>-0.32254</td>\n",
       "      <td>1.0</td>\n",
       "    </tr>\n",
       "    <tr>\n",
       "      <th>2</th>\n",
       "      <td>1.038221</td>\n",
       "      <td>-1.150945</td>\n",
       "      <td>-0.832838</td>\n",
       "      <td>1.540819</td>\n",
       "      <td>-0.914059</td>\n",
       "      <td>-0.913702</td>\n",
       "      <td>1.130432</td>\n",
       "      <td>0.985675</td>\n",
       "      <td>-0.996514</td>\n",
       "      <td>1.034873</td>\n",
       "      <td>0.277536</td>\n",
       "      <td>-0.842283</td>\n",
       "      <td>-1.044626</td>\n",
       "      <td>-0.998862</td>\n",
       "      <td>2.251311</td>\n",
       "      <td>-0.651212</td>\n",
       "      <td>0.228127</td>\n",
       "      <td>0.226794</td>\n",
       "      <td>-0.32254</td>\n",
       "      <td>1.0</td>\n",
       "    </tr>\n",
       "    <tr>\n",
       "      <th>3</th>\n",
       "      <td>-0.022805</td>\n",
       "      <td>1.464178</td>\n",
       "      <td>0.366276</td>\n",
       "      <td>0.498312</td>\n",
       "      <td>-0.914059</td>\n",
       "      <td>-0.913702</td>\n",
       "      <td>1.301018</td>\n",
       "      <td>-1.014533</td>\n",
       "      <td>-0.996514</td>\n",
       "      <td>-0.966302</td>\n",
       "      <td>0.277536</td>\n",
       "      <td>-0.842283</td>\n",
       "      <td>-1.044626</td>\n",
       "      <td>0.280651</td>\n",
       "      <td>-0.444186</td>\n",
       "      <td>-0.651212</td>\n",
       "      <td>0.228127</td>\n",
       "      <td>0.226794</td>\n",
       "      <td>-0.32254</td>\n",
       "      <td>1.0</td>\n",
       "    </tr>\n",
       "    <tr>\n",
       "      <th>4</th>\n",
       "      <td>1.038221</td>\n",
       "      <td>-0.279237</td>\n",
       "      <td>1.565390</td>\n",
       "      <td>-0.485561</td>\n",
       "      <td>1.591976</td>\n",
       "      <td>1.592129</td>\n",
       "      <td>-1.458175</td>\n",
       "      <td>0.985675</td>\n",
       "      <td>1.560927</td>\n",
       "      <td>1.034873</td>\n",
       "      <td>1.558650</td>\n",
       "      <td>1.187249</td>\n",
       "      <td>0.517208</td>\n",
       "      <td>1.560164</td>\n",
       "      <td>-0.444186</td>\n",
       "      <td>-0.651212</td>\n",
       "      <td>1.537274</td>\n",
       "      <td>1.536767</td>\n",
       "      <td>-0.32254</td>\n",
       "      <td>1.0</td>\n",
       "    </tr>\n",
       "    <tr>\n",
       "      <th>...</th>\n",
       "      <td>...</td>\n",
       "      <td>...</td>\n",
       "      <td>...</td>\n",
       "      <td>...</td>\n",
       "      <td>...</td>\n",
       "      <td>...</td>\n",
       "      <td>...</td>\n",
       "      <td>...</td>\n",
       "      <td>...</td>\n",
       "      <td>...</td>\n",
       "      <td>...</td>\n",
       "      <td>...</td>\n",
       "      <td>...</td>\n",
       "      <td>...</td>\n",
       "      <td>...</td>\n",
       "      <td>...</td>\n",
       "      <td>...</td>\n",
       "      <td>...</td>\n",
       "      <td>...</td>\n",
       "      <td>...</td>\n",
       "    </tr>\n",
       "    <tr>\n",
       "      <th>1897</th>\n",
       "      <td>0.426090</td>\n",
       "      <td>-1.150945</td>\n",
       "      <td>0.366276</td>\n",
       "      <td>0.069376</td>\n",
       "      <td>-0.914059</td>\n",
       "      <td>0.339214</td>\n",
       "      <td>-0.308787</td>\n",
       "      <td>-1.014533</td>\n",
       "      <td>0.282206</td>\n",
       "      <td>-0.966302</td>\n",
       "      <td>0.277536</td>\n",
       "      <td>1.187249</td>\n",
       "      <td>0.517208</td>\n",
       "      <td>-0.998862</td>\n",
       "      <td>-0.444186</td>\n",
       "      <td>-0.651212</td>\n",
       "      <td>-1.081020</td>\n",
       "      <td>-1.083179</td>\n",
       "      <td>-0.32254</td>\n",
       "      <td>1.0</td>\n",
       "    </tr>\n",
       "    <tr>\n",
       "      <th>1898</th>\n",
       "      <td>1.609542</td>\n",
       "      <td>1.464178</td>\n",
       "      <td>1.565390</td>\n",
       "      <td>-0.400069</td>\n",
       "      <td>1.591976</td>\n",
       "      <td>1.592129</td>\n",
       "      <td>-1.492955</td>\n",
       "      <td>-1.014533</td>\n",
       "      <td>1.560927</td>\n",
       "      <td>1.034873</td>\n",
       "      <td>1.558650</td>\n",
       "      <td>1.187249</td>\n",
       "      <td>0.517208</td>\n",
       "      <td>1.560164</td>\n",
       "      <td>-0.444186</td>\n",
       "      <td>1.535598</td>\n",
       "      <td>1.537274</td>\n",
       "      <td>1.536767</td>\n",
       "      <td>-0.32254</td>\n",
       "      <td>1.0</td>\n",
       "    </tr>\n",
       "    <tr>\n",
       "      <th>1899</th>\n",
       "      <td>0.344473</td>\n",
       "      <td>1.464178</td>\n",
       "      <td>0.366276</td>\n",
       "      <td>0.033984</td>\n",
       "      <td>-0.914059</td>\n",
       "      <td>-0.913702</td>\n",
       "      <td>-0.280632</td>\n",
       "      <td>-1.014533</td>\n",
       "      <td>0.282206</td>\n",
       "      <td>-0.966302</td>\n",
       "      <td>0.277536</td>\n",
       "      <td>-0.842283</td>\n",
       "      <td>-1.044626</td>\n",
       "      <td>-0.998862</td>\n",
       "      <td>-0.444186</td>\n",
       "      <td>-0.651212</td>\n",
       "      <td>-1.081020</td>\n",
       "      <td>-1.083179</td>\n",
       "      <td>-0.32254</td>\n",
       "      <td>1.0</td>\n",
       "    </tr>\n",
       "    <tr>\n",
       "      <th>1900</th>\n",
       "      <td>0.589325</td>\n",
       "      <td>1.464178</td>\n",
       "      <td>0.366276</td>\n",
       "      <td>0.323933</td>\n",
       "      <td>0.338959</td>\n",
       "      <td>-0.913702</td>\n",
       "      <td>0.042323</td>\n",
       "      <td>-1.014533</td>\n",
       "      <td>0.282206</td>\n",
       "      <td>1.034873</td>\n",
       "      <td>-1.003578</td>\n",
       "      <td>-0.842283</td>\n",
       "      <td>0.517208</td>\n",
       "      <td>0.280651</td>\n",
       "      <td>-0.444186</td>\n",
       "      <td>-0.651212</td>\n",
       "      <td>0.228127</td>\n",
       "      <td>-1.083179</td>\n",
       "      <td>-0.32254</td>\n",
       "      <td>1.0</td>\n",
       "    </tr>\n",
       "    <tr>\n",
       "      <th>1901</th>\n",
       "      <td>1.568734</td>\n",
       "      <td>0.592470</td>\n",
       "      <td>1.565390</td>\n",
       "      <td>1.657778</td>\n",
       "      <td>0.338959</td>\n",
       "      <td>0.339214</td>\n",
       "      <td>0.706450</td>\n",
       "      <td>0.985675</td>\n",
       "      <td>0.282206</td>\n",
       "      <td>1.034873</td>\n",
       "      <td>0.277536</td>\n",
       "      <td>-0.842283</td>\n",
       "      <td>0.517208</td>\n",
       "      <td>0.280651</td>\n",
       "      <td>-0.444186</td>\n",
       "      <td>-0.651212</td>\n",
       "      <td>0.228127</td>\n",
       "      <td>0.226794</td>\n",
       "      <td>-0.32254</td>\n",
       "      <td>1.0</td>\n",
       "    </tr>\n",
       "  </tbody>\n",
       "</table>\n",
       "<p>1902 rows × 20 columns</p>\n",
       "</div>"
      ],
      "text/plain": [
       "        tenure  PaymentMethod  Contract  ...  StreamingMovies  PhoneService  Churn\n",
       "0    -1.247066      -1.150945 -0.832838  ...        -1.083179      -0.32254    1.0\n",
       "1    -0.594127       1.464178 -0.832838  ...        -1.083179      -0.32254    1.0\n",
       "2     1.038221      -1.150945 -0.832838  ...         0.226794      -0.32254    1.0\n",
       "3    -0.022805       1.464178  0.366276  ...         0.226794      -0.32254    1.0\n",
       "4     1.038221      -0.279237  1.565390  ...         1.536767      -0.32254    1.0\n",
       "...        ...            ...       ...  ...              ...           ...    ...\n",
       "1897  0.426090      -1.150945  0.366276  ...        -1.083179      -0.32254    1.0\n",
       "1898  1.609542       1.464178  1.565390  ...         1.536767      -0.32254    1.0\n",
       "1899  0.344473       1.464178  0.366276  ...        -1.083179      -0.32254    1.0\n",
       "1900  0.589325       1.464178  0.366276  ...        -1.083179      -0.32254    1.0\n",
       "1901  1.568734       0.592470  1.565390  ...         0.226794      -0.32254    1.0\n",
       "\n",
       "[1902 rows x 20 columns]"
      ]
     },
     "execution_count": 89,
     "metadata": {},
     "output_type": "execute_result"
    }
   ],
   "source": [
    "valid_data"
   ]
  },
  {
   "cell_type": "markdown",
   "metadata": {
    "id": "2TTFOsdqd7Q-"
   },
   "source": [
    "## Split X_train, y_train, X_val, y_val"
   ]
  },
  {
   "cell_type": "code",
   "execution_count": 90,
   "metadata": {
    "id": "EIhmoSEeax8x"
   },
   "outputs": [],
   "source": [
    "X_train = train_data.drop(['Churn'], axis=1)\n",
    "y_train = train_data['Churn']"
   ]
  },
  {
   "cell_type": "code",
   "execution_count": 91,
   "metadata": {
    "id": "rI0i0n9IeYE8"
   },
   "outputs": [],
   "source": [
    "X_val = valid_data.drop(['Churn'], axis=1)\n",
    "y_val = valid_data['Churn']"
   ]
  },
  {
   "cell_type": "code",
   "execution_count": 92,
   "metadata": {
    "colab": {
     "base_uri": "https://localhost:8080/"
    },
    "id": "0yIwHYXqbiwN",
    "outputId": "7907a35d-6a4a-4c91-a557-3952407016a6"
   },
   "outputs": [
    {
     "data": {
      "text/plain": [
       "(4436, 19)"
      ]
     },
     "execution_count": 92,
     "metadata": {},
     "output_type": "execute_result"
    }
   ],
   "source": [
    "X_train.shape"
   ]
  },
  {
   "cell_type": "code",
   "execution_count": 93,
   "metadata": {
    "colab": {
     "base_uri": "https://localhost:8080/"
    },
    "id": "1lUub7l8etGK",
    "outputId": "7a443f05-c624-4e18-e3de-9e4890928f23"
   },
   "outputs": [
    {
     "data": {
      "text/plain": [
       "(1902, 19)"
      ]
     },
     "execution_count": 93,
     "metadata": {},
     "output_type": "execute_result"
    }
   ],
   "source": [
    "X_val.shape"
   ]
  },
  {
   "cell_type": "markdown",
   "metadata": {
    "id": "fYUyNLoYm2TT"
   },
   "source": [
    "# Pendefinisian dan Pelatihan Model\n",
    "\n",
    "Membangun model Sequential pada data training dengan model yang berjalan dengan:\n",
    "* menggunakan jumlah n_hidden sebanyak 2 \n",
    "* jumlah neuron pada masing-masing hidden layers adalah 18 dan 10 \n",
    "* activation function masing-masing hiden layer adalah 'relu' karena memiliki fungsi maks (x, 0) yang menetapkan semua nilai negatif dalam matriks x ke nol dan semua nilai lainnya dijaga konstan\n",
    "* activation function pada output neuron adalah 'sigmoid' karena output yang diharapkan adalah binary classification dimana nilainya 0 atau 1\n",
    "* menggunakan Dropout dengan noise_shape sebesar 0.5 dimana fungsi Dropout untuk proses mencegah terjadinya overfitting dan juga mempercepat proses learning\n",
    "* alur model sequential: 18 --> 10 --> 1 output neuron\n",
    "\n",
    "Dalam model compile:\n",
    "* menggunakan optimizer adam karena menggabungkan sifat-sifat terbaik dari algoritma AdaGrad dan RMSProp untuk memberikan optimization algorithm yang dapat menangani sparse gradients pada noisy problem\n",
    "* menggunakan loss function binary_crossenteropy karena model dibuat untuk untuk masalah klasifikasi biner.\n",
    "\n",
    "EarlyStopping:\n",
    "\n",
    "* digunakan untuk mencegah terjadinya overfitting model, dengan menetapkan jumlah epoch tanpa perbaikan setelah itu pelatihan akan dihentikan (Patience) sebesar 25"
   ]
  },
  {
   "cell_type": "markdown",
   "metadata": {
    "id": "dDKCJp31x1YG"
   },
   "source": [
    "## Artificial Neural Network"
   ]
  },
  {
   "cell_type": "code",
   "execution_count": 94,
   "metadata": {
    "id": "t4bxmHkNQ4J2"
   },
   "outputs": [],
   "source": [
    "model = keras.Sequential([                   \n",
    "   keras.layers.Dense(18, input_shape=(19,), activation='relu'),\n",
    "   keras.layers.Dropout(0.5),\n",
    "\n",
    "   keras.layers.Dense(15, activation='relu'), \n",
    "   keras.layers.Dropout(0.5),\n",
    "\n",
    "   keras.layers.Dense(10, activation='relu'), \n",
    "   keras.layers.Dropout(0.5),\n",
    "\n",
    "   keras.layers.Dense(1, activation='sigmoid'),                          \n",
    "])\n",
    "\n",
    "model.compile(optimizer='adam', loss='binary_crossentropy')"
   ]
  },
  {
   "cell_type": "code",
   "execution_count": 95,
   "metadata": {
    "colab": {
     "base_uri": "https://localhost:8080/"
    },
    "id": "QxT7EvcbLXwk",
    "outputId": "8d66d529-c3c9-46df-f5af-2c99ca6c5940"
   },
   "outputs": [
    {
     "name": "stdout",
     "output_type": "stream",
     "text": [
      "Model: \"sequential\"\n",
      "_________________________________________________________________\n",
      "Layer (type)                 Output Shape              Param #   \n",
      "=================================================================\n",
      "dense (Dense)                (None, 18)                360       \n",
      "_________________________________________________________________\n",
      "dropout (Dropout)            (None, 18)                0         \n",
      "_________________________________________________________________\n",
      "dense_1 (Dense)              (None, 15)                285       \n",
      "_________________________________________________________________\n",
      "dropout_1 (Dropout)          (None, 15)                0         \n",
      "_________________________________________________________________\n",
      "dense_2 (Dense)              (None, 10)                160       \n",
      "_________________________________________________________________\n",
      "dropout_2 (Dropout)          (None, 10)                0         \n",
      "_________________________________________________________________\n",
      "dense_3 (Dense)              (None, 1)                 11        \n",
      "=================================================================\n",
      "Total params: 816\n",
      "Trainable params: 816\n",
      "Non-trainable params: 0\n",
      "_________________________________________________________________\n"
     ]
    }
   ],
   "source": [
    "model.summary()"
   ]
  },
  {
   "cell_type": "code",
   "execution_count": 96,
   "metadata": {
    "id": "xhoBgoCKVF9G"
   },
   "outputs": [],
   "source": [
    "early_stop = EarlyStopping(monitor='val_loss', mode='min', verbose=1, patience=10)"
   ]
  },
  {
   "cell_type": "code",
   "execution_count": 97,
   "metadata": {
    "colab": {
     "base_uri": "https://localhost:8080/"
    },
    "id": "dhggqb1_Q4J2",
    "outputId": "026473ce-2321-4c07-ad26-587a4d9e49c5"
   },
   "outputs": [
    {
     "name": "stdout",
     "output_type": "stream",
     "text": [
      "Epoch 1/200\n",
      "139/139 [==============================] - 1s 3ms/step - loss: 0.7025 - val_loss: 0.5927\n",
      "Epoch 2/200\n",
      "139/139 [==============================] - 0s 2ms/step - loss: 0.5962 - val_loss: 0.5422\n",
      "Epoch 3/200\n",
      "139/139 [==============================] - 0s 2ms/step - loss: 0.5658 - val_loss: 0.5181\n",
      "Epoch 4/200\n",
      "139/139 [==============================] - 0s 2ms/step - loss: 0.5421 - val_loss: 0.5015\n",
      "Epoch 5/200\n",
      "139/139 [==============================] - 0s 2ms/step - loss: 0.5298 - val_loss: 0.4878\n",
      "Epoch 6/200\n",
      "139/139 [==============================] - 0s 2ms/step - loss: 0.5206 - val_loss: 0.4788\n",
      "Epoch 7/200\n",
      "139/139 [==============================] - 0s 2ms/step - loss: 0.5162 - val_loss: 0.4706\n",
      "Epoch 8/200\n",
      "139/139 [==============================] - 0s 2ms/step - loss: 0.5106 - val_loss: 0.4632\n",
      "Epoch 9/200\n",
      "139/139 [==============================] - 0s 2ms/step - loss: 0.5068 - val_loss: 0.4559\n",
      "Epoch 10/200\n",
      "139/139 [==============================] - 0s 2ms/step - loss: 0.4983 - val_loss: 0.4519\n",
      "Epoch 11/200\n",
      "139/139 [==============================] - 0s 2ms/step - loss: 0.5062 - val_loss: 0.4539\n",
      "Epoch 12/200\n",
      "139/139 [==============================] - 0s 2ms/step - loss: 0.4897 - val_loss: 0.4478\n",
      "Epoch 13/200\n",
      "139/139 [==============================] - 0s 2ms/step - loss: 0.4868 - val_loss: 0.4407\n",
      "Epoch 14/200\n",
      "139/139 [==============================] - 0s 3ms/step - loss: 0.4859 - val_loss: 0.4396\n",
      "Epoch 15/200\n",
      "139/139 [==============================] - 0s 2ms/step - loss: 0.4812 - val_loss: 0.4407\n",
      "Epoch 16/200\n",
      "139/139 [==============================] - 0s 2ms/step - loss: 0.4810 - val_loss: 0.4406\n",
      "Epoch 17/200\n",
      "139/139 [==============================] - 0s 2ms/step - loss: 0.4815 - val_loss: 0.4431\n",
      "Epoch 18/200\n",
      "139/139 [==============================] - 0s 2ms/step - loss: 0.4772 - val_loss: 0.4384\n",
      "Epoch 19/200\n",
      "139/139 [==============================] - 0s 2ms/step - loss: 0.4834 - val_loss: 0.4374\n",
      "Epoch 20/200\n",
      "139/139 [==============================] - 0s 2ms/step - loss: 0.4679 - val_loss: 0.4314\n",
      "Epoch 21/200\n",
      "139/139 [==============================] - 0s 2ms/step - loss: 0.4776 - val_loss: 0.4367\n",
      "Epoch 22/200\n",
      "139/139 [==============================] - 0s 2ms/step - loss: 0.4745 - val_loss: 0.4351\n",
      "Epoch 23/200\n",
      "139/139 [==============================] - 0s 2ms/step - loss: 0.4749 - val_loss: 0.4320\n",
      "Epoch 24/200\n",
      "139/139 [==============================] - 0s 2ms/step - loss: 0.4773 - val_loss: 0.4316\n",
      "Epoch 25/200\n",
      "139/139 [==============================] - 0s 2ms/step - loss: 0.4752 - val_loss: 0.4331\n",
      "Epoch 26/200\n",
      "139/139 [==============================] - 0s 2ms/step - loss: 0.4726 - val_loss: 0.4316\n",
      "Epoch 27/200\n",
      "139/139 [==============================] - 0s 2ms/step - loss: 0.4723 - val_loss: 0.4308\n",
      "Epoch 28/200\n",
      "139/139 [==============================] - 0s 2ms/step - loss: 0.4674 - val_loss: 0.4282\n",
      "Epoch 29/200\n",
      "139/139 [==============================] - 0s 2ms/step - loss: 0.4680 - val_loss: 0.4268\n",
      "Epoch 30/200\n",
      "139/139 [==============================] - 0s 2ms/step - loss: 0.4614 - val_loss: 0.4248\n",
      "Epoch 31/200\n",
      "139/139 [==============================] - 0s 2ms/step - loss: 0.4645 - val_loss: 0.4239\n",
      "Epoch 32/200\n",
      "139/139 [==============================] - 0s 2ms/step - loss: 0.4622 - val_loss: 0.4231\n",
      "Epoch 33/200\n",
      "139/139 [==============================] - 0s 2ms/step - loss: 0.4640 - val_loss: 0.4242\n",
      "Epoch 34/200\n",
      "139/139 [==============================] - 0s 2ms/step - loss: 0.4613 - val_loss: 0.4254\n",
      "Epoch 35/200\n",
      "139/139 [==============================] - 0s 2ms/step - loss: 0.4697 - val_loss: 0.4237\n",
      "Epoch 36/200\n",
      "139/139 [==============================] - 0s 2ms/step - loss: 0.4555 - val_loss: 0.4195\n",
      "Epoch 37/200\n",
      "139/139 [==============================] - 0s 2ms/step - loss: 0.4678 - val_loss: 0.4219\n",
      "Epoch 38/200\n",
      "139/139 [==============================] - 0s 2ms/step - loss: 0.4645 - val_loss: 0.4203\n",
      "Epoch 39/200\n",
      "139/139 [==============================] - 0s 2ms/step - loss: 0.4678 - val_loss: 0.4235\n",
      "Epoch 40/200\n",
      "139/139 [==============================] - 0s 2ms/step - loss: 0.4639 - val_loss: 0.4219\n",
      "Epoch 41/200\n",
      "139/139 [==============================] - 0s 2ms/step - loss: 0.4575 - val_loss: 0.4195\n",
      "Epoch 42/200\n",
      "139/139 [==============================] - 0s 2ms/step - loss: 0.4581 - val_loss: 0.4189\n",
      "Epoch 43/200\n",
      "139/139 [==============================] - 0s 2ms/step - loss: 0.4567 - val_loss: 0.4205\n",
      "Epoch 44/200\n",
      "139/139 [==============================] - 0s 2ms/step - loss: 0.4627 - val_loss: 0.4182\n",
      "Epoch 45/200\n",
      "139/139 [==============================] - 0s 2ms/step - loss: 0.4627 - val_loss: 0.4213\n",
      "Epoch 46/200\n",
      "139/139 [==============================] - 0s 2ms/step - loss: 0.4609 - val_loss: 0.4192\n",
      "Epoch 47/200\n",
      "139/139 [==============================] - 0s 2ms/step - loss: 0.4566 - val_loss: 0.4181\n",
      "Epoch 48/200\n",
      "139/139 [==============================] - 0s 2ms/step - loss: 0.4539 - val_loss: 0.4163\n",
      "Epoch 49/200\n",
      "139/139 [==============================] - 0s 2ms/step - loss: 0.4610 - val_loss: 0.4209\n",
      "Epoch 50/200\n",
      "139/139 [==============================] - 0s 2ms/step - loss: 0.4533 - val_loss: 0.4163\n",
      "Epoch 51/200\n",
      "139/139 [==============================] - 0s 2ms/step - loss: 0.4585 - val_loss: 0.4176\n",
      "Epoch 52/200\n",
      "139/139 [==============================] - 0s 2ms/step - loss: 0.4579 - val_loss: 0.4191\n",
      "Epoch 53/200\n",
      "139/139 [==============================] - 0s 2ms/step - loss: 0.4535 - val_loss: 0.4180\n",
      "Epoch 54/200\n",
      "139/139 [==============================] - 0s 2ms/step - loss: 0.4500 - val_loss: 0.4176\n",
      "Epoch 55/200\n",
      "139/139 [==============================] - 0s 2ms/step - loss: 0.4598 - val_loss: 0.4170\n",
      "Epoch 56/200\n",
      "139/139 [==============================] - 0s 2ms/step - loss: 0.4572 - val_loss: 0.4209\n",
      "Epoch 57/200\n",
      "139/139 [==============================] - 0s 2ms/step - loss: 0.4568 - val_loss: 0.4174\n",
      "Epoch 58/200\n",
      "139/139 [==============================] - 0s 2ms/step - loss: 0.4534 - val_loss: 0.4179\n",
      "Epoch 59/200\n",
      "139/139 [==============================] - 0s 2ms/step - loss: 0.4589 - val_loss: 0.4169\n",
      "Epoch 60/200\n",
      "139/139 [==============================] - 0s 2ms/step - loss: 0.4520 - val_loss: 0.4159\n",
      "Epoch 61/200\n",
      "139/139 [==============================] - 0s 2ms/step - loss: 0.4434 - val_loss: 0.4153\n",
      "Epoch 62/200\n",
      "139/139 [==============================] - 0s 2ms/step - loss: 0.4545 - val_loss: 0.4187\n",
      "Epoch 63/200\n",
      "139/139 [==============================] - 0s 2ms/step - loss: 0.4494 - val_loss: 0.4170\n",
      "Epoch 64/200\n",
      "139/139 [==============================] - 0s 2ms/step - loss: 0.4439 - val_loss: 0.4150\n",
      "Epoch 65/200\n",
      "139/139 [==============================] - 0s 2ms/step - loss: 0.4531 - val_loss: 0.4165\n",
      "Epoch 66/200\n",
      "139/139 [==============================] - 0s 2ms/step - loss: 0.4502 - val_loss: 0.4168\n",
      "Epoch 67/200\n",
      "139/139 [==============================] - 0s 2ms/step - loss: 0.4508 - val_loss: 0.4127\n",
      "Epoch 68/200\n",
      "139/139 [==============================] - 0s 2ms/step - loss: 0.4494 - val_loss: 0.4145\n",
      "Epoch 69/200\n",
      "139/139 [==============================] - 0s 2ms/step - loss: 0.4511 - val_loss: 0.4155\n",
      "Epoch 70/200\n",
      "139/139 [==============================] - 0s 2ms/step - loss: 0.4489 - val_loss: 0.4149\n",
      "Epoch 71/200\n",
      "139/139 [==============================] - 0s 2ms/step - loss: 0.4546 - val_loss: 0.4138\n",
      "Epoch 72/200\n",
      "139/139 [==============================] - 0s 2ms/step - loss: 0.4478 - val_loss: 0.4130\n",
      "Epoch 73/200\n",
      "139/139 [==============================] - 0s 2ms/step - loss: 0.4515 - val_loss: 0.4150\n",
      "Epoch 74/200\n",
      "139/139 [==============================] - 0s 2ms/step - loss: 0.4480 - val_loss: 0.4136\n",
      "Epoch 75/200\n",
      "139/139 [==============================] - 0s 2ms/step - loss: 0.4439 - val_loss: 0.4145\n",
      "Epoch 76/200\n",
      "139/139 [==============================] - 0s 2ms/step - loss: 0.4503 - val_loss: 0.4129\n",
      "Epoch 77/200\n",
      "139/139 [==============================] - 0s 2ms/step - loss: 0.4479 - val_loss: 0.4128\n",
      "Epoch 00077: early stopping\n"
     ]
    },
    {
     "data": {
      "text/plain": [
       "<keras.callbacks.History at 0x7fe2281d0ed0>"
      ]
     },
     "execution_count": 97,
     "metadata": {},
     "output_type": "execute_result"
    }
   ],
   "source": [
    "model.fit(x=X_train, \n",
    "          y=y_train, \n",
    "          epochs=200,\n",
    "          validation_data=(X_val, y_val), verbose=1,\n",
    "          callbacks=[early_stop]\n",
    "          )"
   ]
  },
  {
   "cell_type": "code",
   "execution_count": 98,
   "metadata": {
    "id": "a62ONkT_Q4J2"
   },
   "outputs": [],
   "source": [
    "model_loss = pd.DataFrame(model.history.history)"
   ]
  },
  {
   "cell_type": "code",
   "execution_count": 99,
   "metadata": {
    "colab": {
     "base_uri": "https://localhost:8080/",
     "height": 265
    },
    "id": "2US1O-924lUU",
    "outputId": "85acac8f-1c92-46bf-c636-b4284d908497"
   },
   "outputs": [
    {
     "data": {
      "image/png": "[encoded data removed]",
      "text/plain": [
       "<Figure size 432x288 with 1 Axes>"
      ]
     },
     "metadata": {
      "needs_background": "light"
     },
     "output_type": "display_data"
    }
   ],
   "source": [
    "model_loss.plot();"
   ]
  },
  {
   "cell_type": "code",
   "execution_count": 100,
   "metadata": {
    "id": "MrWJMJ2TQ4J2"
   },
   "outputs": [],
   "source": [
    "prediction = model.predict(X_val)"
   ]
  },
  {
   "cell_type": "code",
   "execution_count": 101,
   "metadata": {
    "id": "Kk7g_utdQ4J3"
   },
   "outputs": [],
   "source": [
    "y_pred = []\n",
    "for element in prediction:\n",
    "    if element > 0.5:\n",
    "        y_pred.append(1)\n",
    "    else:\n",
    "        y_pred.append(0)"
   ]
  },
  {
   "cell_type": "markdown",
   "metadata": {
    "id": "MehJKphi1qfB"
   },
   "source": [
    "### Model Evaluation"
   ]
  },
  {
   "cell_type": "code",
   "execution_count": 102,
   "metadata": {
    "colab": {
     "base_uri": "https://localhost:8080/"
    },
    "id": "GxLxk8nxQ4J3",
    "outputId": "52696cf8-e858-4d45-ece5-5fce805689e8"
   },
   "outputs": [
    {
     "name": "stdout",
     "output_type": "stream",
     "text": [
      "              precision    recall  f1-score   support\n",
      "\n",
      "         0.0       0.67      0.59      0.63       514\n",
      "         1.0       0.86      0.89      0.87      1388\n",
      "\n",
      "    accuracy                           0.81      1902\n",
      "   macro avg       0.76      0.74      0.75      1902\n",
      "weighted avg       0.81      0.81      0.81      1902\n",
      "\n"
     ]
    }
   ],
   "source": [
    "print(classification_report(y_val,y_pred))"
   ]
  },
  {
   "cell_type": "code",
   "execution_count": 103,
   "metadata": {
    "colab": {
     "base_uri": "https://localhost:8080/",
     "height": 392
    },
    "id": "3nQU0oOsQ4J3",
    "outputId": "44401e98-b5fe-4cc5-a5e0-0e80d431c78d"
   },
   "outputs": [
    {
     "data": {
      "image/png": "[encoded data removed]",
      "text/plain": [
       "<Figure size 720x432 with 2 Axes>"
      ]
     },
     "metadata": {
      "needs_background": "light"
     },
     "output_type": "display_data"
    }
   ],
   "source": [
    "# Confusion Matrix Random Forest Classifier\n",
    "ann_model = confusion_matrix(y_val, y_pred)\n",
    "plt.figure(figsize=(10, 6))\n",
    "plt.title(\"Confusion Matrix\", size=16)\n",
    "sns.heatmap(ann_model, annot=True, cmap=\"Blues\");\n"
   ]
  },
  {
   "cell_type": "code",
   "execution_count": 104,
   "metadata": {
    "colab": {
     "base_uri": "https://localhost:8080/",
     "height": 414
    },
    "id": "mTkZN5AwQ4J3",
    "outputId": "cd35c979-e407-49b3-a901-54ed9e9435bb"
   },
   "outputs": [
    {
     "name": "stdout",
     "output_type": "stream",
     "text": [
      "ROC Curve : \n"
     ]
    },
    {
     "data": {
      "image/png": "[encoded data removed]",
      "text/plain": [
       "<Figure size 720x432 with 1 Axes>"
      ]
     },
     "metadata": {
      "needs_background": "light"
     },
     "output_type": "display_data"
    }
   ],
   "source": [
    "# ROC Curve\n",
    "print(\"ROC Curve : \")\n",
    "plt.figure(figsize=(10, 6))                                    \n",
    "plt.axis([0, 1, 0, 1])                                    \n",
    "plt.xlabel('False Positive Rate (Fall-Out)', fontsize=16) \n",
    "plt.ylabel('True Positive Rate (Recall)', fontsize=16)    \n",
    "plt.grid(True)                                            \n",
    "plt.plot([0, 1], [0, 1], 'k--') # dashed diagonal\n",
    "labels=['ANN']\n",
    "for idx,model in enumerate([model]):\n",
    "    y_scores = model.predict(X_val)\n",
    "    fpr, tpr, thresholds = roc_curve(y_val, y_scores)\n",
    "    roc_auc = auc(fpr, tpr)\n",
    "    plt.plot(fpr, tpr, linewidth=2,label=labels[idx] + ' ROC curve (area = %0.2f)' % roc_auc)\n",
    "plt.legend(loc=\"lower right\");"
   ]
  },
  {
   "cell_type": "markdown",
   "metadata": {
    "id": "OaR_QOQD8lq6"
   },
   "source": [
    "## Model Evaluation Artificial Neural Network\n",
    "\n",
    "dari hasil evaluasi model Artificial Neural Network diperoleh hasil **f1-score** sebesar **0.87** dan **ROC Curve sebesar 0.86** "
   ]
  },
  {
   "cell_type": "markdown",
   "metadata": {
    "id": "NKYFnnJKBona"
   },
   "source": [
    "# Model Improvement"
   ]
  },
  {
   "cell_type": "code",
   "execution_count": 105,
   "metadata": {
    "id": "0zg1LKzJI4Tl"
   },
   "outputs": [],
   "source": [
    "def build_model(n_hidden=2, n_neurons=18, input_shape=[19]):\n",
    "    model = keras.Sequential()\n",
    "    model.add(keras.layers.InputLayer(input_shape=input_shape))\n",
    "    for layer in range(n_hidden):\n",
    "        model.add(keras.layers.Dense(n_neurons, activation=\"relu\"))\n",
    "    model.add(keras.layers.Dense(1))\n",
    "    model.compile(optimizer='adam', loss='binary_crossentropy', metrics=[\"accuracy\"])\n",
    "    return model"
   ]
  },
  {
   "cell_type": "code",
   "execution_count": 106,
   "metadata": {
    "id": "yxtIHnSlCds7"
   },
   "outputs": [],
   "source": [
    "keras_cls = keras.wrappers.scikit_learn.KerasClassifier(build_model)"
   ]
  },
  {
   "cell_type": "code",
   "execution_count": 107,
   "metadata": {
    "colab": {
     "base_uri": "https://localhost:8080/"
    },
    "id": "kj7TxfiUMqpO",
    "outputId": "66786a15-565e-409f-a5c6-dac8b732c7fe"
   },
   "outputs": [
    {
     "name": "stdout",
     "output_type": "stream",
     "text": [
      "Epoch 1/200\n",
      "139/139 [==============================] - 1s 3ms/step - loss: 2.2300 - accuracy: 0.5859 - val_loss: 1.3247 - val_accuracy: 0.6709\n",
      "Epoch 2/200\n",
      "139/139 [==============================] - 0s 2ms/step - loss: 1.1826 - accuracy: 0.6646 - val_loss: 0.9568 - val_accuracy: 0.6819\n",
      "Epoch 3/200\n",
      "139/139 [==============================] - 0s 2ms/step - loss: 0.9667 - accuracy: 0.7045 - val_loss: 0.8301 - val_accuracy: 0.7219\n",
      "Epoch 4/200\n",
      "139/139 [==============================] - 0s 2ms/step - loss: 0.8040 - accuracy: 0.7193 - val_loss: 0.7758 - val_accuracy: 0.7266\n",
      "Epoch 5/200\n",
      "139/139 [==============================] - 0s 2ms/step - loss: 0.7530 - accuracy: 0.7277 - val_loss: 0.7021 - val_accuracy: 0.7213\n",
      "Epoch 6/200\n",
      "139/139 [==============================] - 0s 2ms/step - loss: 0.6948 - accuracy: 0.7250 - val_loss: 0.6719 - val_accuracy: 0.7119\n",
      "Epoch 7/200\n",
      "139/139 [==============================] - 0s 2ms/step - loss: 0.6640 - accuracy: 0.7205 - val_loss: 0.6607 - val_accuracy: 0.7329\n",
      "Epoch 8/200\n",
      "139/139 [==============================] - 0s 2ms/step - loss: 0.6639 - accuracy: 0.7250 - val_loss: 0.9476 - val_accuracy: 0.6630\n",
      "Epoch 9/200\n",
      "139/139 [==============================] - 0s 2ms/step - loss: 0.7596 - accuracy: 0.7058 - val_loss: 0.6782 - val_accuracy: 0.7329\n",
      "Epoch 10/200\n",
      "139/139 [==============================] - 0s 2ms/step - loss: 0.6050 - accuracy: 0.7383 - val_loss: 0.6558 - val_accuracy: 0.7392\n",
      "Epoch 11/200\n",
      "139/139 [==============================] - 0s 2ms/step - loss: 0.5955 - accuracy: 0.7335 - val_loss: 0.6434 - val_accuracy: 0.7419\n",
      "Epoch 12/200\n",
      "139/139 [==============================] - 0s 2ms/step - loss: 0.5721 - accuracy: 0.7410 - val_loss: 0.6387 - val_accuracy: 0.7429\n",
      "Epoch 13/200\n",
      "139/139 [==============================] - 0s 2ms/step - loss: 0.5733 - accuracy: 0.7432 - val_loss: 0.6233 - val_accuracy: 0.7497\n",
      "Epoch 14/200\n",
      "139/139 [==============================] - 0s 2ms/step - loss: 0.5669 - accuracy: 0.7493 - val_loss: 0.6316 - val_accuracy: 0.7518\n",
      "Epoch 15/200\n",
      "139/139 [==============================] - 0s 2ms/step - loss: 0.5665 - accuracy: 0.7561 - val_loss: 0.6104 - val_accuracy: 0.7518\n",
      "Epoch 16/200\n",
      "139/139 [==============================] - 0s 2ms/step - loss: 0.5598 - accuracy: 0.7532 - val_loss: 0.6161 - val_accuracy: 0.7603\n",
      "Epoch 17/200\n",
      "139/139 [==============================] - 0s 2ms/step - loss: 0.5556 - accuracy: 0.7570 - val_loss: 0.6131 - val_accuracy: 0.7634\n",
      "Epoch 18/200\n",
      "139/139 [==============================] - 0s 2ms/step - loss: 0.5527 - accuracy: 0.7588 - val_loss: 0.6081 - val_accuracy: 0.7624\n",
      "Epoch 19/200\n",
      "139/139 [==============================] - 0s 2ms/step - loss: 0.5444 - accuracy: 0.7606 - val_loss: 0.6139 - val_accuracy: 0.7702\n",
      "Epoch 20/200\n",
      "139/139 [==============================] - 0s 2ms/step - loss: 0.5453 - accuracy: 0.7628 - val_loss: 0.6089 - val_accuracy: 0.7650\n",
      "Epoch 21/200\n",
      "139/139 [==============================] - 0s 2ms/step - loss: 0.5462 - accuracy: 0.7640 - val_loss: 0.6142 - val_accuracy: 0.7771\n",
      "Epoch 22/200\n",
      "139/139 [==============================] - 0s 2ms/step - loss: 0.5415 - accuracy: 0.7662 - val_loss: 0.6114 - val_accuracy: 0.7771\n",
      "Epoch 23/200\n",
      "139/139 [==============================] - 0s 2ms/step - loss: 0.5393 - accuracy: 0.7680 - val_loss: 0.6082 - val_accuracy: 0.7771\n",
      "Epoch 24/200\n",
      "139/139 [==============================] - 0s 2ms/step - loss: 0.5372 - accuracy: 0.7721 - val_loss: 0.6097 - val_accuracy: 0.7781\n",
      "Epoch 25/200\n",
      "139/139 [==============================] - 0s 2ms/step - loss: 0.5400 - accuracy: 0.7721 - val_loss: 0.6112 - val_accuracy: 0.7839\n",
      "Epoch 26/200\n",
      "139/139 [==============================] - 0s 2ms/step - loss: 0.5318 - accuracy: 0.7748 - val_loss: 0.6080 - val_accuracy: 0.7829\n",
      "Epoch 27/200\n",
      "139/139 [==============================] - 0s 2ms/step - loss: 0.5300 - accuracy: 0.7757 - val_loss: 0.5995 - val_accuracy: 0.7797\n",
      "Epoch 28/200\n",
      "139/139 [==============================] - 0s 2ms/step - loss: 0.5310 - accuracy: 0.7739 - val_loss: 0.6537 - val_accuracy: 0.7482\n",
      "Epoch 29/200\n",
      "139/139 [==============================] - 0s 2ms/step - loss: 0.6154 - accuracy: 0.7220 - val_loss: 0.5444 - val_accuracy: 0.7466\n",
      "Epoch 30/200\n",
      "139/139 [==============================] - 0s 2ms/step - loss: 0.5513 - accuracy: 0.7383 - val_loss: 0.5728 - val_accuracy: 0.7645\n",
      "Epoch 31/200\n",
      "139/139 [==============================] - 0s 2ms/step - loss: 0.5375 - accuracy: 0.7624 - val_loss: 0.5871 - val_accuracy: 0.7739\n",
      "Epoch 32/200\n",
      "139/139 [==============================] - 0s 2ms/step - loss: 0.5447 - accuracy: 0.7484 - val_loss: 0.5960 - val_accuracy: 0.7624\n",
      "Epoch 33/200\n",
      "139/139 [==============================] - 0s 2ms/step - loss: 0.5293 - accuracy: 0.7689 - val_loss: 0.5744 - val_accuracy: 0.7813\n",
      "Epoch 34/200\n",
      "139/139 [==============================] - 0s 2ms/step - loss: 0.5201 - accuracy: 0.7732 - val_loss: 0.5743 - val_accuracy: 0.7660\n",
      "Epoch 35/200\n",
      "139/139 [==============================] - 0s 2ms/step - loss: 0.5836 - accuracy: 0.7056 - val_loss: 0.5605 - val_accuracy: 0.7681\n",
      "Epoch 36/200\n",
      "139/139 [==============================] - 0s 2ms/step - loss: 0.5393 - accuracy: 0.7613 - val_loss: 0.5694 - val_accuracy: 0.7744\n",
      "Epoch 37/200\n",
      "139/139 [==============================] - 0s 2ms/step - loss: 0.5153 - accuracy: 0.7694 - val_loss: 0.5791 - val_accuracy: 0.7839\n",
      "Epoch 38/200\n",
      "139/139 [==============================] - 0s 2ms/step - loss: 0.5079 - accuracy: 0.7716 - val_loss: 0.5721 - val_accuracy: 0.7781\n",
      "Epoch 39/200\n",
      "139/139 [==============================] - 0s 2ms/step - loss: 0.5053 - accuracy: 0.7764 - val_loss: 0.5768 - val_accuracy: 0.7897\n",
      "Epoch 40/200\n",
      "139/139 [==============================] - 0s 2ms/step - loss: 0.4970 - accuracy: 0.7771 - val_loss: 0.5078 - val_accuracy: 0.7813\n",
      "Epoch 41/200\n",
      "139/139 [==============================] - 0s 2ms/step - loss: 0.4830 - accuracy: 0.7789 - val_loss: 0.5279 - val_accuracy: 0.7902\n",
      "Epoch 42/200\n",
      "139/139 [==============================] - 0s 2ms/step - loss: 0.4766 - accuracy: 0.7854 - val_loss: 0.5346 - val_accuracy: 0.7850\n",
      "Epoch 43/200\n",
      "139/139 [==============================] - 0s 2ms/step - loss: 0.4713 - accuracy: 0.7847 - val_loss: 0.5342 - val_accuracy: 0.7834\n",
      "Epoch 44/200\n",
      "139/139 [==============================] - 0s 2ms/step - loss: 0.4686 - accuracy: 0.7856 - val_loss: 0.5172 - val_accuracy: 0.7907\n",
      "Epoch 45/200\n",
      "139/139 [==============================] - 0s 2ms/step - loss: 0.4668 - accuracy: 0.7894 - val_loss: 0.5476 - val_accuracy: 0.7965\n",
      "Epoch 46/200\n",
      "139/139 [==============================] - 0s 2ms/step - loss: 0.4653 - accuracy: 0.7881 - val_loss: 0.5402 - val_accuracy: 0.7960\n",
      "Epoch 47/200\n",
      "139/139 [==============================] - 0s 2ms/step - loss: 0.4653 - accuracy: 0.7892 - val_loss: 0.5382 - val_accuracy: 0.7934\n",
      "Epoch 48/200\n",
      "139/139 [==============================] - 0s 2ms/step - loss: 0.4632 - accuracy: 0.7908 - val_loss: 0.5411 - val_accuracy: 0.8002\n",
      "Epoch 49/200\n",
      "139/139 [==============================] - 0s 3ms/step - loss: 0.4606 - accuracy: 0.7926 - val_loss: 0.5312 - val_accuracy: 0.8013\n",
      "Epoch 50/200\n",
      "139/139 [==============================] - 0s 2ms/step - loss: 0.4591 - accuracy: 0.7958 - val_loss: 0.5257 - val_accuracy: 0.7955\n",
      "Epoch 51/200\n",
      "139/139 [==============================] - 0s 2ms/step - loss: 0.4575 - accuracy: 0.7944 - val_loss: 0.5152 - val_accuracy: 0.8018\n",
      "Epoch 52/200\n",
      "139/139 [==============================] - 0s 2ms/step - loss: 0.4560 - accuracy: 0.7944 - val_loss: 0.5121 - val_accuracy: 0.8002\n",
      "Epoch 53/200\n",
      "139/139 [==============================] - 0s 2ms/step - loss: 0.4609 - accuracy: 0.7967 - val_loss: 0.5416 - val_accuracy: 0.7960\n",
      "Epoch 54/200\n",
      "139/139 [==============================] - 0s 2ms/step - loss: 0.4518 - accuracy: 0.7951 - val_loss: 0.5182 - val_accuracy: 0.7997\n",
      "Epoch 55/200\n",
      "139/139 [==============================] - 0s 2ms/step - loss: 0.4703 - accuracy: 0.7820 - val_loss: 0.5558 - val_accuracy: 0.7639\n",
      "Epoch 56/200\n",
      "139/139 [==============================] - 0s 2ms/step - loss: 0.4700 - accuracy: 0.7818 - val_loss: 0.5520 - val_accuracy: 0.7960\n",
      "Epoch 57/200\n",
      "139/139 [==============================] - 0s 2ms/step - loss: 0.4575 - accuracy: 0.7915 - val_loss: 0.5139 - val_accuracy: 0.7823\n",
      "Epoch 58/200\n",
      "139/139 [==============================] - 0s 2ms/step - loss: 0.4539 - accuracy: 0.7964 - val_loss: 0.5377 - val_accuracy: 0.8028\n",
      "Epoch 59/200\n",
      "139/139 [==============================] - 0s 2ms/step - loss: 0.4471 - accuracy: 0.8007 - val_loss: 0.5148 - val_accuracy: 0.8013\n",
      "Epoch 60/200\n",
      "139/139 [==============================] - 0s 2ms/step - loss: 0.4451 - accuracy: 0.8007 - val_loss: 0.5192 - val_accuracy: 0.8007\n",
      "Epoch 61/200\n",
      "139/139 [==============================] - 0s 2ms/step - loss: 0.4434 - accuracy: 0.8041 - val_loss: 0.5290 - val_accuracy: 0.8049\n",
      "Epoch 62/200\n",
      "139/139 [==============================] - 0s 2ms/step - loss: 0.4493 - accuracy: 0.7982 - val_loss: 0.5150 - val_accuracy: 0.8023\n",
      "Epoch 63/200\n",
      "139/139 [==============================] - 0s 2ms/step - loss: 0.4465 - accuracy: 0.8034 - val_loss: 0.5075 - val_accuracy: 0.7992\n",
      "Epoch 64/200\n",
      "139/139 [==============================] - 0s 2ms/step - loss: 0.4404 - accuracy: 0.8084 - val_loss: 0.5198 - val_accuracy: 0.8070\n",
      "Epoch 65/200\n",
      "139/139 [==============================] - 0s 2ms/step - loss: 0.4394 - accuracy: 0.8073 - val_loss: 0.5083 - val_accuracy: 0.8070\n",
      "Epoch 66/200\n",
      "139/139 [==============================] - 0s 2ms/step - loss: 0.4403 - accuracy: 0.8059 - val_loss: 0.5189 - val_accuracy: 0.8102\n",
      "Epoch 67/200\n",
      "139/139 [==============================] - 0s 2ms/step - loss: 0.4439 - accuracy: 0.8050 - val_loss: 0.5215 - val_accuracy: 0.8023\n",
      "Epoch 68/200\n",
      "139/139 [==============================] - 0s 2ms/step - loss: 0.4353 - accuracy: 0.8055 - val_loss: 0.5269 - val_accuracy: 0.8013\n",
      "Epoch 69/200\n",
      "139/139 [==============================] - 0s 2ms/step - loss: 0.4324 - accuracy: 0.8077 - val_loss: 0.5368 - val_accuracy: 0.8113\n",
      "Epoch 70/200\n",
      "139/139 [==============================] - 0s 2ms/step - loss: 0.4348 - accuracy: 0.8106 - val_loss: 0.5205 - val_accuracy: 0.8023\n",
      "Epoch 71/200\n",
      "139/139 [==============================] - 0s 2ms/step - loss: 0.4314 - accuracy: 0.8086 - val_loss: 0.5495 - val_accuracy: 0.8091\n",
      "Epoch 72/200\n",
      "139/139 [==============================] - 0s 2ms/step - loss: 0.4321 - accuracy: 0.8055 - val_loss: 0.5206 - val_accuracy: 0.8102\n",
      "Epoch 73/200\n",
      "139/139 [==============================] - 0s 2ms/step - loss: 0.4495 - accuracy: 0.7958 - val_loss: 0.5314 - val_accuracy: 0.8076\n",
      "Epoch 74/200\n",
      "139/139 [==============================] - 0s 2ms/step - loss: 0.4371 - accuracy: 0.8025 - val_loss: 0.5051 - val_accuracy: 0.8055\n",
      "Epoch 75/200\n",
      "139/139 [==============================] - 0s 2ms/step - loss: 0.4319 - accuracy: 0.8079 - val_loss: 0.5332 - val_accuracy: 0.8055\n",
      "Epoch 76/200\n",
      "139/139 [==============================] - 0s 2ms/step - loss: 0.4922 - accuracy: 0.7739 - val_loss: 0.5947 - val_accuracy: 0.7587\n",
      "Epoch 77/200\n",
      "139/139 [==============================] - 0s 2ms/step - loss: 0.4724 - accuracy: 0.7818 - val_loss: 0.5555 - val_accuracy: 0.7886\n",
      "Epoch 78/200\n",
      "139/139 [==============================] - 0s 2ms/step - loss: 0.4471 - accuracy: 0.7888 - val_loss: 0.5598 - val_accuracy: 0.7986\n",
      "Epoch 79/200\n",
      "139/139 [==============================] - 0s 2ms/step - loss: 0.4989 - accuracy: 0.7714 - val_loss: 0.6742 - val_accuracy: 0.7082\n",
      "Epoch 80/200\n",
      "139/139 [==============================] - 0s 2ms/step - loss: 0.5004 - accuracy: 0.7750 - val_loss: 0.5599 - val_accuracy: 0.7886\n",
      "Epoch 81/200\n",
      "139/139 [==============================] - 0s 2ms/step - loss: 0.4942 - accuracy: 0.7651 - val_loss: 0.5208 - val_accuracy: 0.7881\n",
      "Epoch 82/200\n",
      "139/139 [==============================] - 0s 2ms/step - loss: 0.4649 - accuracy: 0.7863 - val_loss: 0.5147 - val_accuracy: 0.7844\n",
      "Epoch 83/200\n",
      "139/139 [==============================] - 0s 2ms/step - loss: 0.5019 - accuracy: 0.7640 - val_loss: 0.5453 - val_accuracy: 0.7634\n",
      "Epoch 84/200\n",
      "139/139 [==============================] - 0s 2ms/step - loss: 0.4648 - accuracy: 0.7816 - val_loss: 0.5278 - val_accuracy: 0.7997\n",
      "Epoch 85/200\n",
      "139/139 [==============================] - 0s 2ms/step - loss: 0.4760 - accuracy: 0.7791 - val_loss: 0.5197 - val_accuracy: 0.7928\n",
      "Epoch 86/200\n",
      "139/139 [==============================] - 0s 2ms/step - loss: 0.4645 - accuracy: 0.7849 - val_loss: 0.4933 - val_accuracy: 0.7992\n",
      "Epoch 87/200\n",
      "139/139 [==============================] - 0s 2ms/step - loss: 0.4556 - accuracy: 0.7933 - val_loss: 0.5184 - val_accuracy: 0.8097\n",
      "Epoch 88/200\n",
      "139/139 [==============================] - 0s 2ms/step - loss: 0.4484 - accuracy: 0.7987 - val_loss: 0.5279 - val_accuracy: 0.8086\n",
      "Epoch 89/200\n",
      "139/139 [==============================] - 0s 2ms/step - loss: 0.4449 - accuracy: 0.8048 - val_loss: 0.5129 - val_accuracy: 0.8097\n",
      "Epoch 90/200\n",
      "139/139 [==============================] - 0s 2ms/step - loss: 0.4434 - accuracy: 0.8039 - val_loss: 0.5183 - val_accuracy: 0.8102\n",
      "Epoch 91/200\n",
      "139/139 [==============================] - 0s 2ms/step - loss: 0.4396 - accuracy: 0.8070 - val_loss: 0.5280 - val_accuracy: 0.8097\n",
      "Epoch 92/200\n",
      "139/139 [==============================] - 0s 2ms/step - loss: 0.4389 - accuracy: 0.8082 - val_loss: 0.5205 - val_accuracy: 0.8107\n",
      "Epoch 93/200\n",
      "139/139 [==============================] - 0s 2ms/step - loss: 0.4367 - accuracy: 0.8088 - val_loss: 0.5196 - val_accuracy: 0.8113\n",
      "Epoch 94/200\n",
      "139/139 [==============================] - 0s 2ms/step - loss: 0.4353 - accuracy: 0.8104 - val_loss: 0.5188 - val_accuracy: 0.8102\n",
      "Epoch 95/200\n",
      "139/139 [==============================] - 0s 2ms/step - loss: 0.4349 - accuracy: 0.8091 - val_loss: 0.5203 - val_accuracy: 0.8081\n",
      "Epoch 96/200\n",
      "139/139 [==============================] - 0s 2ms/step - loss: 0.4338 - accuracy: 0.8077 - val_loss: 0.5217 - val_accuracy: 0.8107\n",
      "Epoch 97/200\n",
      "139/139 [==============================] - 0s 2ms/step - loss: 0.4321 - accuracy: 0.8104 - val_loss: 0.5307 - val_accuracy: 0.8113\n",
      "Epoch 98/200\n",
      "139/139 [==============================] - 0s 2ms/step - loss: 0.4305 - accuracy: 0.8061 - val_loss: 0.5244 - val_accuracy: 0.8113\n",
      "Epoch 99/200\n",
      "139/139 [==============================] - 0s 2ms/step - loss: 0.4298 - accuracy: 0.8086 - val_loss: 0.5250 - val_accuracy: 0.8107\n",
      "Epoch 100/200\n",
      "139/139 [==============================] - 0s 2ms/step - loss: 0.4298 - accuracy: 0.8113 - val_loss: 0.5243 - val_accuracy: 0.8076\n",
      "Epoch 101/200\n",
      "139/139 [==============================] - 0s 2ms/step - loss: 0.4261 - accuracy: 0.8082 - val_loss: 0.5172 - val_accuracy: 0.8107\n",
      "Epoch 102/200\n",
      "139/139 [==============================] - 0s 2ms/step - loss: 0.4247 - accuracy: 0.8088 - val_loss: 0.5295 - val_accuracy: 0.8076\n",
      "Epoch 103/200\n",
      "139/139 [==============================] - 0s 2ms/step - loss: 0.4233 - accuracy: 0.8111 - val_loss: 0.5300 - val_accuracy: 0.8086\n",
      "Epoch 104/200\n",
      "139/139 [==============================] - 0s 2ms/step - loss: 0.4220 - accuracy: 0.8129 - val_loss: 0.5296 - val_accuracy: 0.8065\n",
      "Epoch 105/200\n",
      "139/139 [==============================] - 0s 2ms/step - loss: 0.4271 - accuracy: 0.8111 - val_loss: 0.5506 - val_accuracy: 0.8091\n",
      "Epoch 106/200\n",
      "139/139 [==============================] - 0s 2ms/step - loss: 0.4234 - accuracy: 0.8091 - val_loss: 0.5294 - val_accuracy: 0.7981\n",
      "Epoch 107/200\n",
      "139/139 [==============================] - 0s 2ms/step - loss: 0.4267 - accuracy: 0.8088 - val_loss: 0.5319 - val_accuracy: 0.8070\n",
      "Epoch 108/200\n",
      "139/139 [==============================] - 0s 2ms/step - loss: 0.4251 - accuracy: 0.8104 - val_loss: 0.5262 - val_accuracy: 0.8065\n",
      "Epoch 109/200\n",
      "139/139 [==============================] - 0s 2ms/step - loss: 0.4221 - accuracy: 0.8106 - val_loss: 0.5244 - val_accuracy: 0.8081\n",
      "Epoch 110/200\n",
      "139/139 [==============================] - 0s 2ms/step - loss: 0.4196 - accuracy: 0.8142 - val_loss: 0.5246 - val_accuracy: 0.8081\n",
      "Epoch 111/200\n",
      "139/139 [==============================] - 0s 2ms/step - loss: 0.4182 - accuracy: 0.8131 - val_loss: 0.5399 - val_accuracy: 0.8102\n"
     ]
    },
    {
     "data": {
      "text/plain": [
       "<keras.callbacks.History at 0x7fe2283543d0>"
      ]
     },
     "execution_count": 107,
     "metadata": {},
     "output_type": "execute_result"
    }
   ],
   "source": [
    "keras_cls.fit(X_train, y_train, epochs=200,\n",
    "              validation_data=(X_val, y_val),\n",
    "              callbacks=[keras.callbacks.EarlyStopping(patience=25)])"
   ]
  },
  {
   "cell_type": "code",
   "execution_count": 108,
   "metadata": {
    "id": "mhrWHc4zTtdj"
   },
   "outputs": [],
   "source": [
    "param_distribs = {\n",
    "    \"n_hidden\": [0, 1, 2, 3],\n",
    "    \"n_neurons\": [1, 10, 18]\n",
    "}"
   ]
  },
  {
   "cell_type": "code",
   "execution_count": 109,
   "metadata": {
    "id": "ufQBML0CXgqD"
   },
   "outputs": [],
   "source": [
    "rnd_search_cv = RandomizedSearchCV(keras_cls, param_distribs, n_iter=2, cv=2, verbose=2)"
   ]
  },
  {
   "cell_type": "code",
   "execution_count": 110,
   "metadata": {
    "colab": {
     "base_uri": "https://localhost:8080/"
    },
    "id": "VKSmgJ2hX48u",
    "outputId": "0eb1b665-d8cf-491c-f2e8-4b0693f68122"
   },
   "outputs": [
    {
     "name": "stdout",
     "output_type": "stream",
     "text": [
      "Fitting 2 folds for each of 2 candidates, totalling 4 fits\n",
      "[CV] n_neurons=18, n_hidden=3 ........................................\n",
      "Epoch 1/200\n"
     ]
    },
    {
     "name": "stderr",
     "output_type": "stream",
     "text": [
      "[Parallel(n_jobs=1)]: Using backend SequentialBackend with 1 concurrent workers.\n"
     ]
    },
    {
     "name": "stdout",
     "output_type": "stream",
     "text": [
      "70/70 [==============================] - 1s 5ms/step - loss: 1.4438 - accuracy: 0.4463 - val_loss: 0.9256 - val_accuracy: 0.5179\n",
      "Epoch 2/200\n",
      "70/70 [==============================] - 0s 3ms/step - loss: 0.8122 - accuracy: 0.5852 - val_loss: 0.8236 - val_accuracy: 0.6146\n",
      "Epoch 3/200\n",
      "70/70 [==============================] - 0s 3ms/step - loss: 0.7559 - accuracy: 0.6456 - val_loss: 0.7128 - val_accuracy: 0.6377\n",
      "Epoch 4/200\n",
      "70/70 [==============================] - 0s 3ms/step - loss: 0.6852 - accuracy: 0.6641 - val_loss: 0.7337 - val_accuracy: 0.6919\n",
      "Epoch 5/200\n",
      "70/70 [==============================] - 0s 3ms/step - loss: 0.6698 - accuracy: 0.7160 - val_loss: 0.6807 - val_accuracy: 0.7098\n",
      "Epoch 6/200\n",
      "70/70 [==============================] - 0s 3ms/step - loss: 0.6546 - accuracy: 0.7331 - val_loss: 0.6615 - val_accuracy: 0.7277\n",
      "Epoch 7/200\n",
      "70/70 [==============================] - 0s 3ms/step - loss: 0.6282 - accuracy: 0.7313 - val_loss: 0.6488 - val_accuracy: 0.7282\n",
      "Epoch 8/200\n",
      "70/70 [==============================] - 0s 3ms/step - loss: 0.6148 - accuracy: 0.7403 - val_loss: 0.6563 - val_accuracy: 0.7208\n",
      "Epoch 9/200\n",
      "70/70 [==============================] - 0s 3ms/step - loss: 0.6082 - accuracy: 0.7353 - val_loss: 0.6521 - val_accuracy: 0.7371\n",
      "Epoch 10/200\n",
      "70/70 [==============================] - 0s 3ms/step - loss: 0.6176 - accuracy: 0.7520 - val_loss: 0.6266 - val_accuracy: 0.7539\n",
      "Epoch 11/200\n",
      "70/70 [==============================] - 0s 3ms/step - loss: 0.5910 - accuracy: 0.7511 - val_loss: 0.6232 - val_accuracy: 0.7613\n",
      "Epoch 12/200\n",
      "70/70 [==============================] - 0s 3ms/step - loss: 0.5970 - accuracy: 0.7610 - val_loss: 0.6150 - val_accuracy: 0.7587\n",
      "Epoch 13/200\n",
      "70/70 [==============================] - 0s 3ms/step - loss: 0.5790 - accuracy: 0.7678 - val_loss: 0.6165 - val_accuracy: 0.7687\n",
      "Epoch 14/200\n",
      "70/70 [==============================] - 0s 3ms/step - loss: 0.5736 - accuracy: 0.7710 - val_loss: 0.6194 - val_accuracy: 0.7681\n",
      "Epoch 15/200\n",
      "70/70 [==============================] - 0s 3ms/step - loss: 0.5917 - accuracy: 0.7746 - val_loss: 0.6313 - val_accuracy: 0.7718\n",
      "Epoch 16/200\n",
      "70/70 [==============================] - 0s 3ms/step - loss: 0.5838 - accuracy: 0.7746 - val_loss: 0.6323 - val_accuracy: 0.7771\n",
      "Epoch 17/200\n",
      "70/70 [==============================] - 0s 3ms/step - loss: 0.5835 - accuracy: 0.7759 - val_loss: 0.6389 - val_accuracy: 0.7723\n",
      "Epoch 18/200\n",
      "70/70 [==============================] - 0s 3ms/step - loss: 0.5730 - accuracy: 0.7800 - val_loss: 0.6282 - val_accuracy: 0.7776\n",
      "Epoch 19/200\n",
      "70/70 [==============================] - 0s 3ms/step - loss: 0.5707 - accuracy: 0.7845 - val_loss: 0.6326 - val_accuracy: 0.7797\n",
      "Epoch 20/200\n",
      "70/70 [==============================] - 0s 3ms/step - loss: 0.5678 - accuracy: 0.7840 - val_loss: 0.6309 - val_accuracy: 0.7792\n",
      "Epoch 21/200\n",
      "70/70 [==============================] - 0s 3ms/step - loss: 0.5638 - accuracy: 0.7872 - val_loss: 0.6316 - val_accuracy: 0.7813\n",
      "Epoch 22/200\n",
      "70/70 [==============================] - 0s 3ms/step - loss: 0.5476 - accuracy: 0.7809 - val_loss: 0.5599 - val_accuracy: 0.7839\n",
      "Epoch 23/200\n",
      "70/70 [==============================] - 0s 3ms/step - loss: 0.5347 - accuracy: 0.7867 - val_loss: 0.5945 - val_accuracy: 0.7850\n",
      "Epoch 24/200\n",
      "70/70 [==============================] - 0s 3ms/step - loss: 0.5281 - accuracy: 0.7935 - val_loss: 0.5793 - val_accuracy: 0.7834\n",
      "Epoch 25/200\n",
      "70/70 [==============================] - 0s 3ms/step - loss: 0.5251 - accuracy: 0.7904 - val_loss: 0.6013 - val_accuracy: 0.7871\n",
      "Epoch 26/200\n",
      "70/70 [==============================] - 0s 3ms/step - loss: 0.5190 - accuracy: 0.7953 - val_loss: 0.5943 - val_accuracy: 0.7855\n",
      "Epoch 27/200\n",
      "70/70 [==============================] - 0s 3ms/step - loss: 0.5165 - accuracy: 0.7980 - val_loss: 0.6052 - val_accuracy: 0.7834\n",
      "Epoch 28/200\n",
      "70/70 [==============================] - 0s 3ms/step - loss: 0.5134 - accuracy: 0.7949 - val_loss: 0.5940 - val_accuracy: 0.7923\n",
      "Epoch 29/200\n",
      "70/70 [==============================] - 0s 3ms/step - loss: 0.5115 - accuracy: 0.7976 - val_loss: 0.5972 - val_accuracy: 0.7913\n",
      "Epoch 30/200\n",
      "70/70 [==============================] - 0s 3ms/step - loss: 0.5094 - accuracy: 0.7962 - val_loss: 0.5910 - val_accuracy: 0.7876\n",
      "Epoch 31/200\n",
      "70/70 [==============================] - 0s 3ms/step - loss: 0.5142 - accuracy: 0.8012 - val_loss: 0.6010 - val_accuracy: 0.7892\n",
      "Epoch 32/200\n",
      "70/70 [==============================] - 0s 3ms/step - loss: 0.5047 - accuracy: 0.8021 - val_loss: 0.5917 - val_accuracy: 0.7902\n",
      "70/70 [==============================] - 0s 2ms/step - loss: 0.5743 - accuracy: 0.7741\n",
      "[CV] ......................... n_neurons=18, n_hidden=3, total=   7.7s\n",
      "[CV] n_neurons=18, n_hidden=3 ........................................\n",
      "Epoch 1/200\n"
     ]
    },
    {
     "name": "stderr",
     "output_type": "stream",
     "text": [
      "[Parallel(n_jobs=1)]: Done   1 out of   1 | elapsed:    7.7s remaining:    0.0s\n"
     ]
    },
    {
     "name": "stdout",
     "output_type": "stream",
     "text": [
      "70/70 [==============================] - 1s 5ms/step - loss: 1.3760 - accuracy: 0.6411 - val_loss: 1.0032 - val_accuracy: 0.6893\n",
      "Epoch 2/200\n",
      "70/70 [==============================] - 0s 3ms/step - loss: 0.8964 - accuracy: 0.7146 - val_loss: 0.8954 - val_accuracy: 0.7145\n",
      "Epoch 3/200\n",
      "70/70 [==============================] - 0s 3ms/step - loss: 0.8093 - accuracy: 0.7376 - val_loss: 0.9075 - val_accuracy: 0.7687\n",
      "Epoch 4/200\n",
      "70/70 [==============================] - 0s 3ms/step - loss: 0.7782 - accuracy: 0.7714 - val_loss: 0.8626 - val_accuracy: 0.7702\n",
      "Epoch 5/200\n",
      "70/70 [==============================] - 0s 3ms/step - loss: 0.7289 - accuracy: 0.7705 - val_loss: 0.8666 - val_accuracy: 0.7834\n",
      "Epoch 6/200\n",
      "70/70 [==============================] - 0s 3ms/step - loss: 0.7075 - accuracy: 0.7836 - val_loss: 0.7870 - val_accuracy: 0.7787\n",
      "Epoch 7/200\n",
      "70/70 [==============================] - 0s 3ms/step - loss: 0.7540 - accuracy: 0.7403 - val_loss: 0.8916 - val_accuracy: 0.7050\n",
      "Epoch 8/200\n",
      "70/70 [==============================] - 0s 3ms/step - loss: 0.6772 - accuracy: 0.7592 - val_loss: 0.7685 - val_accuracy: 0.7760\n",
      "Epoch 9/200\n",
      "70/70 [==============================] - 0s 3ms/step - loss: 0.6561 - accuracy: 0.7813 - val_loss: 0.7550 - val_accuracy: 0.7913\n",
      "Epoch 10/200\n",
      "70/70 [==============================] - 0s 3ms/step - loss: 0.6374 - accuracy: 0.7232 - val_loss: 0.6478 - val_accuracy: 0.7739\n",
      "Epoch 11/200\n",
      "70/70 [==============================] - 0s 4ms/step - loss: 0.5139 - accuracy: 0.7782 - val_loss: 0.6271 - val_accuracy: 0.7855\n",
      "Epoch 12/200\n",
      "70/70 [==============================] - 0s 3ms/step - loss: 0.4996 - accuracy: 0.7885 - val_loss: 0.6118 - val_accuracy: 0.7913\n",
      "Epoch 13/200\n",
      "70/70 [==============================] - 0s 3ms/step - loss: 0.5096 - accuracy: 0.7890 - val_loss: 0.6543 - val_accuracy: 0.7965\n",
      "Epoch 14/200\n",
      "70/70 [==============================] - 0s 3ms/step - loss: 0.4974 - accuracy: 0.7561 - val_loss: 0.5726 - val_accuracy: 0.7192\n",
      "Epoch 15/200\n",
      "70/70 [==============================] - 0s 3ms/step - loss: 0.5019 - accuracy: 0.7547 - val_loss: 0.6653 - val_accuracy: 0.7066\n",
      "Epoch 16/200\n",
      "70/70 [==============================] - 0s 3ms/step - loss: 0.5132 - accuracy: 0.7520 - val_loss: 0.6290 - val_accuracy: 0.7823\n",
      "Epoch 17/200\n",
      "70/70 [==============================] - 0s 3ms/step - loss: 0.4998 - accuracy: 0.7872 - val_loss: 0.5673 - val_accuracy: 0.7634\n",
      "Epoch 18/200\n",
      "70/70 [==============================] - 0s 3ms/step - loss: 0.4923 - accuracy: 0.7872 - val_loss: 0.6089 - val_accuracy: 0.7913\n",
      "Epoch 19/200\n",
      "70/70 [==============================] - 0s 3ms/step - loss: 0.4779 - accuracy: 0.7940 - val_loss: 0.6125 - val_accuracy: 0.7944\n",
      "Epoch 20/200\n",
      "70/70 [==============================] - 0s 3ms/step - loss: 0.4738 - accuracy: 0.7962 - val_loss: 0.5993 - val_accuracy: 0.7934\n",
      "Epoch 21/200\n",
      "70/70 [==============================] - 0s 3ms/step - loss: 0.4699 - accuracy: 0.7971 - val_loss: 0.6160 - val_accuracy: 0.7939\n",
      "Epoch 22/200\n",
      "70/70 [==============================] - 0s 3ms/step - loss: 0.4722 - accuracy: 0.7976 - val_loss: 0.6164 - val_accuracy: 0.7950\n",
      "Epoch 23/200\n",
      "70/70 [==============================] - 0s 3ms/step - loss: 0.4645 - accuracy: 0.7971 - val_loss: 0.6385 - val_accuracy: 0.7950\n",
      "Epoch 24/200\n",
      "70/70 [==============================] - 0s 3ms/step - loss: 0.4680 - accuracy: 0.7998 - val_loss: 0.6758 - val_accuracy: 0.7934\n",
      "Epoch 25/200\n",
      "70/70 [==============================] - 0s 3ms/step - loss: 0.4589 - accuracy: 0.7994 - val_loss: 0.6509 - val_accuracy: 0.7928\n",
      "Epoch 26/200\n",
      "70/70 [==============================] - 0s 3ms/step - loss: 0.4561 - accuracy: 0.8003 - val_loss: 0.6545 - val_accuracy: 0.7865\n",
      "Epoch 27/200\n",
      "70/70 [==============================] - 0s 3ms/step - loss: 0.4527 - accuracy: 0.8007 - val_loss: 0.6609 - val_accuracy: 0.7902\n",
      "70/70 [==============================] - 0s 2ms/step - loss: 0.7076 - accuracy: 0.7759\n",
      "[CV] ......................... n_neurons=18, n_hidden=3, total=  11.1s\n",
      "[CV] n_neurons=10, n_hidden=1 ........................................\n",
      "Epoch 1/200\n",
      "70/70 [==============================] - 1s 5ms/step - loss: 4.2005 - accuracy: 0.4905 - val_loss: 3.3471 - val_accuracy: 0.5741\n",
      "Epoch 2/200\n",
      "70/70 [==============================] - 0s 3ms/step - loss: 3.0754 - accuracy: 0.5586 - val_loss: 2.6374 - val_accuracy: 0.6109\n",
      "Epoch 3/200\n",
      "70/70 [==============================] - 0s 2ms/step - loss: 2.4965 - accuracy: 0.5938 - val_loss: 2.1272 - val_accuracy: 0.6299\n",
      "Epoch 4/200\n",
      "70/70 [==============================] - 0s 2ms/step - loss: 1.9240 - accuracy: 0.6294 - val_loss: 1.6824 - val_accuracy: 0.6404\n",
      "Epoch 5/200\n",
      "70/70 [==============================] - 0s 3ms/step - loss: 1.7692 - accuracy: 0.6303 - val_loss: 1.6459 - val_accuracy: 0.6404\n",
      "Epoch 6/200\n",
      "70/70 [==============================] - 0s 2ms/step - loss: 1.6752 - accuracy: 0.6438 - val_loss: 1.5025 - val_accuracy: 0.6656\n",
      "Epoch 7/200\n",
      "70/70 [==============================] - 0s 3ms/step - loss: 1.5827 - accuracy: 0.6623 - val_loss: 1.4401 - val_accuracy: 0.6746\n",
      "Epoch 8/200\n",
      "70/70 [==============================] - 0s 3ms/step - loss: 1.4958 - accuracy: 0.6686 - val_loss: 1.3499 - val_accuracy: 0.6809\n",
      "Epoch 9/200\n",
      "70/70 [==============================] - 0s 3ms/step - loss: 1.3842 - accuracy: 0.6830 - val_loss: 1.2862 - val_accuracy: 0.6903\n",
      "Epoch 10/200\n",
      "70/70 [==============================] - 0s 3ms/step - loss: 1.3140 - accuracy: 0.6731 - val_loss: 1.2035 - val_accuracy: 0.6761\n",
      "Epoch 11/200\n",
      "70/70 [==============================] - 0s 3ms/step - loss: 1.2376 - accuracy: 0.6803 - val_loss: 1.1992 - val_accuracy: 0.6830\n",
      "Epoch 12/200\n",
      "70/70 [==============================] - 0s 2ms/step - loss: 1.2109 - accuracy: 0.6826 - val_loss: 1.1476 - val_accuracy: 0.6977\n",
      "Epoch 13/200\n",
      "70/70 [==============================] - 0s 3ms/step - loss: 1.1962 - accuracy: 0.6830 - val_loss: 1.1555 - val_accuracy: 0.6672\n",
      "Epoch 14/200\n",
      "70/70 [==============================] - 0s 2ms/step - loss: 1.1730 - accuracy: 0.6682 - val_loss: 1.1353 - val_accuracy: 0.6756\n",
      "Epoch 15/200\n",
      "70/70 [==============================] - 0s 2ms/step - loss: 1.3053 - accuracy: 0.6876 - val_loss: 1.2569 - val_accuracy: 0.6972\n",
      "Epoch 16/200\n",
      "70/70 [==============================] - 0s 3ms/step - loss: 1.3057 - accuracy: 0.6885 - val_loss: 1.2280 - val_accuracy: 0.7014\n",
      "Epoch 17/200\n",
      "70/70 [==============================] - 0s 2ms/step - loss: 1.2783 - accuracy: 0.6930 - val_loss: 1.2187 - val_accuracy: 0.7035\n",
      "Epoch 18/200\n",
      "70/70 [==============================] - 0s 3ms/step - loss: 1.2695 - accuracy: 0.6939 - val_loss: 1.2103 - val_accuracy: 0.7008\n",
      "Epoch 19/200\n",
      "70/70 [==============================] - 0s 3ms/step - loss: 1.2591 - accuracy: 0.6930 - val_loss: 1.1934 - val_accuracy: 0.7019\n",
      "Epoch 20/200\n",
      "70/70 [==============================] - 0s 2ms/step - loss: 1.2476 - accuracy: 0.6930 - val_loss: 1.1900 - val_accuracy: 0.7029\n",
      "Epoch 21/200\n",
      "70/70 [==============================] - 0s 2ms/step - loss: 1.2452 - accuracy: 0.6939 - val_loss: 1.1871 - val_accuracy: 0.7056\n",
      "Epoch 22/200\n",
      "70/70 [==============================] - 0s 2ms/step - loss: 1.2340 - accuracy: 0.6952 - val_loss: 1.1839 - val_accuracy: 0.7072\n",
      "Epoch 23/200\n",
      "70/70 [==============================] - 0s 2ms/step - loss: 1.1819 - accuracy: 0.6948 - val_loss: 1.1117 - val_accuracy: 0.7082\n",
      "Epoch 24/200\n",
      "70/70 [==============================] - 0s 2ms/step - loss: 1.1541 - accuracy: 0.6939 - val_loss: 1.1074 - val_accuracy: 0.7093\n",
      "Epoch 25/200\n",
      "70/70 [==============================] - 0s 2ms/step - loss: 1.1498 - accuracy: 0.6975 - val_loss: 1.1069 - val_accuracy: 0.7124\n",
      "Epoch 26/200\n",
      "70/70 [==============================] - 0s 2ms/step - loss: 1.1467 - accuracy: 0.6984 - val_loss: 1.1000 - val_accuracy: 0.7129\n",
      "Epoch 27/200\n",
      "70/70 [==============================] - 0s 3ms/step - loss: 1.1441 - accuracy: 0.6970 - val_loss: 1.0987 - val_accuracy: 0.7124\n",
      "Epoch 28/200\n",
      "70/70 [==============================] - 0s 3ms/step - loss: 1.1419 - accuracy: 0.6993 - val_loss: 1.0939 - val_accuracy: 0.7150\n",
      "Epoch 29/200\n",
      "70/70 [==============================] - 0s 2ms/step - loss: 1.1402 - accuracy: 0.6988 - val_loss: 1.0955 - val_accuracy: 0.7161\n",
      "Epoch 30/200\n",
      "70/70 [==============================] - 0s 3ms/step - loss: 1.1292 - accuracy: 0.6979 - val_loss: 1.0874 - val_accuracy: 0.7208\n",
      "Epoch 31/200\n",
      "70/70 [==============================] - 0s 3ms/step - loss: 1.1164 - accuracy: 0.7038 - val_loss: 1.0803 - val_accuracy: 0.7213\n",
      "Epoch 32/200\n",
      "70/70 [==============================] - 0s 2ms/step - loss: 1.1213 - accuracy: 0.7020 - val_loss: 1.0914 - val_accuracy: 0.7108\n",
      "Epoch 33/200\n",
      "70/70 [==============================] - 0s 2ms/step - loss: 1.0902 - accuracy: 0.6948 - val_loss: 1.0743 - val_accuracy: 0.7087\n",
      "Epoch 34/200\n",
      "70/70 [==============================] - 0s 2ms/step - loss: 1.0843 - accuracy: 0.6975 - val_loss: 1.0634 - val_accuracy: 0.7098\n",
      "Epoch 35/200\n",
      "70/70 [==============================] - 0s 3ms/step - loss: 1.0798 - accuracy: 0.7006 - val_loss: 1.0589 - val_accuracy: 0.7114\n",
      "Epoch 36/200\n",
      "70/70 [==============================] - 0s 3ms/step - loss: 1.0763 - accuracy: 0.6975 - val_loss: 1.0553 - val_accuracy: 0.7135\n",
      "Epoch 37/200\n",
      "70/70 [==============================] - 0s 3ms/step - loss: 1.0735 - accuracy: 0.6984 - val_loss: 1.0532 - val_accuracy: 0.7171\n",
      "Epoch 38/200\n",
      "70/70 [==============================] - 0s 2ms/step - loss: 1.0707 - accuracy: 0.7011 - val_loss: 1.0456 - val_accuracy: 0.7187\n",
      "Epoch 39/200\n",
      "70/70 [==============================] - 0s 3ms/step - loss: 1.0683 - accuracy: 0.7042 - val_loss: 1.0362 - val_accuracy: 0.7198\n",
      "Epoch 40/200\n",
      "70/70 [==============================] - 0s 3ms/step - loss: 1.0660 - accuracy: 0.7033 - val_loss: 1.0327 - val_accuracy: 0.7219\n",
      "Epoch 41/200\n",
      "70/70 [==============================] - 0s 3ms/step - loss: 1.0639 - accuracy: 0.7069 - val_loss: 1.0246 - val_accuracy: 0.7261\n",
      "Epoch 42/200\n",
      "70/70 [==============================] - 0s 2ms/step - loss: 1.0620 - accuracy: 0.7096 - val_loss: 1.0218 - val_accuracy: 0.7277\n",
      "Epoch 43/200\n",
      "70/70 [==============================] - 0s 2ms/step - loss: 1.0604 - accuracy: 0.7106 - val_loss: 1.0203 - val_accuracy: 0.7298\n",
      "Epoch 44/200\n",
      "70/70 [==============================] - 0s 2ms/step - loss: 1.0589 - accuracy: 0.7115 - val_loss: 1.0177 - val_accuracy: 0.7308\n",
      "Epoch 45/200\n",
      "70/70 [==============================] - 0s 2ms/step - loss: 1.0507 - accuracy: 0.7164 - val_loss: 0.9847 - val_accuracy: 0.7303\n",
      "Epoch 46/200\n",
      "70/70 [==============================] - 0s 3ms/step - loss: 1.0344 - accuracy: 0.7160 - val_loss: 0.9647 - val_accuracy: 0.7329\n",
      "Epoch 47/200\n",
      "70/70 [==============================] - 0s 3ms/step - loss: 1.0149 - accuracy: 0.7191 - val_loss: 0.9309 - val_accuracy: 0.7355\n",
      "Epoch 48/200\n",
      "70/70 [==============================] - 0s 2ms/step - loss: 0.9967 - accuracy: 0.7268 - val_loss: 0.8832 - val_accuracy: 0.7345\n",
      "Epoch 49/200\n",
      "70/70 [==============================] - 0s 2ms/step - loss: 0.9913 - accuracy: 0.7304 - val_loss: 0.8899 - val_accuracy: 0.7366\n",
      "Epoch 50/200\n",
      "70/70 [==============================] - 0s 2ms/step - loss: 0.9794 - accuracy: 0.7331 - val_loss: 0.8919 - val_accuracy: 0.7408\n",
      "Epoch 51/200\n",
      "70/70 [==============================] - 0s 3ms/step - loss: 0.9762 - accuracy: 0.7349 - val_loss: 0.8958 - val_accuracy: 0.7429\n",
      "Epoch 52/200\n",
      "70/70 [==============================] - 0s 3ms/step - loss: 0.9722 - accuracy: 0.7349 - val_loss: 0.8929 - val_accuracy: 0.7440\n",
      "Epoch 53/200\n",
      "70/70 [==============================] - 0s 2ms/step - loss: 0.9701 - accuracy: 0.7362 - val_loss: 0.8902 - val_accuracy: 0.7434\n",
      "Epoch 54/200\n",
      "70/70 [==============================] - 0s 2ms/step - loss: 0.9679 - accuracy: 0.7372 - val_loss: 0.8878 - val_accuracy: 0.7466\n",
      "Epoch 55/200\n",
      "70/70 [==============================] - 0s 3ms/step - loss: 0.9663 - accuracy: 0.7376 - val_loss: 0.8853 - val_accuracy: 0.7487\n",
      "Epoch 56/200\n",
      "70/70 [==============================] - 0s 3ms/step - loss: 0.9645 - accuracy: 0.7394 - val_loss: 0.8833 - val_accuracy: 0.7508\n",
      "Epoch 57/200\n",
      "70/70 [==============================] - 0s 3ms/step - loss: 0.9630 - accuracy: 0.7412 - val_loss: 0.8813 - val_accuracy: 0.7529\n",
      "Epoch 58/200\n",
      "70/70 [==============================] - 0s 3ms/step - loss: 0.9615 - accuracy: 0.7426 - val_loss: 0.8759 - val_accuracy: 0.7560\n",
      "Epoch 59/200\n",
      "70/70 [==============================] - 0s 3ms/step - loss: 0.9601 - accuracy: 0.7421 - val_loss: 0.8677 - val_accuracy: 0.7545\n",
      "Epoch 60/200\n",
      "70/70 [==============================] - 0s 3ms/step - loss: 0.9541 - accuracy: 0.7430 - val_loss: 0.8651 - val_accuracy: 0.7550\n",
      "Epoch 61/200\n",
      "70/70 [==============================] - 0s 3ms/step - loss: 0.9428 - accuracy: 0.7430 - val_loss: 0.8522 - val_accuracy: 0.7550\n",
      "Epoch 62/200\n",
      "70/70 [==============================] - 0s 2ms/step - loss: 0.9404 - accuracy: 0.7435 - val_loss: 0.8499 - val_accuracy: 0.7571\n",
      "Epoch 63/200\n",
      "70/70 [==============================] - 0s 3ms/step - loss: 0.9386 - accuracy: 0.7448 - val_loss: 0.8436 - val_accuracy: 0.7581\n",
      "Epoch 64/200\n",
      "70/70 [==============================] - 0s 2ms/step - loss: 0.9199 - accuracy: 0.7439 - val_loss: 0.8202 - val_accuracy: 0.7587\n",
      "Epoch 65/200\n",
      "70/70 [==============================] - 0s 3ms/step - loss: 0.8979 - accuracy: 0.7498 - val_loss: 0.8188 - val_accuracy: 0.7576\n",
      "Epoch 66/200\n",
      "70/70 [==============================] - 0s 2ms/step - loss: 0.8958 - accuracy: 0.7489 - val_loss: 0.8176 - val_accuracy: 0.7587\n",
      "Epoch 67/200\n",
      "70/70 [==============================] - 0s 2ms/step - loss: 0.8945 - accuracy: 0.7493 - val_loss: 0.8166 - val_accuracy: 0.7576\n",
      "Epoch 68/200\n",
      "70/70 [==============================] - 0s 3ms/step - loss: 0.8930 - accuracy: 0.7493 - val_loss: 0.8156 - val_accuracy: 0.7587\n",
      "Epoch 69/200\n",
      "70/70 [==============================] - 0s 3ms/step - loss: 0.8919 - accuracy: 0.7484 - val_loss: 0.8149 - val_accuracy: 0.7603\n",
      "Epoch 70/200\n",
      "70/70 [==============================] - 0s 3ms/step - loss: 0.8903 - accuracy: 0.7511 - val_loss: 0.8141 - val_accuracy: 0.7592\n",
      "Epoch 71/200\n",
      "70/70 [==============================] - 0s 2ms/step - loss: 0.8892 - accuracy: 0.7498 - val_loss: 0.8132 - val_accuracy: 0.7597\n",
      "Epoch 72/200\n",
      "70/70 [==============================] - 0s 3ms/step - loss: 0.8885 - accuracy: 0.7534 - val_loss: 0.8123 - val_accuracy: 0.7608\n",
      "Epoch 73/200\n",
      "70/70 [==============================] - 0s 3ms/step - loss: 0.8873 - accuracy: 0.7520 - val_loss: 0.8117 - val_accuracy: 0.7613\n",
      "Epoch 74/200\n",
      "70/70 [==============================] - 0s 3ms/step - loss: 0.8862 - accuracy: 0.7565 - val_loss: 0.8065 - val_accuracy: 0.7597\n",
      "Epoch 75/200\n",
      "70/70 [==============================] - 0s 3ms/step - loss: 0.8855 - accuracy: 0.7498 - val_loss: 0.7786 - val_accuracy: 0.7487\n",
      "Epoch 76/200\n",
      "70/70 [==============================] - 0s 2ms/step - loss: 0.8631 - accuracy: 0.7453 - val_loss: 0.7857 - val_accuracy: 0.7503\n",
      "Epoch 77/200\n",
      "70/70 [==============================] - 0s 3ms/step - loss: 0.8619 - accuracy: 0.7507 - val_loss: 0.7701 - val_accuracy: 0.7534\n",
      "Epoch 78/200\n",
      "70/70 [==============================] - 0s 3ms/step - loss: 0.8487 - accuracy: 0.7507 - val_loss: 0.7659 - val_accuracy: 0.7555\n",
      "Epoch 79/200\n",
      "70/70 [==============================] - 0s 2ms/step - loss: 0.8458 - accuracy: 0.7534 - val_loss: 0.7661 - val_accuracy: 0.7560\n",
      "Epoch 80/200\n",
      "70/70 [==============================] - 0s 3ms/step - loss: 0.8492 - accuracy: 0.7502 - val_loss: 0.7680 - val_accuracy: 0.7571\n",
      "Epoch 81/200\n",
      "70/70 [==============================] - 0s 2ms/step - loss: 0.8481 - accuracy: 0.7538 - val_loss: 0.7663 - val_accuracy: 0.7587\n",
      "Epoch 82/200\n",
      "70/70 [==============================] - 0s 3ms/step - loss: 0.8467 - accuracy: 0.7547 - val_loss: 0.7600 - val_accuracy: 0.7587\n",
      "Epoch 83/200\n",
      "70/70 [==============================] - 0s 3ms/step - loss: 0.8453 - accuracy: 0.7570 - val_loss: 0.7639 - val_accuracy: 0.7571\n",
      "Epoch 84/200\n",
      "70/70 [==============================] - 0s 3ms/step - loss: 0.8443 - accuracy: 0.7570 - val_loss: 0.7585 - val_accuracy: 0.7592\n",
      "Epoch 85/200\n",
      "70/70 [==============================] - 0s 3ms/step - loss: 0.8433 - accuracy: 0.7574 - val_loss: 0.7624 - val_accuracy: 0.7597\n",
      "Epoch 86/200\n",
      "70/70 [==============================] - 0s 3ms/step - loss: 0.8424 - accuracy: 0.7565 - val_loss: 0.7613 - val_accuracy: 0.7603\n",
      "Epoch 87/200\n",
      "70/70 [==============================] - 0s 3ms/step - loss: 0.8417 - accuracy: 0.7601 - val_loss: 0.7612 - val_accuracy: 0.7613\n",
      "Epoch 88/200\n",
      "70/70 [==============================] - 0s 3ms/step - loss: 0.8410 - accuracy: 0.7597 - val_loss: 0.7601 - val_accuracy: 0.7629\n",
      "Epoch 89/200\n",
      "70/70 [==============================] - 0s 3ms/step - loss: 0.8398 - accuracy: 0.7592 - val_loss: 0.7596 - val_accuracy: 0.7603\n",
      "Epoch 90/200\n",
      "70/70 [==============================] - 0s 2ms/step - loss: 0.8389 - accuracy: 0.7610 - val_loss: 0.7591 - val_accuracy: 0.7629\n",
      "Epoch 91/200\n",
      "70/70 [==============================] - 0s 3ms/step - loss: 0.8382 - accuracy: 0.7615 - val_loss: 0.7580 - val_accuracy: 0.7613\n",
      "Epoch 92/200\n",
      "70/70 [==============================] - 0s 3ms/step - loss: 0.8373 - accuracy: 0.7610 - val_loss: 0.7578 - val_accuracy: 0.7624\n",
      "Epoch 93/200\n",
      "70/70 [==============================] - 0s 3ms/step - loss: 0.8372 - accuracy: 0.7615 - val_loss: 0.7564 - val_accuracy: 0.7655\n",
      "Epoch 94/200\n",
      "70/70 [==============================] - 0s 2ms/step - loss: 0.8347 - accuracy: 0.7624 - val_loss: 0.7349 - val_accuracy: 0.7550\n",
      "Epoch 95/200\n",
      "70/70 [==============================] - 0s 3ms/step - loss: 0.8256 - accuracy: 0.7556 - val_loss: 0.7340 - val_accuracy: 0.7624\n",
      "Epoch 96/200\n",
      "70/70 [==============================] - 0s 2ms/step - loss: 0.8210 - accuracy: 0.7583 - val_loss: 0.7326 - val_accuracy: 0.7613\n",
      "Epoch 97/200\n",
      "70/70 [==============================] - 0s 3ms/step - loss: 0.8220 - accuracy: 0.7552 - val_loss: 0.7278 - val_accuracy: 0.7529\n",
      "Epoch 98/200\n",
      "70/70 [==============================] - 0s 3ms/step - loss: 0.8194 - accuracy: 0.7462 - val_loss: 0.7049 - val_accuracy: 0.7555\n",
      "Epoch 99/200\n",
      "70/70 [==============================] - 0s 3ms/step - loss: 0.8125 - accuracy: 0.7475 - val_loss: 0.7034 - val_accuracy: 0.7571\n",
      "Epoch 100/200\n",
      "70/70 [==============================] - 0s 3ms/step - loss: 0.8092 - accuracy: 0.7507 - val_loss: 0.7122 - val_accuracy: 0.7597\n",
      "Epoch 101/200\n",
      "70/70 [==============================] - 0s 2ms/step - loss: 0.8068 - accuracy: 0.7529 - val_loss: 0.7099 - val_accuracy: 0.7608\n",
      "Epoch 102/200\n",
      "70/70 [==============================] - 0s 2ms/step - loss: 0.8048 - accuracy: 0.7538 - val_loss: 0.7097 - val_accuracy: 0.7613\n",
      "Epoch 103/200\n",
      "70/70 [==============================] - 0s 3ms/step - loss: 0.8035 - accuracy: 0.7556 - val_loss: 0.7082 - val_accuracy: 0.7592\n",
      "Epoch 104/200\n",
      "70/70 [==============================] - 0s 2ms/step - loss: 0.8021 - accuracy: 0.7565 - val_loss: 0.7091 - val_accuracy: 0.7624\n",
      "Epoch 105/200\n",
      "70/70 [==============================] - 0s 3ms/step - loss: 0.8009 - accuracy: 0.7588 - val_loss: 0.7140 - val_accuracy: 0.7639\n",
      "Epoch 106/200\n",
      "70/70 [==============================] - 0s 2ms/step - loss: 0.8001 - accuracy: 0.7579 - val_loss: 0.7103 - val_accuracy: 0.7639\n",
      "Epoch 107/200\n",
      "70/70 [==============================] - 0s 3ms/step - loss: 0.7995 - accuracy: 0.7592 - val_loss: 0.7060 - val_accuracy: 0.7671\n",
      "Epoch 108/200\n",
      "70/70 [==============================] - 0s 3ms/step - loss: 0.7979 - accuracy: 0.7583 - val_loss: 0.6996 - val_accuracy: 0.7660\n",
      "Epoch 109/200\n",
      "70/70 [==============================] - 0s 3ms/step - loss: 0.7970 - accuracy: 0.7583 - val_loss: 0.7086 - val_accuracy: 0.7708\n",
      "Epoch 110/200\n",
      "70/70 [==============================] - 0s 3ms/step - loss: 0.7960 - accuracy: 0.7601 - val_loss: 0.7088 - val_accuracy: 0.7697\n",
      "Epoch 111/200\n",
      "70/70 [==============================] - 0s 3ms/step - loss: 0.7962 - accuracy: 0.7606 - val_loss: 0.7066 - val_accuracy: 0.7671\n",
      "Epoch 112/200\n",
      "70/70 [==============================] - 0s 2ms/step - loss: 0.7949 - accuracy: 0.7619 - val_loss: 0.7010 - val_accuracy: 0.7739\n",
      "Epoch 113/200\n",
      "70/70 [==============================] - 0s 3ms/step - loss: 0.7940 - accuracy: 0.7628 - val_loss: 0.6998 - val_accuracy: 0.7729\n",
      "Epoch 114/200\n",
      "70/70 [==============================] - 0s 3ms/step - loss: 0.7928 - accuracy: 0.7619 - val_loss: 0.7093 - val_accuracy: 0.7760\n",
      "Epoch 115/200\n",
      "70/70 [==============================] - 0s 2ms/step - loss: 0.7921 - accuracy: 0.7633 - val_loss: 0.7087 - val_accuracy: 0.7766\n",
      "Epoch 116/200\n",
      "70/70 [==============================] - 0s 3ms/step - loss: 0.7914 - accuracy: 0.7638 - val_loss: 0.7078 - val_accuracy: 0.7755\n",
      "Epoch 117/200\n",
      "70/70 [==============================] - 0s 2ms/step - loss: 0.7903 - accuracy: 0.7647 - val_loss: 0.7070 - val_accuracy: 0.7755\n",
      "Epoch 118/200\n",
      "70/70 [==============================] - 0s 3ms/step - loss: 0.7899 - accuracy: 0.7656 - val_loss: 0.7063 - val_accuracy: 0.7776\n",
      "70/70 [==============================] - 0s 1ms/step - loss: 0.8190 - accuracy: 0.7628\n",
      "[CV] ......................... n_neurons=10, n_hidden=1, total=  41.7s\n",
      "[CV] n_neurons=10, n_hidden=1 ........................................\n",
      "Epoch 1/200\n",
      "70/70 [==============================] - 1s 5ms/step - loss: 7.9136 - accuracy: 0.3427 - val_loss: 6.7951 - val_accuracy: 0.3833\n",
      "Epoch 2/200\n",
      "70/70 [==============================] - 0s 3ms/step - loss: 6.4965 - accuracy: 0.4098 - val_loss: 5.5553 - val_accuracy: 0.4669\n",
      "Epoch 3/200\n",
      "70/70 [==============================] - 0s 3ms/step - loss: 5.2933 - accuracy: 0.4928 - val_loss: 4.8604 - val_accuracy: 0.5289\n",
      "Epoch 4/200\n",
      "70/70 [==============================] - 0s 3ms/step - loss: 4.9302 - accuracy: 0.5189 - val_loss: 4.6814 - val_accuracy: 0.5505\n",
      "Epoch 5/200\n",
      "70/70 [==============================] - 0s 3ms/step - loss: 4.7230 - accuracy: 0.5401 - val_loss: 4.4879 - val_accuracy: 0.5626\n",
      "Epoch 6/200\n",
      "70/70 [==============================] - 0s 3ms/step - loss: 4.4702 - accuracy: 0.5595 - val_loss: 4.0298 - val_accuracy: 0.5936\n",
      "Epoch 7/200\n",
      "70/70 [==============================] - 0s 3ms/step - loss: 3.9670 - accuracy: 0.5780 - val_loss: 3.7341 - val_accuracy: 0.6078\n",
      "Epoch 8/200\n",
      "70/70 [==============================] - 0s 3ms/step - loss: 3.5304 - accuracy: 0.5969 - val_loss: 3.4015 - val_accuracy: 0.6162\n",
      "Epoch 9/200\n",
      "70/70 [==============================] - 0s 3ms/step - loss: 3.3791 - accuracy: 0.6023 - val_loss: 3.3422 - val_accuracy: 0.6172\n",
      "Epoch 10/200\n",
      "70/70 [==============================] - 0s 3ms/step - loss: 3.3003 - accuracy: 0.6028 - val_loss: 3.1934 - val_accuracy: 0.6141\n",
      "Epoch 11/200\n",
      "70/70 [==============================] - 0s 3ms/step - loss: 3.2023 - accuracy: 0.5929 - val_loss: 3.0764 - val_accuracy: 0.6162\n",
      "Epoch 12/200\n",
      "70/70 [==============================] - 0s 3ms/step - loss: 3.0501 - accuracy: 0.6019 - val_loss: 2.8770 - val_accuracy: 0.6236\n",
      "Epoch 13/200\n",
      "70/70 [==============================] - 0s 2ms/step - loss: 2.8469 - accuracy: 0.6069 - val_loss: 2.7064 - val_accuracy: 0.6288\n",
      "Epoch 14/200\n",
      "70/70 [==============================] - 0s 3ms/step - loss: 2.6470 - accuracy: 0.6339 - val_loss: 2.4352 - val_accuracy: 0.6514\n",
      "Epoch 15/200\n",
      "70/70 [==============================] - 0s 3ms/step - loss: 2.3626 - accuracy: 0.6524 - val_loss: 2.2917 - val_accuracy: 0.6635\n",
      "Epoch 16/200\n",
      "70/70 [==============================] - 0s 3ms/step - loss: 2.2117 - accuracy: 0.6677 - val_loss: 2.1147 - val_accuracy: 0.6756\n",
      "Epoch 17/200\n",
      "70/70 [==============================] - 0s 3ms/step - loss: 2.0678 - accuracy: 0.6776 - val_loss: 2.0389 - val_accuracy: 0.6824\n",
      "Epoch 18/200\n",
      "70/70 [==============================] - 0s 3ms/step - loss: 1.9931 - accuracy: 0.6876 - val_loss: 1.8977 - val_accuracy: 0.6893\n",
      "Epoch 19/200\n",
      "70/70 [==============================] - 0s 3ms/step - loss: 1.8894 - accuracy: 0.7002 - val_loss: 1.8022 - val_accuracy: 0.6940\n",
      "Epoch 20/200\n",
      "70/70 [==============================] - 0s 3ms/step - loss: 1.8331 - accuracy: 0.7092 - val_loss: 1.7701 - val_accuracy: 0.7050\n",
      "Epoch 21/200\n",
      "70/70 [==============================] - 0s 3ms/step - loss: 1.7762 - accuracy: 0.7160 - val_loss: 1.7142 - val_accuracy: 0.6993\n",
      "Epoch 22/200\n",
      "70/70 [==============================] - 0s 3ms/step - loss: 1.7494 - accuracy: 0.7191 - val_loss: 1.6854 - val_accuracy: 0.7050\n",
      "Epoch 23/200\n",
      "70/70 [==============================] - 0s 3ms/step - loss: 1.7319 - accuracy: 0.7250 - val_loss: 1.6712 - val_accuracy: 0.7098\n",
      "Epoch 24/200\n",
      "70/70 [==============================] - 0s 3ms/step - loss: 1.6909 - accuracy: 0.7259 - val_loss: 1.6153 - val_accuracy: 0.7114\n",
      "Epoch 25/200\n",
      "70/70 [==============================] - 0s 3ms/step - loss: 1.6609 - accuracy: 0.7308 - val_loss: 1.5958 - val_accuracy: 0.7135\n",
      "Epoch 26/200\n",
      "70/70 [==============================] - 0s 3ms/step - loss: 1.6240 - accuracy: 0.7322 - val_loss: 1.5447 - val_accuracy: 0.7161\n",
      "Epoch 27/200\n",
      "70/70 [==============================] - 0s 3ms/step - loss: 1.5757 - accuracy: 0.7340 - val_loss: 1.4963 - val_accuracy: 0.7171\n",
      "Epoch 28/200\n",
      "70/70 [==============================] - 0s 3ms/step - loss: 1.4733 - accuracy: 0.7254 - val_loss: 1.4274 - val_accuracy: 0.7213\n",
      "Epoch 29/200\n",
      "70/70 [==============================] - 0s 3ms/step - loss: 1.3788 - accuracy: 0.7340 - val_loss: 1.3608 - val_accuracy: 0.7229\n",
      "Epoch 30/200\n",
      "70/70 [==============================] - 0s 3ms/step - loss: 1.3653 - accuracy: 0.7313 - val_loss: 1.3171 - val_accuracy: 0.7240\n",
      "Epoch 31/200\n",
      "70/70 [==============================] - 0s 3ms/step - loss: 1.3410 - accuracy: 0.7399 - val_loss: 1.2944 - val_accuracy: 0.7287\n",
      "Epoch 32/200\n",
      "70/70 [==============================] - 0s 3ms/step - loss: 1.2870 - accuracy: 0.7435 - val_loss: 1.2453 - val_accuracy: 0.7287\n",
      "Epoch 33/200\n",
      "70/70 [==============================] - 0s 3ms/step - loss: 1.2759 - accuracy: 0.7362 - val_loss: 1.2318 - val_accuracy: 0.7287\n",
      "Epoch 34/200\n",
      "70/70 [==============================] - 0s 3ms/step - loss: 1.2385 - accuracy: 0.7408 - val_loss: 1.2129 - val_accuracy: 0.7329\n",
      "Epoch 35/200\n",
      "70/70 [==============================] - 0s 3ms/step - loss: 1.2228 - accuracy: 0.7408 - val_loss: 1.2072 - val_accuracy: 0.7361\n",
      "Epoch 36/200\n",
      "70/70 [==============================] - 0s 3ms/step - loss: 1.1789 - accuracy: 0.7444 - val_loss: 1.2104 - val_accuracy: 0.7355\n",
      "Epoch 37/200\n",
      "70/70 [==============================] - 0s 3ms/step - loss: 1.1370 - accuracy: 0.7412 - val_loss: 1.1879 - val_accuracy: 0.7376\n",
      "Epoch 38/200\n",
      "70/70 [==============================] - 0s 3ms/step - loss: 1.1285 - accuracy: 0.7412 - val_loss: 1.1937 - val_accuracy: 0.7392\n",
      "Epoch 39/200\n",
      "70/70 [==============================] - 0s 3ms/step - loss: 1.1228 - accuracy: 0.7439 - val_loss: 1.1495 - val_accuracy: 0.7271\n",
      "Epoch 40/200\n",
      "70/70 [==============================] - 0s 3ms/step - loss: 1.1100 - accuracy: 0.7259 - val_loss: 1.0939 - val_accuracy: 0.7340\n",
      "Epoch 41/200\n",
      "70/70 [==============================] - 0s 3ms/step - loss: 1.1105 - accuracy: 0.7349 - val_loss: 1.0841 - val_accuracy: 0.7366\n",
      "Epoch 42/200\n",
      "70/70 [==============================] - 0s 3ms/step - loss: 1.1070 - accuracy: 0.7376 - val_loss: 1.0760 - val_accuracy: 0.7361\n",
      "Epoch 43/200\n",
      "70/70 [==============================] - 0s 3ms/step - loss: 1.1023 - accuracy: 0.7390 - val_loss: 1.0401 - val_accuracy: 0.7382\n",
      "Epoch 44/200\n",
      "70/70 [==============================] - 0s 3ms/step - loss: 1.1410 - accuracy: 0.7376 - val_loss: 1.1050 - val_accuracy: 0.7329\n",
      "Epoch 45/200\n",
      "70/70 [==============================] - 0s 3ms/step - loss: 1.1824 - accuracy: 0.7511 - val_loss: 1.1014 - val_accuracy: 0.7350\n",
      "Epoch 46/200\n",
      "70/70 [==============================] - 0s 3ms/step - loss: 1.1783 - accuracy: 0.7520 - val_loss: 1.0958 - val_accuracy: 0.7355\n",
      "Epoch 47/200\n",
      "70/70 [==============================] - 0s 3ms/step - loss: 1.1604 - accuracy: 0.7502 - val_loss: 1.0442 - val_accuracy: 0.7340\n",
      "Epoch 48/200\n",
      "70/70 [==============================] - 0s 3ms/step - loss: 1.0849 - accuracy: 0.7507 - val_loss: 0.9965 - val_accuracy: 0.7397\n",
      "Epoch 49/200\n",
      "70/70 [==============================] - 0s 3ms/step - loss: 1.0542 - accuracy: 0.7525 - val_loss: 0.9817 - val_accuracy: 0.7413\n",
      "Epoch 50/200\n",
      "70/70 [==============================] - 0s 3ms/step - loss: 1.0446 - accuracy: 0.7529 - val_loss: 0.9849 - val_accuracy: 0.7424\n",
      "Epoch 51/200\n",
      "70/70 [==============================] - 0s 3ms/step - loss: 1.0429 - accuracy: 0.7534 - val_loss: 0.9836 - val_accuracy: 0.7429\n",
      "Epoch 52/200\n",
      "70/70 [==============================] - 0s 3ms/step - loss: 1.0414 - accuracy: 0.7534 - val_loss: 0.9873 - val_accuracy: 0.7434\n",
      "Epoch 53/200\n",
      "70/70 [==============================] - 0s 3ms/step - loss: 1.0401 - accuracy: 0.7529 - val_loss: 0.9803 - val_accuracy: 0.7440\n",
      "Epoch 54/200\n",
      "70/70 [==============================] - 0s 3ms/step - loss: 1.0389 - accuracy: 0.7534 - val_loss: 0.9788 - val_accuracy: 0.7445\n",
      "Epoch 55/200\n",
      "70/70 [==============================] - 0s 3ms/step - loss: 1.0377 - accuracy: 0.7534 - val_loss: 0.9686 - val_accuracy: 0.7455\n",
      "Epoch 56/200\n",
      "70/70 [==============================] - 0s 3ms/step - loss: 1.0367 - accuracy: 0.7552 - val_loss: 0.9658 - val_accuracy: 0.7461\n",
      "Epoch 57/200\n",
      "70/70 [==============================] - 0s 3ms/step - loss: 1.0357 - accuracy: 0.7556 - val_loss: 0.9641 - val_accuracy: 0.7476\n",
      "Epoch 58/200\n",
      "70/70 [==============================] - 0s 2ms/step - loss: 1.0348 - accuracy: 0.7561 - val_loss: 0.9579 - val_accuracy: 0.7487\n",
      "Epoch 59/200\n",
      "70/70 [==============================] - 0s 3ms/step - loss: 1.0339 - accuracy: 0.7565 - val_loss: 0.9563 - val_accuracy: 0.7492\n",
      "Epoch 60/200\n",
      "70/70 [==============================] - 0s 3ms/step - loss: 1.0330 - accuracy: 0.7574 - val_loss: 0.9551 - val_accuracy: 0.7492\n",
      "Epoch 61/200\n",
      "70/70 [==============================] - 0s 3ms/step - loss: 1.0279 - accuracy: 0.7588 - val_loss: 0.9477 - val_accuracy: 0.7487\n",
      "Epoch 62/200\n",
      "70/70 [==============================] - 0s 3ms/step - loss: 1.0158 - accuracy: 0.7574 - val_loss: 0.9391 - val_accuracy: 0.7492\n",
      "Epoch 63/200\n",
      "70/70 [==============================] - 0s 3ms/step - loss: 1.0043 - accuracy: 0.7592 - val_loss: 0.9323 - val_accuracy: 0.7497\n",
      "Epoch 64/200\n",
      "70/70 [==============================] - 0s 3ms/step - loss: 1.0026 - accuracy: 0.7597 - val_loss: 0.9264 - val_accuracy: 0.7513\n",
      "Epoch 65/200\n",
      "70/70 [==============================] - 0s 3ms/step - loss: 0.9818 - accuracy: 0.7592 - val_loss: 0.9074 - val_accuracy: 0.7518\n",
      "Epoch 66/200\n",
      "70/70 [==============================] - 0s 3ms/step - loss: 0.9581 - accuracy: 0.7592 - val_loss: 0.9051 - val_accuracy: 0.7534\n",
      "Epoch 67/200\n",
      "70/70 [==============================] - 0s 4ms/step - loss: 0.9386 - accuracy: 0.7574 - val_loss: 0.8612 - val_accuracy: 0.7466\n",
      "Epoch 68/200\n",
      "70/70 [==============================] - 0s 3ms/step - loss: 0.9289 - accuracy: 0.7561 - val_loss: 0.8421 - val_accuracy: 0.7455\n",
      "Epoch 69/200\n",
      "70/70 [==============================] - 0s 3ms/step - loss: 0.9216 - accuracy: 0.7570 - val_loss: 0.8401 - val_accuracy: 0.7455\n",
      "Epoch 70/200\n",
      "70/70 [==============================] - 0s 3ms/step - loss: 0.9106 - accuracy: 0.7570 - val_loss: 0.8355 - val_accuracy: 0.7450\n",
      "Epoch 71/200\n",
      "70/70 [==============================] - 0s 3ms/step - loss: 0.8948 - accuracy: 0.7529 - val_loss: 0.8016 - val_accuracy: 0.7487\n",
      "Epoch 72/200\n",
      "70/70 [==============================] - 0s 3ms/step - loss: 0.8752 - accuracy: 0.7480 - val_loss: 0.7828 - val_accuracy: 0.7450\n",
      "Epoch 73/200\n",
      "70/70 [==============================] - 0s 3ms/step - loss: 0.8653 - accuracy: 0.7484 - val_loss: 0.7892 - val_accuracy: 0.7487\n",
      "Epoch 74/200\n",
      "70/70 [==============================] - 0s 3ms/step - loss: 0.8580 - accuracy: 0.7520 - val_loss: 0.7861 - val_accuracy: 0.7503\n",
      "Epoch 75/200\n",
      "70/70 [==============================] - 0s 3ms/step - loss: 0.8545 - accuracy: 0.7525 - val_loss: 0.7828 - val_accuracy: 0.7513\n",
      "Epoch 76/200\n",
      "70/70 [==============================] - 0s 3ms/step - loss: 0.8510 - accuracy: 0.7565 - val_loss: 0.7813 - val_accuracy: 0.7503\n",
      "Epoch 77/200\n",
      "70/70 [==============================] - 0s 3ms/step - loss: 0.8491 - accuracy: 0.7570 - val_loss: 0.7800 - val_accuracy: 0.7508\n",
      "Epoch 78/200\n",
      "70/70 [==============================] - 0s 3ms/step - loss: 0.8473 - accuracy: 0.7597 - val_loss: 0.7791 - val_accuracy: 0.7524\n",
      "Epoch 79/200\n",
      "70/70 [==============================] - 0s 3ms/step - loss: 0.8457 - accuracy: 0.7592 - val_loss: 0.7783 - val_accuracy: 0.7539\n",
      "Epoch 80/200\n",
      "70/70 [==============================] - 0s 3ms/step - loss: 0.8441 - accuracy: 0.7592 - val_loss: 0.7780 - val_accuracy: 0.7550\n",
      "Epoch 81/200\n",
      "70/70 [==============================] - 0s 3ms/step - loss: 0.8387 - accuracy: 0.7601 - val_loss: 0.7821 - val_accuracy: 0.7534\n",
      "Epoch 82/200\n",
      "70/70 [==============================] - 0s 3ms/step - loss: 0.8263 - accuracy: 0.7597 - val_loss: 0.7718 - val_accuracy: 0.7550\n",
      "Epoch 83/200\n",
      "70/70 [==============================] - 0s 3ms/step - loss: 0.8202 - accuracy: 0.7583 - val_loss: 0.7684 - val_accuracy: 0.7513\n",
      "Epoch 84/200\n",
      "70/70 [==============================] - 0s 3ms/step - loss: 0.8156 - accuracy: 0.7556 - val_loss: 0.7682 - val_accuracy: 0.7560\n",
      "Epoch 85/200\n",
      "70/70 [==============================] - 0s 3ms/step - loss: 0.8112 - accuracy: 0.7565 - val_loss: 0.7668 - val_accuracy: 0.7571\n",
      "Epoch 86/200\n",
      "70/70 [==============================] - 0s 3ms/step - loss: 0.8095 - accuracy: 0.7574 - val_loss: 0.7664 - val_accuracy: 0.7576\n",
      "Epoch 87/200\n",
      "70/70 [==============================] - 0s 3ms/step - loss: 0.8076 - accuracy: 0.7583 - val_loss: 0.7653 - val_accuracy: 0.7592\n",
      "Epoch 88/200\n",
      "70/70 [==============================] - 0s 3ms/step - loss: 0.8062 - accuracy: 0.7601 - val_loss: 0.7689 - val_accuracy: 0.7608\n",
      "Epoch 89/200\n",
      "70/70 [==============================] - 0s 3ms/step - loss: 0.8048 - accuracy: 0.7615 - val_loss: 0.7635 - val_accuracy: 0.7624\n",
      "Epoch 90/200\n",
      "70/70 [==============================] - 0s 3ms/step - loss: 0.8036 - accuracy: 0.7642 - val_loss: 0.7622 - val_accuracy: 0.7634\n",
      "Epoch 91/200\n",
      "70/70 [==============================] - 0s 3ms/step - loss: 0.8025 - accuracy: 0.7624 - val_loss: 0.7663 - val_accuracy: 0.7639\n",
      "Epoch 92/200\n",
      "70/70 [==============================] - 0s 3ms/step - loss: 0.8015 - accuracy: 0.7638 - val_loss: 0.7653 - val_accuracy: 0.7639\n",
      "Epoch 93/200\n",
      "70/70 [==============================] - 0s 3ms/step - loss: 0.8003 - accuracy: 0.7660 - val_loss: 0.7648 - val_accuracy: 0.7645\n",
      "Epoch 94/200\n",
      "70/70 [==============================] - 0s 3ms/step - loss: 0.7995 - accuracy: 0.7665 - val_loss: 0.7646 - val_accuracy: 0.7671\n",
      "Epoch 95/200\n",
      "70/70 [==============================] - 0s 3ms/step - loss: 0.7985 - accuracy: 0.7678 - val_loss: 0.7678 - val_accuracy: 0.7681\n",
      "Epoch 96/200\n",
      "70/70 [==============================] - 0s 3ms/step - loss: 0.7975 - accuracy: 0.7705 - val_loss: 0.7637 - val_accuracy: 0.7692\n",
      "Epoch 97/200\n",
      "70/70 [==============================] - 0s 3ms/step - loss: 0.7966 - accuracy: 0.7719 - val_loss: 0.7615 - val_accuracy: 0.7687\n",
      "Epoch 98/200\n",
      "70/70 [==============================] - 0s 3ms/step - loss: 0.7957 - accuracy: 0.7705 - val_loss: 0.7607 - val_accuracy: 0.7697\n",
      "Epoch 99/200\n",
      "70/70 [==============================] - 0s 2ms/step - loss: 0.7949 - accuracy: 0.7728 - val_loss: 0.7598 - val_accuracy: 0.7702\n",
      "Epoch 100/200\n",
      "70/70 [==============================] - 0s 3ms/step - loss: 0.7938 - accuracy: 0.7728 - val_loss: 0.7590 - val_accuracy: 0.7692\n",
      "Epoch 101/200\n",
      "70/70 [==============================] - 0s 3ms/step - loss: 0.7931 - accuracy: 0.7728 - val_loss: 0.7629 - val_accuracy: 0.7708\n",
      "Epoch 102/200\n",
      "70/70 [==============================] - 0s 3ms/step - loss: 0.7921 - accuracy: 0.7764 - val_loss: 0.7626 - val_accuracy: 0.7734\n",
      "Epoch 103/200\n",
      "70/70 [==============================] - 0s 3ms/step - loss: 0.7912 - accuracy: 0.7764 - val_loss: 0.7625 - val_accuracy: 0.7739\n",
      "Epoch 104/200\n",
      "70/70 [==============================] - 0s 3ms/step - loss: 0.7904 - accuracy: 0.7768 - val_loss: 0.7613 - val_accuracy: 0.7755\n",
      "Epoch 105/200\n",
      "70/70 [==============================] - 0s 3ms/step - loss: 0.7897 - accuracy: 0.7809 - val_loss: 0.7664 - val_accuracy: 0.7755\n",
      "Epoch 106/200\n",
      "70/70 [==============================] - 0s 3ms/step - loss: 0.7887 - accuracy: 0.7782 - val_loss: 0.7658 - val_accuracy: 0.7744\n",
      "Epoch 107/200\n",
      "70/70 [==============================] - 0s 3ms/step - loss: 0.7882 - accuracy: 0.7800 - val_loss: 0.7652 - val_accuracy: 0.7744\n",
      "Epoch 108/200\n",
      "70/70 [==============================] - 0s 3ms/step - loss: 0.7874 - accuracy: 0.7773 - val_loss: 0.7645 - val_accuracy: 0.7750\n",
      "Epoch 109/200\n",
      "70/70 [==============================] - 0s 3ms/step - loss: 0.7703 - accuracy: 0.7786 - val_loss: 0.7449 - val_accuracy: 0.7708\n",
      "Epoch 110/200\n",
      "70/70 [==============================] - 0s 3ms/step - loss: 0.7498 - accuracy: 0.7728 - val_loss: 0.7253 - val_accuracy: 0.7718\n",
      "Epoch 111/200\n",
      "70/70 [==============================] - 0s 3ms/step - loss: 0.7424 - accuracy: 0.7732 - val_loss: 0.7236 - val_accuracy: 0.7713\n",
      "Epoch 112/200\n",
      "70/70 [==============================] - 0s 3ms/step - loss: 0.7403 - accuracy: 0.7755 - val_loss: 0.7274 - val_accuracy: 0.7729\n",
      "Epoch 113/200\n",
      "70/70 [==============================] - 0s 3ms/step - loss: 0.7391 - accuracy: 0.7773 - val_loss: 0.7260 - val_accuracy: 0.7755\n",
      "Epoch 114/200\n",
      "70/70 [==============================] - 0s 3ms/step - loss: 0.7440 - accuracy: 0.7755 - val_loss: 0.8225 - val_accuracy: 0.7713\n",
      "Epoch 115/200\n",
      "70/70 [==============================] - 0s 3ms/step - loss: 0.7776 - accuracy: 0.7728 - val_loss: 0.7391 - val_accuracy: 0.7739\n",
      "Epoch 116/200\n",
      "70/70 [==============================] - 0s 3ms/step - loss: 0.7533 - accuracy: 0.7750 - val_loss: 0.7276 - val_accuracy: 0.7760\n",
      "Epoch 117/200\n",
      "70/70 [==============================] - 0s 3ms/step - loss: 0.7404 - accuracy: 0.7746 - val_loss: 0.7023 - val_accuracy: 0.7750\n",
      "Epoch 118/200\n",
      "70/70 [==============================] - 0s 3ms/step - loss: 0.7327 - accuracy: 0.7764 - val_loss: 0.7064 - val_accuracy: 0.7750\n",
      "Epoch 119/200\n",
      "70/70 [==============================] - 0s 3ms/step - loss: 0.7302 - accuracy: 0.7773 - val_loss: 0.7055 - val_accuracy: 0.7776\n",
      "Epoch 120/200\n",
      "70/70 [==============================] - 0s 3ms/step - loss: 0.7287 - accuracy: 0.7777 - val_loss: 0.7049 - val_accuracy: 0.7776\n",
      "Epoch 121/200\n",
      "70/70 [==============================] - 0s 3ms/step - loss: 0.7277 - accuracy: 0.7782 - val_loss: 0.7045 - val_accuracy: 0.7781\n",
      "Epoch 122/200\n",
      "70/70 [==============================] - 0s 3ms/step - loss: 0.7268 - accuracy: 0.7831 - val_loss: 0.7038 - val_accuracy: 0.7823\n",
      "Epoch 123/200\n",
      "70/70 [==============================] - 0s 3ms/step - loss: 0.7259 - accuracy: 0.7822 - val_loss: 0.7036 - val_accuracy: 0.7808\n",
      "Epoch 124/200\n",
      "70/70 [==============================] - 0s 3ms/step - loss: 0.7250 - accuracy: 0.7831 - val_loss: 0.7029 - val_accuracy: 0.7802\n",
      "Epoch 125/200\n",
      "70/70 [==============================] - 0s 3ms/step - loss: 0.7155 - accuracy: 0.7858 - val_loss: 0.7028 - val_accuracy: 0.7802\n",
      "Epoch 126/200\n",
      "70/70 [==============================] - 0s 3ms/step - loss: 0.6848 - accuracy: 0.7836 - val_loss: 0.6679 - val_accuracy: 0.7766\n",
      "Epoch 127/200\n",
      "70/70 [==============================] - 0s 3ms/step - loss: 0.6789 - accuracy: 0.7840 - val_loss: 0.6605 - val_accuracy: 0.7760\n",
      "Epoch 128/200\n",
      "70/70 [==============================] - 0s 3ms/step - loss: 0.6752 - accuracy: 0.7840 - val_loss: 0.6599 - val_accuracy: 0.7771\n",
      "Epoch 129/200\n",
      "70/70 [==============================] - 0s 3ms/step - loss: 0.6737 - accuracy: 0.7872 - val_loss: 0.6656 - val_accuracy: 0.7792\n",
      "Epoch 130/200\n",
      "70/70 [==============================] - 0s 3ms/step - loss: 0.6747 - accuracy: 0.7872 - val_loss: 0.6561 - val_accuracy: 0.7781\n",
      "Epoch 131/200\n",
      "70/70 [==============================] - 0s 3ms/step - loss: 0.6655 - accuracy: 0.7845 - val_loss: 0.6530 - val_accuracy: 0.7771\n",
      "Epoch 132/200\n",
      "70/70 [==============================] - 0s 3ms/step - loss: 0.6572 - accuracy: 0.7872 - val_loss: 0.6637 - val_accuracy: 0.7818\n",
      "Epoch 133/200\n",
      "70/70 [==============================] - 0s 3ms/step - loss: 0.6487 - accuracy: 0.7894 - val_loss: 0.6737 - val_accuracy: 0.7839\n",
      "Epoch 134/200\n",
      "70/70 [==============================] - 0s 3ms/step - loss: 0.6471 - accuracy: 0.7899 - val_loss: 0.6730 - val_accuracy: 0.7850\n",
      "Epoch 135/200\n",
      "70/70 [==============================] - 0s 3ms/step - loss: 0.6462 - accuracy: 0.7926 - val_loss: 0.6725 - val_accuracy: 0.7829\n",
      "Epoch 136/200\n",
      "70/70 [==============================] - 0s 3ms/step - loss: 0.6453 - accuracy: 0.7926 - val_loss: 0.6720 - val_accuracy: 0.7818\n",
      "Epoch 137/200\n",
      "70/70 [==============================] - 0s 3ms/step - loss: 0.6446 - accuracy: 0.7944 - val_loss: 0.6718 - val_accuracy: 0.7818\n",
      "Epoch 138/200\n",
      "70/70 [==============================] - 0s 3ms/step - loss: 0.6439 - accuracy: 0.7940 - val_loss: 0.6715 - val_accuracy: 0.7813\n",
      "Epoch 139/200\n",
      "70/70 [==============================] - 0s 3ms/step - loss: 0.6432 - accuracy: 0.7971 - val_loss: 0.6709 - val_accuracy: 0.7808\n",
      "Epoch 140/200\n",
      "70/70 [==============================] - 0s 3ms/step - loss: 0.6426 - accuracy: 0.7971 - val_loss: 0.6707 - val_accuracy: 0.7797\n",
      "Epoch 141/200\n",
      "70/70 [==============================] - 0s 3ms/step - loss: 0.6420 - accuracy: 0.7962 - val_loss: 0.6707 - val_accuracy: 0.7797\n",
      "70/70 [==============================] - 0s 2ms/step - loss: 0.7117 - accuracy: 0.7719\n",
      "[CV] ......................... n_neurons=10, n_hidden=1, total=  42.0s\n",
      "Epoch 1/200\n"
     ]
    },
    {
     "name": "stderr",
     "output_type": "stream",
     "text": [
      "[Parallel(n_jobs=1)]: Done   4 out of   4 | elapsed:  1.7min finished\n"
     ]
    },
    {
     "name": "stdout",
     "output_type": "stream",
     "text": [
      "139/139 [==============================] - 1s 3ms/step - loss: 2.8044 - accuracy: 0.4004 - val_loss: 0.8197 - val_accuracy: 0.5962\n",
      "Epoch 2/200\n",
      "139/139 [==============================] - 0s 2ms/step - loss: 0.7663 - accuracy: 0.6914 - val_loss: 0.7497 - val_accuracy: 0.7350\n",
      "Epoch 3/200\n",
      "139/139 [==============================] - 0s 2ms/step - loss: 0.6986 - accuracy: 0.7331 - val_loss: 0.7173 - val_accuracy: 0.7392\n",
      "Epoch 4/200\n",
      "139/139 [==============================] - 0s 2ms/step - loss: 0.6869 - accuracy: 0.7505 - val_loss: 0.7188 - val_accuracy: 0.7692\n",
      "Epoch 5/200\n",
      "139/139 [==============================] - 0s 2ms/step - loss: 0.6844 - accuracy: 0.7665 - val_loss: 0.6183 - val_accuracy: 0.7455\n",
      "Epoch 6/200\n",
      "139/139 [==============================] - 0s 2ms/step - loss: 0.6174 - accuracy: 0.7189 - val_loss: 0.5787 - val_accuracy: 0.7366\n",
      "Epoch 7/200\n",
      "139/139 [==============================] - 0s 2ms/step - loss: 0.5753 - accuracy: 0.7595 - val_loss: 0.5696 - val_accuracy: 0.7687\n",
      "Epoch 8/200\n",
      "139/139 [==============================] - 0s 2ms/step - loss: 0.5697 - accuracy: 0.7674 - val_loss: 0.5309 - val_accuracy: 0.7676\n",
      "Epoch 9/200\n",
      "139/139 [==============================] - 0s 2ms/step - loss: 0.5352 - accuracy: 0.7712 - val_loss: 0.5104 - val_accuracy: 0.7776\n",
      "Epoch 10/200\n",
      "139/139 [==============================] - 0s 2ms/step - loss: 0.5274 - accuracy: 0.7716 - val_loss: 0.5325 - val_accuracy: 0.7860\n",
      "Epoch 11/200\n",
      "139/139 [==============================] - 0s 2ms/step - loss: 0.5182 - accuracy: 0.7759 - val_loss: 0.5328 - val_accuracy: 0.7182\n",
      "Epoch 12/200\n",
      "139/139 [==============================] - 0s 2ms/step - loss: 0.5662 - accuracy: 0.7018 - val_loss: 0.5685 - val_accuracy: 0.6961\n",
      "Epoch 13/200\n",
      "139/139 [==============================] - 0s 2ms/step - loss: 0.5479 - accuracy: 0.7374 - val_loss: 0.5362 - val_accuracy: 0.7177\n",
      "Epoch 14/200\n",
      "139/139 [==============================] - 0s 2ms/step - loss: 0.5272 - accuracy: 0.7518 - val_loss: 0.5398 - val_accuracy: 0.7529\n",
      "Epoch 15/200\n",
      "139/139 [==============================] - 0s 2ms/step - loss: 0.5263 - accuracy: 0.7626 - val_loss: 0.5227 - val_accuracy: 0.7597\n",
      "Epoch 16/200\n",
      "139/139 [==============================] - 0s 2ms/step - loss: 0.5178 - accuracy: 0.7692 - val_loss: 0.5145 - val_accuracy: 0.7681\n",
      "Epoch 17/200\n",
      "139/139 [==============================] - 0s 2ms/step - loss: 0.5108 - accuracy: 0.7714 - val_loss: 0.5049 - val_accuracy: 0.7645\n",
      "Epoch 18/200\n",
      "139/139 [==============================] - 0s 2ms/step - loss: 0.4978 - accuracy: 0.7703 - val_loss: 0.5040 - val_accuracy: 0.7660\n",
      "Epoch 19/200\n",
      "139/139 [==============================] - 0s 2ms/step - loss: 0.5018 - accuracy: 0.7759 - val_loss: 0.5045 - val_accuracy: 0.7660\n",
      "Epoch 20/200\n",
      "139/139 [==============================] - 0s 2ms/step - loss: 0.4944 - accuracy: 0.7752 - val_loss: 0.5004 - val_accuracy: 0.7781\n",
      "Epoch 21/200\n",
      "139/139 [==============================] - 0s 2ms/step - loss: 0.4882 - accuracy: 0.7782 - val_loss: 0.5021 - val_accuracy: 0.7802\n",
      "Epoch 22/200\n",
      "139/139 [==============================] - 0s 2ms/step - loss: 0.4859 - accuracy: 0.7791 - val_loss: 0.4983 - val_accuracy: 0.7744\n",
      "Epoch 23/200\n",
      "139/139 [==============================] - 0s 2ms/step - loss: 0.4885 - accuracy: 0.7789 - val_loss: 0.5001 - val_accuracy: 0.7702\n",
      "Epoch 24/200\n",
      "139/139 [==============================] - 0s 2ms/step - loss: 0.4857 - accuracy: 0.7827 - val_loss: 0.5020 - val_accuracy: 0.7771\n",
      "Epoch 25/200\n",
      "139/139 [==============================] - 0s 2ms/step - loss: 0.4838 - accuracy: 0.7820 - val_loss: 0.4997 - val_accuracy: 0.7823\n",
      "Epoch 26/200\n",
      "139/139 [==============================] - 0s 2ms/step - loss: 0.4820 - accuracy: 0.7829 - val_loss: 0.4971 - val_accuracy: 0.7781\n",
      "Epoch 27/200\n",
      "139/139 [==============================] - 0s 2ms/step - loss: 0.4801 - accuracy: 0.7843 - val_loss: 0.4975 - val_accuracy: 0.7834\n",
      "Epoch 28/200\n",
      "139/139 [==============================] - 0s 2ms/step - loss: 0.4779 - accuracy: 0.7865 - val_loss: 0.5010 - val_accuracy: 0.7860\n",
      "Epoch 29/200\n",
      "139/139 [==============================] - 0s 3ms/step - loss: 0.4737 - accuracy: 0.7883 - val_loss: 0.4987 - val_accuracy: 0.7844\n",
      "Epoch 30/200\n",
      "139/139 [==============================] - 0s 2ms/step - loss: 0.4735 - accuracy: 0.7840 - val_loss: 0.4911 - val_accuracy: 0.7839\n",
      "Epoch 31/200\n",
      "139/139 [==============================] - 0s 2ms/step - loss: 0.4708 - accuracy: 0.7872 - val_loss: 0.5038 - val_accuracy: 0.7892\n",
      "Epoch 32/200\n",
      "139/139 [==============================] - 0s 2ms/step - loss: 0.4697 - accuracy: 0.7870 - val_loss: 0.5047 - val_accuracy: 0.7902\n",
      "Epoch 33/200\n",
      "139/139 [==============================] - 0s 2ms/step - loss: 0.4681 - accuracy: 0.7915 - val_loss: 0.5027 - val_accuracy: 0.7892\n",
      "Epoch 34/200\n",
      "139/139 [==============================] - 0s 2ms/step - loss: 0.4691 - accuracy: 0.7915 - val_loss: 0.4973 - val_accuracy: 0.7907\n",
      "Epoch 35/200\n",
      "139/139 [==============================] - 0s 2ms/step - loss: 0.4663 - accuracy: 0.7942 - val_loss: 0.5021 - val_accuracy: 0.7934\n",
      "Epoch 36/200\n",
      "139/139 [==============================] - 0s 2ms/step - loss: 0.4642 - accuracy: 0.7969 - val_loss: 0.5022 - val_accuracy: 0.7939\n",
      "Epoch 37/200\n",
      "139/139 [==============================] - 0s 2ms/step - loss: 0.4582 - accuracy: 0.7962 - val_loss: 0.5021 - val_accuracy: 0.7923\n",
      "Epoch 38/200\n",
      "139/139 [==============================] - 0s 2ms/step - loss: 0.4525 - accuracy: 0.7931 - val_loss: 0.4827 - val_accuracy: 0.7729\n",
      "Epoch 39/200\n",
      "139/139 [==============================] - 0s 2ms/step - loss: 0.4574 - accuracy: 0.7940 - val_loss: 0.4903 - val_accuracy: 0.7918\n",
      "Epoch 40/200\n",
      "139/139 [==============================] - 0s 3ms/step - loss: 0.4511 - accuracy: 0.7982 - val_loss: 0.4994 - val_accuracy: 0.7971\n",
      "Epoch 41/200\n",
      "139/139 [==============================] - 0s 2ms/step - loss: 0.4486 - accuracy: 0.8005 - val_loss: 0.5043 - val_accuracy: 0.7986\n",
      "Epoch 42/200\n",
      "139/139 [==============================] - 0s 2ms/step - loss: 0.4475 - accuracy: 0.8023 - val_loss: 0.4972 - val_accuracy: 0.7955\n",
      "Epoch 43/200\n",
      "139/139 [==============================] - 0s 2ms/step - loss: 0.4462 - accuracy: 0.8028 - val_loss: 0.4983 - val_accuracy: 0.8007\n",
      "Epoch 44/200\n",
      "139/139 [==============================] - 0s 2ms/step - loss: 0.4417 - accuracy: 0.8034 - val_loss: 0.5017 - val_accuracy: 0.7992\n",
      "Epoch 45/200\n",
      "139/139 [==============================] - 0s 2ms/step - loss: 0.4421 - accuracy: 0.8037 - val_loss: 0.4924 - val_accuracy: 0.7992\n",
      "Epoch 46/200\n",
      "139/139 [==============================] - 0s 2ms/step - loss: 0.4406 - accuracy: 0.8037 - val_loss: 0.4993 - val_accuracy: 0.8044\n",
      "Epoch 47/200\n",
      "139/139 [==============================] - 0s 2ms/step - loss: 0.4499 - accuracy: 0.8012 - val_loss: 0.4800 - val_accuracy: 0.7971\n",
      "Epoch 48/200\n",
      "139/139 [==============================] - 0s 2ms/step - loss: 0.4424 - accuracy: 0.8014 - val_loss: 0.4730 - val_accuracy: 0.7986\n",
      "Epoch 49/200\n",
      "139/139 [==============================] - 0s 2ms/step - loss: 0.4413 - accuracy: 0.8003 - val_loss: 0.4703 - val_accuracy: 0.7971\n",
      "Epoch 50/200\n",
      "139/139 [==============================] - 0s 2ms/step - loss: 0.4526 - accuracy: 0.7996 - val_loss: 0.4679 - val_accuracy: 0.7976\n",
      "Epoch 51/200\n",
      "139/139 [==============================] - 0s 2ms/step - loss: 0.4409 - accuracy: 0.8048 - val_loss: 0.4655 - val_accuracy: 0.7992\n",
      "Epoch 52/200\n",
      "139/139 [==============================] - 0s 2ms/step - loss: 0.4430 - accuracy: 0.7978 - val_loss: 0.4702 - val_accuracy: 0.7965\n",
      "Epoch 53/200\n",
      "139/139 [==============================] - 0s 2ms/step - loss: 0.4426 - accuracy: 0.8000 - val_loss: 0.4772 - val_accuracy: 0.7960\n",
      "Epoch 54/200\n",
      "139/139 [==============================] - 0s 2ms/step - loss: 0.4398 - accuracy: 0.8030 - val_loss: 0.4824 - val_accuracy: 0.8018\n",
      "Epoch 55/200\n",
      "139/139 [==============================] - 0s 2ms/step - loss: 0.4325 - accuracy: 0.8048 - val_loss: 0.5025 - val_accuracy: 0.7992\n",
      "Epoch 56/200\n",
      "139/139 [==============================] - 0s 2ms/step - loss: 0.4306 - accuracy: 0.8070 - val_loss: 0.4843 - val_accuracy: 0.8034\n",
      "Epoch 57/200\n",
      "139/139 [==============================] - 0s 2ms/step - loss: 0.4285 - accuracy: 0.8077 - val_loss: 0.4659 - val_accuracy: 0.8060\n",
      "Epoch 58/200\n",
      "139/139 [==============================] - 0s 2ms/step - loss: 0.4319 - accuracy: 0.8055 - val_loss: 0.4795 - val_accuracy: 0.8049\n",
      "Epoch 59/200\n",
      "139/139 [==============================] - 0s 2ms/step - loss: 0.4259 - accuracy: 0.8120 - val_loss: 0.4787 - val_accuracy: 0.8049\n",
      "Epoch 60/200\n",
      "139/139 [==============================] - 0s 2ms/step - loss: 0.4240 - accuracy: 0.8066 - val_loss: 0.4790 - val_accuracy: 0.8049\n",
      "Epoch 61/200\n",
      "139/139 [==============================] - 0s 2ms/step - loss: 0.4224 - accuracy: 0.8102 - val_loss: 0.4820 - val_accuracy: 0.8076\n"
     ]
    },
    {
     "data": {
      "text/plain": [
       "RandomizedSearchCV(cv=2, error_score=nan,\n",
       "                   estimator=<keras.wrappers.scikit_learn.KerasClassifier object at 0x7fe22acff2d0>,\n",
       "                   iid='deprecated', n_iter=2, n_jobs=None,\n",
       "                   param_distributions={'n_hidden': [0, 1, 2, 3],\n",
       "                                        'n_neurons': [1, 10, 18]},\n",
       "                   pre_dispatch='2*n_jobs', random_state=None, refit=True,\n",
       "                   return_train_score=False, scoring=None, verbose=2)"
      ]
     },
     "execution_count": 110,
     "metadata": {},
     "output_type": "execute_result"
    }
   ],
   "source": [
    "rnd_search_cv.fit(X_train, y_train, epochs=200,\n",
    "                  validation_data=(X_val, y_val),\n",
    "                  callbacks=[keras.callbacks.EarlyStopping(patience=10)])"
   ]
  },
  {
   "cell_type": "code",
   "execution_count": 111,
   "metadata": {
    "id": "Fg6M5A5LmOgy"
   },
   "outputs": [],
   "source": [
    "prediction = rnd_search_cv.predict(X_val)"
   ]
  },
  {
   "cell_type": "code",
   "execution_count": 112,
   "metadata": {
    "id": "DKSgsEAXmT1L"
   },
   "outputs": [],
   "source": [
    "y_pred = []\n",
    "for element in prediction:\n",
    "    if element > 0.5:\n",
    "        y_pred.append(1)\n",
    "    else:\n",
    "        y_pred.append(0)"
   ]
  },
  {
   "cell_type": "code",
   "execution_count": 113,
   "metadata": {
    "colab": {
     "base_uri": "https://localhost:8080/"
    },
    "id": "jIlKNlzdmT_T",
    "outputId": "07c1e9b5-58b0-41db-e254-2307792061cc"
   },
   "outputs": [
    {
     "name": "stdout",
     "output_type": "stream",
     "text": [
      "              precision    recall  f1-score   support\n",
      "\n",
      "         0.0       0.68      0.54      0.60       514\n",
      "         1.0       0.84      0.90      0.87      1388\n",
      "\n",
      "    accuracy                           0.81      1902\n",
      "   macro avg       0.76      0.72      0.74      1902\n",
      "weighted avg       0.80      0.81      0.80      1902\n",
      "\n"
     ]
    }
   ],
   "source": [
    "print(classification_report(y_val,y_pred))"
   ]
  },
  {
   "cell_type": "code",
   "execution_count": 114,
   "metadata": {
    "colab": {
     "base_uri": "https://localhost:8080/",
     "height": 392
    },
    "id": "JBYXYPoAmUHV",
    "outputId": "b81d8a79-7d80-484f-9369-ce917166c763"
   },
   "outputs": [
    {
     "data": {
      "image/png": "[encoded data removed]",
      "text/plain": [
       "<Figure size 720x432 with 2 Axes>"
      ]
     },
     "metadata": {
      "needs_background": "light"
     },
     "output_type": "display_data"
    }
   ],
   "source": [
    "# Confusion Matrix Random Forest Classifier\n",
    "rnd_search_model = confusion_matrix(y_val, y_pred)\n",
    "plt.figure(figsize=(10, 6))\n",
    "plt.title(\"Confusion Matrix\", size=16)\n",
    "sns.heatmap(rnd_search_model, annot=True, cmap=\"Blues\");"
   ]
  },
  {
   "cell_type": "code",
   "execution_count": 115,
   "metadata": {
    "colab": {
     "base_uri": "https://localhost:8080/",
     "height": 414
    },
    "id": "qqkkt9j9mUPT",
    "outputId": "1b5b531a-8a86-435e-974b-cc40d00a9723"
   },
   "outputs": [
    {
     "name": "stdout",
     "output_type": "stream",
     "text": [
      "ROC Curve : \n"
     ]
    },
    {
     "data": {
      "image/png": "[encoded data removed]",
      "text/plain": [
       "<Figure size 720x432 with 1 Axes>"
      ]
     },
     "metadata": {
      "needs_background": "light"
     },
     "output_type": "display_data"
    }
   ],
   "source": [
    "# ROC Curve\n",
    "print(\"ROC Curve : \")\n",
    "plt.figure(figsize=(10, 6))                                    \n",
    "plt.axis([0, 1, 0, 1])                                    \n",
    "plt.xlabel('False Positive Rate (Fall-Out)', fontsize=16) \n",
    "plt.ylabel('True Positive Rate (Recall)', fontsize=16)    \n",
    "plt.grid(True)                                            \n",
    "plt.plot([0, 1], [0, 1], 'k--') # dashed diagonal\n",
    "labels=['rnd_search_cv']\n",
    "for idx,model in enumerate([model]):\n",
    "    y_scores = rnd_search_cv.predict(X_val)\n",
    "    fpr, tpr, thresholds = roc_curve(y_val, y_scores)\n",
    "    roc_auc = auc(fpr, tpr)\n",
    "    plt.plot(fpr, tpr, linewidth=2,label=labels[idx] + ' ROC curve (area = %0.2f)' % roc_auc)\n",
    "plt.legend(loc=\"lower right\");"
   ]
  },
  {
   "cell_type": "markdown",
   "metadata": {
    "id": "iKCVLC9vmUXy"
   },
   "source": [
    "### Analysis Model Improvement\n",
    "\n",
    "dari hasil model improvement dengan menggunakan RandomizedSearchCV dengan parameter sebagai berikut:\n",
    "    \n",
    "* \"n_hidden\": [0, 1, 2, 3],\n",
    "* \"n_neurons\": [1, 10, 18]\n",
    "\n",
    "didapatkan nilai evaluasi performa sebagai berikut:\n",
    "\n",
    "* menghasilkan score f1-score sebesar 0.84\n",
    "* menghasilkan ROC score sebesar 0.72"
   ]
  },
  {
   "cell_type": "markdown",
   "metadata": {
    "id": "z7ThRj-Hm2Tg"
   },
   "source": [
    "# Model Inference"
   ]
  },
  {
   "cell_type": "markdown",
   "metadata": {
    "id": "5qj5ghxSHtWj"
   },
   "source": [
    "#### Membuat data baru"
   ]
  },
  {
   "cell_type": "code",
   "execution_count": 116,
   "metadata": {
    "id": "vyubpigIHxxS"
   },
   "outputs": [],
   "source": [
    "values_1 = [ 0.099621, 1.464178, 1.565390, -0.589708, 1.591976, 1.592129, -1.304150, -1.014533, 1.560927,  1.034873, 1.558650, -0.842283, -1.044626, 1.560164, -0.444186,  1.535598, 1.537274, 1.536767, -0.32254]\n",
    "values_2 = [-0.308466, 1.464178, 1.565390, -0.703359, 1.591976, 1.592129, -1.325681, -1.014533, 1.560927, -0.966302, 1.558650,  1.187249, -1.044626, 1.560164, -0.444186, -0.651212, 1.537274, 1.536767, -0.32254]"
   ]
  },
  {
   "cell_type": "code",
   "execution_count": 117,
   "metadata": {
    "id": "jwiRiBocHx3n"
   },
   "outputs": [],
   "source": [
    "values = [ values_1, values_2]"
   ]
  },
  {
   "cell_type": "code",
   "execution_count": 118,
   "metadata": {
    "id": "DErdVlx5IDIb"
   },
   "outputs": [],
   "source": [
    "data_dummies = pd.DataFrame(values, columns=['tenure', 'PaymentMethod', 'Contract', 'TotalCharges', 'OnlineSecurity',\n",
    "       'TechSupport', 'MonthlyCharges', 'gender', 'InternetService', 'Partner',\n",
    "       'OnlineBackup', 'PaperlessBilling', 'MultipleLines', 'DeviceProtection',\n",
    "       'SeniorCitizen', 'Dependents', 'StreamingTV', 'StreamingMovies', 'PhoneService'])"
   ]
  },
  {
   "cell_type": "markdown",
   "metadata": {
    "id": "VNEcdgCiIHO2"
   },
   "source": [
    "#### Melihat data baru"
   ]
  },
  {
   "cell_type": "code",
   "execution_count": 119,
   "metadata": {
    "colab": {
     "base_uri": "https://localhost:8080/",
     "height": 131
    },
    "id": "RqFvWdNkIJzl",
    "outputId": "3ef9ffd8-b1b0-4b68-dcf5-ab511e3f6a52"
   },
   "outputs": [
    {
     "data": {
      "text/html": [
       "<div>\n",
       "<style scoped>\n",
       "    .dataframe tbody tr th:only-of-type {\n",
       "        vertical-align: middle;\n",
       "    }\n",
       "\n",
       "    .dataframe tbody tr th {\n",
       "        vertical-align: top;\n",
       "    }\n",
       "\n",
       "    .dataframe thead th {\n",
       "        text-align: right;\n",
       "    }\n",
       "</style>\n",
       "<table border=\"1\" class=\"dataframe\">\n",
       "  <thead>\n",
       "    <tr style=\"text-align: right;\">\n",
       "      <th></th>\n",
       "      <th>tenure</th>\n",
       "      <th>PaymentMethod</th>\n",
       "      <th>Contract</th>\n",
       "      <th>TotalCharges</th>\n",
       "      <th>OnlineSecurity</th>\n",
       "      <th>TechSupport</th>\n",
       "      <th>MonthlyCharges</th>\n",
       "      <th>gender</th>\n",
       "      <th>InternetService</th>\n",
       "      <th>Partner</th>\n",
       "      <th>OnlineBackup</th>\n",
       "      <th>PaperlessBilling</th>\n",
       "      <th>MultipleLines</th>\n",
       "      <th>DeviceProtection</th>\n",
       "      <th>SeniorCitizen</th>\n",
       "      <th>Dependents</th>\n",
       "      <th>StreamingTV</th>\n",
       "      <th>StreamingMovies</th>\n",
       "      <th>PhoneService</th>\n",
       "    </tr>\n",
       "  </thead>\n",
       "  <tbody>\n",
       "    <tr>\n",
       "      <th>0</th>\n",
       "      <td>0.099621</td>\n",
       "      <td>1.464178</td>\n",
       "      <td>1.56539</td>\n",
       "      <td>-0.589708</td>\n",
       "      <td>1.591976</td>\n",
       "      <td>1.592129</td>\n",
       "      <td>-1.304150</td>\n",
       "      <td>-1.014533</td>\n",
       "      <td>1.560927</td>\n",
       "      <td>1.034873</td>\n",
       "      <td>1.55865</td>\n",
       "      <td>-0.842283</td>\n",
       "      <td>-1.044626</td>\n",
       "      <td>1.560164</td>\n",
       "      <td>-0.444186</td>\n",
       "      <td>1.535598</td>\n",
       "      <td>1.537274</td>\n",
       "      <td>1.536767</td>\n",
       "      <td>-0.32254</td>\n",
       "    </tr>\n",
       "    <tr>\n",
       "      <th>1</th>\n",
       "      <td>-0.308466</td>\n",
       "      <td>1.464178</td>\n",
       "      <td>1.56539</td>\n",
       "      <td>-0.703359</td>\n",
       "      <td>1.591976</td>\n",
       "      <td>1.592129</td>\n",
       "      <td>-1.325681</td>\n",
       "      <td>-1.014533</td>\n",
       "      <td>1.560927</td>\n",
       "      <td>-0.966302</td>\n",
       "      <td>1.55865</td>\n",
       "      <td>1.187249</td>\n",
       "      <td>-1.044626</td>\n",
       "      <td>1.560164</td>\n",
       "      <td>-0.444186</td>\n",
       "      <td>-0.651212</td>\n",
       "      <td>1.537274</td>\n",
       "      <td>1.536767</td>\n",
       "      <td>-0.32254</td>\n",
       "    </tr>\n",
       "  </tbody>\n",
       "</table>\n",
       "</div>"
      ],
      "text/plain": [
       "     tenure  PaymentMethod  ...  StreamingMovies  PhoneService\n",
       "0  0.099621       1.464178  ...         1.536767      -0.32254\n",
       "1 -0.308466       1.464178  ...         1.536767      -0.32254\n",
       "\n",
       "[2 rows x 19 columns]"
      ]
     },
     "execution_count": 119,
     "metadata": {},
     "output_type": "execute_result"
    }
   ],
   "source": [
    "data_dummies"
   ]
  },
  {
   "cell_type": "markdown",
   "metadata": {
    "id": "2gpmkBy-Irux"
   },
   "source": [
    "#### Melakukan prediksi dengan data baru"
   ]
  },
  {
   "cell_type": "code",
   "execution_count": 120,
   "metadata": {
    "colab": {
     "base_uri": "https://localhost:8080/"
    },
    "id": "1NMteci2IDUJ",
    "outputId": "64f1cc37-9d5e-47f7-ab44-da192d0c673f"
   },
   "outputs": [
    {
     "name": "stdout",
     "output_type": "stream",
     "text": [
      "Hasil Klasifikasi model Neural Network: \n",
      "\n",
      "Pelanggan 1 memiliki peluang untuk bertahan dengan provider\n",
      "pelanggan 2 memiliki peluang untuk berpindah dari provider\n"
     ]
    }
   ],
   "source": [
    "predictions = model.predict(data_dummies)\n",
    "\n",
    "for element in predictions:\n",
    "    if element > 0.5:\n",
    "        y_pred.append(1)\n",
    "    else:\n",
    "        y_pred.append(0)\n",
    "\n",
    "\n",
    "print(\"Hasil Klasifikasi model Neural Network: \\n\")\n",
    "\n",
    "if y_pred[0] == 0:\n",
    "  print(\"Pelanggan 1 memiliki peluang untuk bertahan dengan provider\")\n",
    "else:\n",
    "  print(\"pelanggan 1 memiliki peluang untuk berpindah dari provider\")\n",
    "\n",
    "if y_pred[1] == 0:\n",
    "  print(\"Pelanggan 2 memiliki peluang untuk bertahan dengan provider\")\n",
    "else:\n",
    "  print(\"pelanggan 2 memiliki peluang untuk berpindah dari provider\")"
   ]
  },
  {
   "cell_type": "markdown",
   "metadata": {
    "id": "b8DGO8Ta8lrD"
   },
   "source": [
    "### Analysis Model Inference"
   ]
  },
  {
   "cell_type": "markdown",
   "metadata": {
    "id": "XUzsp5pK8lrD"
   },
   "source": [
    "dari hasil mencoba data baru untuk melakukan prediksi menggunakan model Artificial Neural Network ditarik informasi sebagai berikut:\n",
    "\n",
    "* dari hasil percobaan dapat diperoleh informasi bahwa feature tenure, MonthlyCharges, TotalCharges, Partner, PaperlessBilling dan Dependents memiliki pengaruh terhadap peluang pelanggan untuk bertahan atau berganti provider telco"
   ]
  },
  {
   "cell_type": "markdown",
   "metadata": {
    "id": "JoQ7I11Hm2Tg"
   },
   "source": [
    "# Model Analysis"
   ]
  },
  {
   "cell_type": "markdown",
   "metadata": {
    "id": "E1bFOquym2Tg"
   },
   "source": [
    "Berdasarkan hasil analysis dengan menggunakan model inferent dan Explorasi Data Analysis terdapat beberapa informasi yang bisa dijadikan pertimbangan oleh perusahaan untuk dapat mencegah konsumen agar tidak berpindah provider, informasi tersebut adalah:\n",
    "\n",
    "#### Feature tenure\n",
    "* Dari Visualisasi telihat bahwa pelanggan yang beralih adalah pelanggan yang telah berlangganan dalam rentang waktu 0 sampai 20 bulan\n",
    "* Dari informasi tersebut perusahaan bisa lebih memperhatikan pelanggan dengan rentang waktu berlangganan antara 0 sampai 20 bulan\n",
    "\n",
    "\n",
    "#### Feature MonthlyCharges\n",
    "* Dari Visualisasi telihat bahwa pelanggan yang beralih adalah pelanggan memiliki rentang tagihan pembayaran perbulan antara 70 sampai dengan 110\n",
    "* Dari informasi tersebut perusahaan bisa lebih memperhatikan pelanggan dengan rentang tagihan pembayaran perbulan antara 70 sampai dengan 110\n",
    "\n",
    "#### Feature  TotalCharges\n",
    "* Dari visualisasi terlihat bahwa pelanggan yang beralih adalah yang memiliki beban total tagihan dalam rentang 0 sampai 2000 \n",
    "* Dari informasi tersebut perusahaan bisa lebih memperhatikan pelanggan dengan rentang beban total tagihan antara 0 sampai 2000\n",
    "\n",
    "\n",
    "#### Feature Partner\n",
    "* Dari visualisasi terlihat bahwa pelanggan yang beralih adalah didominasi oleh pelanggan yang belum memiliki partners\n",
    "* Dari informasi tersebut perusahaan bisa lebih memperhatikan pelanggan yang belum memiliki partners\n",
    "\n",
    "#### Feature PaperlessBilling\n",
    "* Dari visualisasi terlihat bahwa pelanggan yang beralih didominasi oleh pelanggan yang mendapatkan tagihan berupa kertas (PaperlessBilling)\n",
    "* Dari informasi tersebut perusahaan bisa lebih memperhatikan pelanggan yang mendapatkan tagihan berupa kertas (PaperlessBilling)\n",
    "\n",
    "#### Feature Dependents\n",
    "* Dari visualisasi terlihat bahwa pelanggan yang beralih didominasi oleh pelanggan yang belum memiliki tanggungan (dependents)\n",
    "* Dari informasi tersebut perusahaan bisa lebih memperhatikan pelanggan yang belum memiliki tanggungan (dependents)\n"
   ]
  }
 ],
 "metadata": {
  "colab": {
   "collapsed_sections": [
    "14uvGpGDwOqi",
    "QaqySskCyIm3",
    "-ToVdMvdQ4JV",
    "yxok8STwQ4JW",
    "frPaXl4xyeR_",
    "dZJmILQJQ4JX",
    "_VCMcOPpQ4JZ",
    "LK9S5OuEQ4Ja",
    "4IjMD3wSQ4Jb",
    "atlWv5knQ4Jb",
    "u59fer6uQ4Jc",
    "VlmensQrQ4Jd",
    "OieloSU6Q4Je",
    "nSDexUM2Q4Jf",
    "FL-38lHCQ4Jg",
    "FsGijoWvQ4Jh",
    "-fPFPJz0Q4Ji",
    "duSBCFkKm2S5",
    "K6dkn84vm2S7",
    "8LBfMLG1m2S8",
    "DegQRIDgm2S8",
    "l_dtVWHam2S9",
    "JvGPIXSdm2S-",
    "_MUjf8D-m2S_",
    "TGyoln2Xm2TA",
    "9i5cxvZ7m2TB",
    "XXzr4qRzm2TC",
    "hhpMdvmUm2TD",
    "YS0vbKILm2TD",
    "Rhm68dDHQ4Jn",
    "VyVQdzpuQ4Jn",
    "Fn7-F2pjQ4Jo",
    "9VDgzpTsQ4Jp",
    "Qdny0-SJQ4Jp",
    "p4JqivJtQ4Jr",
    "hFiy1d6mQ4Jr",
    "3G3Y4YS0Q4Js",
    "e0oMGlWlQ4Js",
    "SfCHuDMkQ4Jt",
    "Wqt1uTsHQ4Jt",
    "12abEIn0Q4Ju",
    "bo1z3nDgQ4Jv",
    "xFrDwx90Q4Jw",
    "cIQMu-j3Q4Jx",
    "zfcxM-S9Q4Jy",
    "OJQv4Qh2Q4Jz",
    "zIa-zocHm2TP",
    "7keZrkl8Q4J1",
    "4m0fKa6gyGo2",
    "03QgcsWjASyG",
    "pVBdr7jbm2TR",
    "yGunocCsm2TR",
    "hcM71Jmwbvf3",
    "HllN2WgBcKVz",
    "2TTFOsdqd7Q-",
    "OaR_QOQD8lq6",
    "iKCVLC9vmUXy"
   ],
   "name": "h8dsft_Milestone1P2.ipynb",
   "provenance": []
  },
  "kernelspec": {
   "display_name": "Python 3 (ipykernel)",
   "language": "python",
   "name": "python3"
  },
  "language_info": {
   "codemirror_mode": {
    "name": "ipython",
    "version": 3
   },
   "file_extension": ".py",
   "mimetype": "text/x-python",
   "name": "python",
   "nbconvert_exporter": "python",
   "pygments_lexer": "ipython3",
   "version": "3.9.6"
  }
 },
 "nbformat": 4,
 "nbformat_minor": 1
}
